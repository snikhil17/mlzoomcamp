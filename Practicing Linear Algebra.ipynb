{
 "cells": [
  {
   "cell_type": "code",
   "execution_count": 1,
   "id": "reduced-young",
   "metadata": {},
   "outputs": [],
   "source": [
    "import numpy as np"
   ]
  },
  {
   "cell_type": "code",
   "execution_count": 14,
   "id": "quality-storage",
   "metadata": {},
   "outputs": [],
   "source": [
    "u = np.array([2, 4, 5, 6])\n",
    "v = np.array([1, 0, 0, 2])"
   ]
  },
  {
   "cell_type": "markdown",
   "id": "naval-moment",
   "metadata": {},
   "source": [
    "- The **dot product** or also known as the **scalar product** is an algebraic operation that takes **two equal-length sequences** of numbers and returns a single number. \n",
    "- Let us consider given two vectors A and B, and we have to find the dot product of two vectors.\n",
    "\n",
    "- Given that, \n",
    "\n",
    "#### A = $a_1i + a_2j + a_3k$ and\n",
    "\n",
    "#### B = $b_1i + b_2j + b_3k$\n",
    "\n",
    "    Where,\n",
    "\n",
    "    i: the unit vector along the x directions\n",
    "\n",
    "    j: the unit vector along the y directions\n",
    "\n",
    "    k: the unit vector along the z directions\n",
    "\n",
    "### Then the dot product is calculated as:\n",
    "## DotProduct = $a_1 * b_1 + a_2 * b_2 + a_3 * b_3$\n",
    " \n"
   ]
  },
  {
   "cell_type": "markdown",
   "id": "combined-outdoors",
   "metadata": {},
   "source": [
    "## Implementing dot product without using numpy\n",
    "- **assert:** The Python assert keyword tests if a condition is true. If a condition is false, the program will stop with an optional message. Assert statements are used to debug code and handle errors. You should not use an assert statement in a production environment."
   ]
  },
  {
   "cell_type": "code",
   "execution_count": 6,
   "id": "defined-crash",
   "metadata": {},
   "outputs": [
    {
     "data": {
      "text/plain": [
       "14.0"
      ]
     },
     "execution_count": 6,
     "metadata": {},
     "output_type": "execute_result"
    }
   ],
   "source": [
    "def vec_vec_multiplication(u,v):\n",
    "    assert u.shape[0] == v.shape[0]   # Checking if the shape of u and v vectors are same\n",
    "    n = u.shape[0]                    # declaring number of times our for loop should run == number of rows. \n",
    "                                      # Since both rows same, we can use any of u or v\n",
    "    result = 0.0                      # Declaring the variable called result.\n",
    "    for i in range(n):                # Creating a for loop to multiply components of u and v\n",
    "        result += u[i]*v[i]           # Adding the result to take care of the addition step of Dot Product\n",
    "    return result\n",
    "\n",
    "vec_vec_multiplication(u,v)           # Checking the function on two vectors u and v "
   ]
  },
  {
   "cell_type": "markdown",
   "id": "caring-promise",
   "metadata": {},
   "source": [
    "## Dot product using numpy\n",
    "\n",
    "- Python provides a very efficient method to calculate the dot product of two vectors. \n",
    "- By using numpy.dot() method which is available in the NumPy module one can do so.\n",
    "    \n",
    "### Syntax:\n",
    "\n",
    "- numpy.dot(vector_a, vector_b, out = None)\n",
    "\n",
    "### Parameters:\n",
    "- vector_a: [array_like] if a is complex its complex conjugate is used for the calculation of the dot product.\n",
    "- vector_b: [array_like] if b is complex its complex conjugate is used for the calculation of the dot product.\n",
    "- out: [array, optional] output argument must be C-contiguous, and its dtype must be the dtype that would be returned for dot(a,b).\n",
    "\n",
    "### Return:\n",
    "- Dot Product of vectors a and b. if vector_a and vector_b are 1D, then scalar is returned"
   ]
  },
  {
   "cell_type": "code",
   "execution_count": 8,
   "id": "material-jungle",
   "metadata": {},
   "outputs": [
    {
     "data": {
      "text/plain": [
       "14"
      ]
     },
     "execution_count": 8,
     "metadata": {},
     "output_type": "execute_result"
    }
   ],
   "source": [
    "u.dot(v)"
   ]
  },
  {
   "cell_type": "markdown",
   "id": "oriented-label",
   "metadata": {},
   "source": [
    "## Matrix and Vector dot product \n"
   ]
  },
  {
   "cell_type": "code",
   "execution_count": 22,
   "id": "neural-coach",
   "metadata": {
    "scrolled": true
   },
   "outputs": [
    {
     "data": {
      "text/plain": [
       "(3, 4)"
      ]
     },
     "execution_count": 22,
     "metadata": {},
     "output_type": "execute_result"
    }
   ],
   "source": [
    "U = np.array([\n",
    "    [2, 4, 5, 6],\n",
    "    [1, 2, 1, 2],\n",
    "    [3, 1, 2, 1],\n",
    "])\n",
    "\n",
    "U.shape"
   ]
  },
  {
   "cell_type": "markdown",
   "id": "pursuant-crystal",
   "metadata": {},
   "source": [
    "### Matrix-Vector Multiplication (Dot Product) implementation"
   ]
  },
  {
   "cell_type": "code",
   "execution_count": 18,
   "id": "quantitative-savage",
   "metadata": {},
   "outputs": [
    {
     "data": {
      "text/plain": [
       "array([14.,  5.,  5.])"
      ]
     },
     "execution_count": 18,
     "metadata": {},
     "output_type": "execute_result"
    }
   ],
   "source": [
    "def matrix_vector_multiplication(U,v):\n",
    "    assert U.shape[1] == v.shape[0]                         # Checking the condition that num of cols in U == num of rows in v\n",
    "    \n",
    "    num_rows = U.shape[0]                                   # Creating a variable for number of rows, loop runs these many times\n",
    "    resultant_vector = np.zeros(num_rows)                   # Creating an array of zeros with num of rows = final vector\n",
    "    \n",
    "    for i in range(num_rows):                               # Looping over the num_rows\n",
    "        resultant_vector[i] = vec_vec_multiplication(U[i],v)# using Dot product formula: Ui*vi\n",
    "    return resultant_vector     \n",
    "\n",
    "matrix_vector_multiplication(U, v)                          # calling the function of Matrix U and vector v\n",
    "\n"
   ]
  },
  {
   "cell_type": "markdown",
   "id": "bright-adelaide",
   "metadata": {},
   "source": [
    "### Dot product using numpy"
   ]
  },
  {
   "cell_type": "code",
   "execution_count": 19,
   "id": "allied-multimedia",
   "metadata": {},
   "outputs": [
    {
     "data": {
      "text/plain": [
       "array([14,  5,  5])"
      ]
     },
     "execution_count": 19,
     "metadata": {},
     "output_type": "execute_result"
    }
   ],
   "source": [
    "U.dot(v)"
   ]
  },
  {
   "cell_type": "markdown",
   "id": "quiet-block",
   "metadata": {},
   "source": [
    "## Matrix-Matrix Multiplication (Dot Product) implementation"
   ]
  },
  {
   "cell_type": "code",
   "execution_count": 20,
   "id": "bottom-statement",
   "metadata": {},
   "outputs": [],
   "source": [
    "V = np.array([\n",
    "    [1, 1, 2],\n",
    "    [0, 0.5, 1], \n",
    "    [0, 2, 1],\n",
    "    [2, 1, 0],\n",
    "])"
   ]
  },
  {
   "cell_type": "code",
   "execution_count": 23,
   "id": "liquid-warrior",
   "metadata": {
    "scrolled": true
   },
   "outputs": [
    {
     "data": {
      "text/plain": [
       "array([[14. , 20. , 13. ],\n",
       "       [ 5. ,  6. ,  5. ],\n",
       "       [ 5. ,  8.5,  9. ]])"
      ]
     },
     "execution_count": 23,
     "metadata": {},
     "output_type": "execute_result"
    }
   ],
   "source": [
    "def matrix_matrix_multiplication(U,V):\n",
    "    assert U.shape[1] == V.shape[0]               # Checking the condition that num of cols in U == num of rows in v\n",
    "    \n",
    "    num_rows = U.shape[0]                         # Creating a variable for number of rows, loop runs from here\n",
    "    num_cols = V.shape[1]                         # Creating a variable for number of cols, loop runs till here.\n",
    "    \n",
    "    resutant_matrix = np.zeros((num_rows, num_cols)) # Creating an array of zeros with num of rows = final vector\n",
    "    \n",
    "    for i in range(num_cols):\n",
    "        vi = V[:,i]                               # Need to multiply U*V0 for the first column, hence creating Vi to generalize\n",
    "        Uvi = matrix_vector_multiplication(U,vi)  # Performing Matrix(U) and vector(vi)\n",
    "        resutant_matrix[:, i] = Uvi               # Updating columns in the zeros matrix created outside the loop.\n",
    "    \n",
    "    return resutant_matrix\n",
    "\n",
    "\n",
    "matrix_matrix_multiplication(U, V)"
   ]
  },
  {
   "cell_type": "markdown",
   "id": "comparable-article",
   "metadata": {},
   "source": [
    "## Using numpy to perform dot product of two matrix"
   ]
  },
  {
   "cell_type": "code",
   "execution_count": 24,
   "id": "liquid-class",
   "metadata": {},
   "outputs": [
    {
     "data": {
      "text/plain": [
       "array([[14. , 20. , 13. ],\n",
       "       [ 5. ,  6. ,  5. ],\n",
       "       [ 5. ,  8.5,  9. ]])"
      ]
     },
     "execution_count": 24,
     "metadata": {},
     "output_type": "execute_result"
    }
   ],
   "source": [
    "U.dot(V)"
   ]
  },
  {
   "cell_type": "markdown",
   "id": "waiting-venice",
   "metadata": {},
   "source": [
    "## Identity matrix"
   ]
  },
  {
   "cell_type": "code",
   "execution_count": 25,
   "id": "forward-affiliate",
   "metadata": {},
   "outputs": [],
   "source": [
    "I = np.eye(3)"
   ]
  },
  {
   "cell_type": "code",
   "execution_count": 26,
   "id": "small-carpet",
   "metadata": {
    "scrolled": true
   },
   "outputs": [
    {
     "data": {
      "text/plain": [
       "array([[1. , 1. , 2. ],\n",
       "       [0. , 0.5, 1. ],\n",
       "       [0. , 2. , 1. ],\n",
       "       [2. , 1. , 0. ]])"
      ]
     },
     "execution_count": 26,
     "metadata": {},
     "output_type": "execute_result"
    }
   ],
   "source": [
    "V"
   ]
  },
  {
   "cell_type": "markdown",
   "id": "compound-liver",
   "metadata": {},
   "source": [
    "## Inverse:\n",
    "### The concept of inverse of a matrix is a multidimensional generalization of the concept of reciprocal of a number:\n",
    "- **the product between a number and its reciprocal is equal to 1;**\n",
    "- **the product between a square matrix and its inverse is equal to the identity matrix.**\n",
    "\n",
    "## Inverse of matrix using numpy\n",
    "### np.linalg.inv() \n",
    "- **Compute the (multiplicative) inverse of a matrix.**"
   ]
  },
  {
   "cell_type": "code",
   "execution_count": 27,
   "id": "palestinian-jersey",
   "metadata": {
    "scrolled": true
   },
   "outputs": [
    {
     "data": {
      "text/plain": [
       "array([[1. , 1. , 2. ],\n",
       "       [0. , 0.5, 1. ],\n",
       "       [0. , 2. , 1. ]])"
      ]
     },
     "execution_count": 27,
     "metadata": {},
     "output_type": "execute_result"
    }
   ],
   "source": [
    "Vs = V[[0, 1, 2]]\n",
    "Vs"
   ]
  },
  {
   "cell_type": "code",
   "execution_count": 28,
   "id": "announced-charger",
   "metadata": {},
   "outputs": [
    {
     "data": {
      "text/plain": [
       "array([[ 1.        , -2.        ,  0.        ],\n",
       "       [ 0.        , -0.66666667,  0.66666667],\n",
       "       [ 0.        ,  1.33333333, -0.33333333]])"
      ]
     },
     "execution_count": 28,
     "metadata": {},
     "output_type": "execute_result"
    }
   ],
   "source": [
    "Vs_inv = np.linalg.inv(Vs) \n",
    "Vs_inv"
   ]
  },
  {
   "cell_type": "code",
   "execution_count": 29,
   "id": "distinct-bridges",
   "metadata": {},
   "outputs": [
    {
     "data": {
      "text/plain": [
       "array([[1., 0., 0.],\n",
       "       [0., 1., 0.],\n",
       "       [0., 0., 1.]])"
      ]
     },
     "execution_count": 29,
     "metadata": {},
     "output_type": "execute_result"
    }
   ],
   "source": [
    "Vs_inv.dot(Vs)"
   ]
  }
 ],
 "metadata": {
  "kernelspec": {
   "display_name": "Python 3",
   "language": "python",
   "name": "python3"
  },
  "language_info": {
   "codemirror_mode": {
    "name": "ipython",
    "version": 3
   },
   "file_extension": ".py",
   "mimetype": "text/x-python",
   "name": "python",
   "nbconvert_exporter": "python",
   "pygments_lexer": "ipython3",
   "version": "3.8.5"
  }
 },
 "nbformat": 4,
 "nbformat_minor": 5
}
