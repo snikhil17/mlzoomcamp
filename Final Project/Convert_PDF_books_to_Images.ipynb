{
  "nbformat": 4,
  "nbformat_minor": 0,
  "metadata": {
    "colab": {
      "name": "Convert_PDF_books_to_Images.ipynb",
      "provenance": [],
      "authorship_tag": "ABX9TyNvlr/IQv+ZVK+aPGkRDuzX",
      "include_colab_link": true
    },
    "kernelspec": {
      "name": "python3",
      "display_name": "Python 3"
    },
    "language_info": {
      "name": "python"
    }
  },
  "cells": [
    {
      "cell_type": "markdown",
      "metadata": {
        "id": "view-in-github",
        "colab_type": "text"
      },
      "source": [
        "<a href=\"https://colab.research.google.com/github/snikhil17/mlzoomcamp/blob/main/Final%20Project/Convert_PDF_books_to_Images.ipynb\" target=\"_parent\"><img src=\"https://colab.research.google.com/assets/colab-badge.svg\" alt=\"Open In Colab\"/></a>"
      ]
    },
    {
      "cell_type": "code",
      "source": [
        "!pip install pdf2image\n",
        "!apt-get install poppler-utils "
      ],
      "metadata": {
        "id": "uOXTEFll1lm3"
      },
      "execution_count": null,
      "outputs": []
    },
    {
      "cell_type": "code",
      "execution_count": 6,
      "metadata": {
        "id": "gcA9yS8b0YeU"
      },
      "outputs": [],
      "source": [
        "from pdf2image import convert_from_path\n",
        "pages = convert_from_path('book2.pdf', 150)"
      ]
    },
    {
      "cell_type": "code",
      "source": [
        "!mkdir '/content/funny_images1'"
      ],
      "metadata": {
        "id": "DI44HSXm51Fx"
      },
      "execution_count": 12,
      "outputs": []
    },
    {
      "cell_type": "code",
      "source": [
        "books = ['book2.pdf', 'book3.pdf']\n",
        "for book in books:\n",
        "  pages = convert_from_path(book, 150)\n",
        "  for i,page in enumerate(pages):\n",
        "    if book == 'book2.pdf':\n",
        "      page.save(f'/content/funny_images0/out_{i}.jpg', 'JPEG')\n",
        "    elif book == 'book3.pdf':\n",
        "      page.save(f'/content/funny_images1/out_{i}.jpg', 'JPEG')\n"
      ],
      "metadata": {
        "id": "oV0p2MuM-UVq"
      },
      "execution_count": 13,
      "outputs": []
    },
    {
      "cell_type": "code",
      "source": [
        "!zip -r funny_images1.zip funny_images1/"
      ],
      "metadata": {
        "id": "AYA1pR5z-Uzo"
      },
      "execution_count": null,
      "outputs": []
    }
  ]
}