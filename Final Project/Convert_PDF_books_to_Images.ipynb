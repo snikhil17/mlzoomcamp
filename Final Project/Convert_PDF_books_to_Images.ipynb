{
  "nbformat": 4,
  "nbformat_minor": 0,
  "metadata": {
    "colab": {
      "name": "Convert_PDF_books_to_Images.ipynb",
      "provenance": [],
      "mount_file_id": "https://github.com/snikhil17/mlzoomcamp/blob/main/Final%20Project/Convert_PDF_books_to_Images.ipynb",
      "authorship_tag": "ABX9TyNvqbvYJBpBAzQTufIWLn5W",
      "include_colab_link": true
    },
    "kernelspec": {
      "name": "python3",
      "display_name": "Python 3"
    },
    "language_info": {
      "name": "python"
    }
  },
  "cells": [
    {
      "cell_type": "markdown",
      "metadata": {
        "id": "view-in-github",
        "colab_type": "text"
      },
      "source": [
        "<a href=\"https://colab.research.google.com/github/snikhil17/mlzoomcamp/blob/main/Final%20Project/Convert_PDF_books_to_Images.ipynb\" target=\"_parent\"><img src=\"https://colab.research.google.com/assets/colab-badge.svg\" alt=\"Open In Colab\"/></a>"
      ]
    },
    {
      "cell_type": "code",
      "source": [
        "!pip install pdf2image\n",
        "!apt-get install poppler-utils "
      ],
      "metadata": {
        "id": "uOXTEFll1lm3"
      },
      "execution_count": null,
      "outputs": []
    },
    {
      "cell_type": "code",
      "execution_count": null,
      "metadata": {
        "id": "gcA9yS8b0YeU"
      },
      "outputs": [],
      "source": [
        "from pdf2image import convert_from_path\n",
        "pages = convert_from_path('book2.pdf', 150)"
      ]
    },
    {
      "cell_type": "code",
      "source": [
        "!mkdir '/content/funny_images1'"
      ],
      "metadata": {
        "id": "DI44HSXm51Fx"
      },
      "execution_count": null,
      "outputs": []
    },
    {
      "cell_type": "code",
      "source": [
        "books = ['book2.pdf', 'book3.pdf']\n",
        "for book in books:\n",
        "  pages = convert_from_path(book, 150)\n",
        "  for i,page in enumerate(pages):\n",
        "    if book == 'book2.pdf':\n",
        "      page.save(f'/content/funny_images0/out_{i}.jpg', 'JPEG')\n",
        "    elif book == 'book3.pdf':\n",
        "      page.save(f'/content/funny_images1/out_{i}.jpg', 'JPEG')\n"
      ],
      "metadata": {
        "id": "oV0p2MuM-UVq"
      },
      "execution_count": null,
      "outputs": []
    },
    {
      "cell_type": "code",
      "source": [
        "!zip -r funny_images1.zip funny_images1/"
      ],
      "metadata": {
        "id": "AYA1pR5z-Uzo"
      },
      "execution_count": null,
      "outputs": []
    },
    {
      "cell_type": "markdown",
      "source": [
        "## **Connecting to drive**"
      ],
      "metadata": {
        "id": "ROOf_MQrovDV"
      }
    },
    {
      "cell_type": "code",
      "source": [
        "!sudo apt install tesseract-ocr\n",
        "!pip install pytesseract"
      ],
      "metadata": {
        "id": "eoQERoFSor3l"
      },
      "execution_count": null,
      "outputs": []
    },
    {
      "cell_type": "code",
      "source": [
        "import pytesseract\n",
        "import shutil\n",
        "import os\n",
        "import random\n",
        "try:\n",
        "  from PIL import Image\n",
        "except ImportError:\n",
        "  import Image"
      ],
      "metadata": {
        "id": "6hMjiu1wouKA"
      },
      "execution_count": 3,
      "outputs": []
    },
    {
      "cell_type": "code",
      "source": [
        "final_jokes_best_joke_book = []\n",
        "for i in range(5,181):\n",
        "  image = f'/content/drive/MyDrive/final project data/Pages of books/funny_images0/out_{i}.jpg'\n",
        "  extracted_text = pytesseract.image_to_string(Image.open(image))\n",
        "  final_jokes_best_joke_book.append(extracted_text)"
      ],
      "metadata": {
        "id": "yNnY2Iokp7N5"
      },
      "execution_count": 7,
      "outputs": []
    },
    {
      "cell_type": "code",
      "source": [
        "best_quotes_of_all_time = []\n",
        "for i in range(10,205):\n",
        "  image = f'/content/drive/MyDrive/final project data/Pages of books/motivational_images2/out_{i}.jpg'\n",
        "  extracted_text = pytesseract.image_to_string(Image.open(image))\n",
        "  best_quotes_of_all_time.append(extracted_text)"
      ],
      "metadata": {
        "id": "ucj8AThUwej8"
      },
      "execution_count": 8,
      "outputs": []
    },
    {
      "cell_type": "code",
      "source": [
        "motivational_quotes = []\n",
        "for i in range(4,264):\n",
        "  image = f'/content/drive/MyDrive/final project data/Pages of books/motivational_images/out_{i}.jpg'\n",
        "  extracted_text = pytesseract.image_to_string(Image.open(image))\n",
        "  motivational_quotes.append(extracted_text)"
      ],
      "metadata": {
        "id": "l7YwR2A33XLT"
      },
      "execution_count": 5,
      "outputs": []
    },
    {
      "cell_type": "code",
      "source": [
        "with open('readme.txt', 'w') as f:\n",
        "    f.write(\" \".join(final_jokes_best_joke_book))"
      ],
      "metadata": {
        "id": "BmvzvnI_p_5_"
      },
      "execution_count": 9,
      "outputs": []
    },
    {
      "cell_type": "code",
      "source": [
        "with open('best_quotes_of_all_time.txt', 'w') as f:\n",
        "    f.write(\" \".join(best_quotes_of_all_time))"
      ],
      "metadata": {
        "id": "Bz6mVPwOqJ1k"
      },
      "execution_count": 10,
      "outputs": []
    },
    {
      "cell_type": "code",
      "source": [
        "with open('motivational_quotes.txt', 'w') as f:\n",
        "    f.write(\" \".join(motivational_quotes))"
      ],
      "metadata": {
        "id": "gIX2zR_kqRR6"
      },
      "execution_count": 6,
      "outputs": []
    }
  ]
}