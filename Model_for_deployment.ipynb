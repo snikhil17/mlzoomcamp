{
  "nbformat": 4,
  "nbformat_minor": 0,
  "metadata": {
    "kernelspec": {
      "language": "python",
      "display_name": "Python 3",
      "name": "python3"
    },
    "language_info": {
      "pygments_lexer": "ipython3",
      "nbconvert_exporter": "python",
      "version": "3.6.4",
      "file_extension": ".py",
      "codemirror_mode": {
        "name": "ipython",
        "version": 3
      },
      "name": "python",
      "mimetype": "text/x-python"
    },
    "colab": {
      "name": "ch-4-evaluation-metrics-for-classification.ipynb",
      "provenance": []
    },
    "widgets": {
      "application/vnd.jupyter.widget-state+json": {
        "e88da83e80bb4b25964ae4460db10d64": {
          "model_module": "@jupyter-widgets/controls",
          "model_name": "HBoxModel",
          "model_module_version": "1.5.0",
          "state": {
            "_view_name": "HBoxView",
            "_dom_classes": [],
            "_model_name": "HBoxModel",
            "_view_module": "@jupyter-widgets/controls",
            "_model_module_version": "1.5.0",
            "_view_count": null,
            "_view_module_version": "1.5.0",
            "box_style": "",
            "layout": "IPY_MODEL_8df8a6e13f9e468fb59c39a2a2093106",
            "_model_module": "@jupyter-widgets/controls",
            "children": [
              "IPY_MODEL_baac4e4f4c5042eaa0be5bd4a0d64fa1",
              "IPY_MODEL_5841e56b85d64294a6ff51e4dffe463d",
              "IPY_MODEL_2fc7b56516164c6abb7e3367ca7cb698"
            ]
          }
        },
        "8df8a6e13f9e468fb59c39a2a2093106": {
          "model_module": "@jupyter-widgets/base",
          "model_name": "LayoutModel",
          "model_module_version": "1.2.0",
          "state": {
            "_view_name": "LayoutView",
            "grid_template_rows": null,
            "right": null,
            "justify_content": null,
            "_view_module": "@jupyter-widgets/base",
            "overflow": null,
            "_model_module_version": "1.2.0",
            "_view_count": null,
            "flex_flow": null,
            "width": null,
            "min_width": null,
            "border": null,
            "align_items": null,
            "bottom": null,
            "_model_module": "@jupyter-widgets/base",
            "top": null,
            "grid_column": null,
            "overflow_y": null,
            "overflow_x": null,
            "grid_auto_flow": null,
            "grid_area": null,
            "grid_template_columns": null,
            "flex": null,
            "_model_name": "LayoutModel",
            "justify_items": null,
            "grid_row": null,
            "max_height": null,
            "align_content": null,
            "visibility": null,
            "align_self": null,
            "height": null,
            "min_height": null,
            "padding": null,
            "grid_auto_rows": null,
            "grid_gap": null,
            "max_width": null,
            "order": null,
            "_view_module_version": "1.2.0",
            "grid_template_areas": null,
            "object_position": null,
            "object_fit": null,
            "grid_auto_columns": null,
            "margin": null,
            "display": null,
            "left": null
          }
        },
        "baac4e4f4c5042eaa0be5bd4a0d64fa1": {
          "model_module": "@jupyter-widgets/controls",
          "model_name": "HTMLModel",
          "model_module_version": "1.5.0",
          "state": {
            "_view_name": "HTMLView",
            "style": "IPY_MODEL_c7494515fff548e28e4ee1c82438a753",
            "_dom_classes": [],
            "description": "",
            "_model_name": "HTMLModel",
            "placeholder": "​",
            "_view_module": "@jupyter-widgets/controls",
            "_model_module_version": "1.5.0",
            "value": "100%",
            "_view_count": null,
            "_view_module_version": "1.5.0",
            "description_tooltip": null,
            "_model_module": "@jupyter-widgets/controls",
            "layout": "IPY_MODEL_0358f8d2fa82426492d5075767e61da1"
          }
        },
        "5841e56b85d64294a6ff51e4dffe463d": {
          "model_module": "@jupyter-widgets/controls",
          "model_name": "FloatProgressModel",
          "model_module_version": "1.5.0",
          "state": {
            "_view_name": "ProgressView",
            "style": "IPY_MODEL_e0a1639dc2fb425282c381f654336e4e",
            "_dom_classes": [],
            "description": "",
            "_model_name": "FloatProgressModel",
            "bar_style": "success",
            "max": 7,
            "_view_module": "@jupyter-widgets/controls",
            "_model_module_version": "1.5.0",
            "value": 7,
            "_view_count": null,
            "_view_module_version": "1.5.0",
            "orientation": "horizontal",
            "min": 0,
            "description_tooltip": null,
            "_model_module": "@jupyter-widgets/controls",
            "layout": "IPY_MODEL_fa89efac5653406eb29376ad2ca3b423"
          }
        },
        "2fc7b56516164c6abb7e3367ca7cb698": {
          "model_module": "@jupyter-widgets/controls",
          "model_name": "HTMLModel",
          "model_module_version": "1.5.0",
          "state": {
            "_view_name": "HTMLView",
            "style": "IPY_MODEL_b70686375593420cbb28433cee6bee4e",
            "_dom_classes": [],
            "description": "",
            "_model_name": "HTMLModel",
            "placeholder": "​",
            "_view_module": "@jupyter-widgets/controls",
            "_model_module_version": "1.5.0",
            "value": " 7/7 [00:21&lt;00:00,  3.26s/it]",
            "_view_count": null,
            "_view_module_version": "1.5.0",
            "description_tooltip": null,
            "_model_module": "@jupyter-widgets/controls",
            "layout": "IPY_MODEL_ab85177b85704d0183da3da95332c618"
          }
        },
        "c7494515fff548e28e4ee1c82438a753": {
          "model_module": "@jupyter-widgets/controls",
          "model_name": "DescriptionStyleModel",
          "model_module_version": "1.5.0",
          "state": {
            "_view_name": "StyleView",
            "_model_name": "DescriptionStyleModel",
            "description_width": "",
            "_view_module": "@jupyter-widgets/base",
            "_model_module_version": "1.5.0",
            "_view_count": null,
            "_view_module_version": "1.2.0",
            "_model_module": "@jupyter-widgets/controls"
          }
        },
        "0358f8d2fa82426492d5075767e61da1": {
          "model_module": "@jupyter-widgets/base",
          "model_name": "LayoutModel",
          "model_module_version": "1.2.0",
          "state": {
            "_view_name": "LayoutView",
            "grid_template_rows": null,
            "right": null,
            "justify_content": null,
            "_view_module": "@jupyter-widgets/base",
            "overflow": null,
            "_model_module_version": "1.2.0",
            "_view_count": null,
            "flex_flow": null,
            "width": null,
            "min_width": null,
            "border": null,
            "align_items": null,
            "bottom": null,
            "_model_module": "@jupyter-widgets/base",
            "top": null,
            "grid_column": null,
            "overflow_y": null,
            "overflow_x": null,
            "grid_auto_flow": null,
            "grid_area": null,
            "grid_template_columns": null,
            "flex": null,
            "_model_name": "LayoutModel",
            "justify_items": null,
            "grid_row": null,
            "max_height": null,
            "align_content": null,
            "visibility": null,
            "align_self": null,
            "height": null,
            "min_height": null,
            "padding": null,
            "grid_auto_rows": null,
            "grid_gap": null,
            "max_width": null,
            "order": null,
            "_view_module_version": "1.2.0",
            "grid_template_areas": null,
            "object_position": null,
            "object_fit": null,
            "grid_auto_columns": null,
            "margin": null,
            "display": null,
            "left": null
          }
        },
        "e0a1639dc2fb425282c381f654336e4e": {
          "model_module": "@jupyter-widgets/controls",
          "model_name": "ProgressStyleModel",
          "model_module_version": "1.5.0",
          "state": {
            "_view_name": "StyleView",
            "_model_name": "ProgressStyleModel",
            "description_width": "",
            "_view_module": "@jupyter-widgets/base",
            "_model_module_version": "1.5.0",
            "_view_count": null,
            "_view_module_version": "1.2.0",
            "bar_color": null,
            "_model_module": "@jupyter-widgets/controls"
          }
        },
        "fa89efac5653406eb29376ad2ca3b423": {
          "model_module": "@jupyter-widgets/base",
          "model_name": "LayoutModel",
          "model_module_version": "1.2.0",
          "state": {
            "_view_name": "LayoutView",
            "grid_template_rows": null,
            "right": null,
            "justify_content": null,
            "_view_module": "@jupyter-widgets/base",
            "overflow": null,
            "_model_module_version": "1.2.0",
            "_view_count": null,
            "flex_flow": null,
            "width": null,
            "min_width": null,
            "border": null,
            "align_items": null,
            "bottom": null,
            "_model_module": "@jupyter-widgets/base",
            "top": null,
            "grid_column": null,
            "overflow_y": null,
            "overflow_x": null,
            "grid_auto_flow": null,
            "grid_area": null,
            "grid_template_columns": null,
            "flex": null,
            "_model_name": "LayoutModel",
            "justify_items": null,
            "grid_row": null,
            "max_height": null,
            "align_content": null,
            "visibility": null,
            "align_self": null,
            "height": null,
            "min_height": null,
            "padding": null,
            "grid_auto_rows": null,
            "grid_gap": null,
            "max_width": null,
            "order": null,
            "_view_module_version": "1.2.0",
            "grid_template_areas": null,
            "object_position": null,
            "object_fit": null,
            "grid_auto_columns": null,
            "margin": null,
            "display": null,
            "left": null
          }
        },
        "b70686375593420cbb28433cee6bee4e": {
          "model_module": "@jupyter-widgets/controls",
          "model_name": "DescriptionStyleModel",
          "model_module_version": "1.5.0",
          "state": {
            "_view_name": "StyleView",
            "_model_name": "DescriptionStyleModel",
            "description_width": "",
            "_view_module": "@jupyter-widgets/base",
            "_model_module_version": "1.5.0",
            "_view_count": null,
            "_view_module_version": "1.2.0",
            "_model_module": "@jupyter-widgets/controls"
          }
        },
        "ab85177b85704d0183da3da95332c618": {
          "model_module": "@jupyter-widgets/base",
          "model_name": "LayoutModel",
          "model_module_version": "1.2.0",
          "state": {
            "_view_name": "LayoutView",
            "grid_template_rows": null,
            "right": null,
            "justify_content": null,
            "_view_module": "@jupyter-widgets/base",
            "overflow": null,
            "_model_module_version": "1.2.0",
            "_view_count": null,
            "flex_flow": null,
            "width": null,
            "min_width": null,
            "border": null,
            "align_items": null,
            "bottom": null,
            "_model_module": "@jupyter-widgets/base",
            "top": null,
            "grid_column": null,
            "overflow_y": null,
            "overflow_x": null,
            "grid_auto_flow": null,
            "grid_area": null,
            "grid_template_columns": null,
            "flex": null,
            "_model_name": "LayoutModel",
            "justify_items": null,
            "grid_row": null,
            "max_height": null,
            "align_content": null,
            "visibility": null,
            "align_self": null,
            "height": null,
            "min_height": null,
            "padding": null,
            "grid_auto_rows": null,
            "grid_gap": null,
            "max_width": null,
            "order": null,
            "_view_module_version": "1.2.0",
            "grid_template_areas": null,
            "object_position": null,
            "object_fit": null,
            "grid_auto_columns": null,
            "margin": null,
            "display": null,
            "left": null
          }
        }
      }
    }
  },
  "cells": [
    {
      "cell_type": "markdown",
      "metadata": {
        "id": "Kjro9STHYttW"
      },
      "source": [
        "<a id=\"table-of-contents\"></a>"
      ]
    },
    {
      "cell_type": "markdown",
      "metadata": {
        "_uuid": "8f2839f25d086af736a60e9eeb907d3b93b6e0e5",
        "_cell_guid": "b1076dfc-b9ad-4769-8c92-a6c4dae69d19",
        "id": "F3KEKQ7uYttZ"
      },
      "source": [
        "<div style=\"background:#2b6684;color:white; font-family:'Goudy Old Style';padding:0.5em;border-radius:0.2em;font-size:30px;color:white\"><u>Chapter 4</u></div>\n",
        "<div style=\"background:#2b6684;color:white; font-family:'Goudy Old Style';padding:0.5em;border-radius:0.2em;font-size:30px;color:white\"><u>Evaluation</u>    \n",
        "<p style=\"font-family:cursive;font-size:17px; color:white\" >Notebook is a part of FREE ML course by Glexey Grigorev\n",
        "<a style=\"font-family:cursive;font-size:17px; color: yellow\" href=\"https://datatalks.club/courses/2021-winter-ml-zoomcamp.html\" target=\"_blank\"> <u>Link for the Course</u></a></p>\n",
        "<li style = \"line-height: 0.7\"><a style=\"font-family:cursive;font-size:17px; color:#ecfe15\" href = \"#1\">1. Getting ready for Evaluation</a></li>   \n",
        "<li style = \"line-height: 0.7\"><a style=\"font-family:cursive;font-size:17px; color:#ecfe15\" href = \"#2\">2. Accuracy and dummy model</a></li> \n",
        "<li style = \"line-height: 0.7\"><a style=\"font-family:cursive;font-size:17px; color:#ecfe15\" href = \"#3\">3. Confusion Matrix </a></li>\n",
        "<li style = \"line-height: 0.7\"><a style=\"font-family:cursive;font-size:17px; color:#ecfe15\" href = \"#4\"> 4. Precision and Recall  </a></li> \n",
        "<li style = \"line-height: 0.7\"><a style=\"font-family:cursive;font-size:17px; color:#ecfe15\" href = \"#5\"> 5. ROC Curves </a></li>  \n",
        "    <ul>\n",
        "<li style = \"line-height: 0.7\"><a style=\"font-family:cursive;font-size:17px; color:#ecfe15\" href = \"#5.1\"> 5.1 Random model</a></li>\n",
        "<li style = \"line-height: 0.7\"><a style=\"font-family:cursive;font-size:17px; color:#ecfe15\" href = \"#5.2\"> 5.2 Ideal model</a></li> \n",
        "<li style = \"line-height: 0.7\"><a style=\"font-family:cursive;font-size:17px; color:#ecfe15\" href = \"#5.3\"> 5.3 Putting everything together</a></li>             \n",
        "</ul>\n",
        "<li style = \"line-height: 0.7\"><a style=\"font-family:cursive;font-size:17px; color:#ecfe15\" href = \"#6\"> 6. ROC AUC</a></li> \n",
        "<li style = \"line-height: 0.7\"><a style=\"font-family:cursive;font-size:17px; color:#ecfe15\" href = \"#7\">7. Cross-Validation</a></li>     \n",
        "    \n",
        "</div>    "
      ]
    },
    {
      "cell_type": "markdown",
      "metadata": {
        "id": "IIsm-TgoYttb"
      },
      "source": [
        "[back to top](#table-of-contents)\n",
        "<a id=\"1\"></a>\n",
        "\n",
        "<div style=\"background:#2b6684;color:white; font-family:'Goudy Old Style';padding:0.5em;border-radius:0.2em;font-size:25px;color:yellow\">1. Getting ready for Evaluation\n",
        "    \n",
        "</div>"
      ]
    },
    {
      "cell_type": "code",
      "metadata": {
        "execution": {
          "iopub.status.busy": "2021-10-04T11:33:04.930149Z",
          "iopub.execute_input": "2021-10-04T11:33:04.93053Z",
          "iopub.status.idle": "2021-10-04T11:33:05.840951Z",
          "shell.execute_reply.started": "2021-10-04T11:33:04.930427Z",
          "shell.execute_reply": "2021-10-04T11:33:05.839978Z"
        },
        "trusted": true,
        "id": "O37chUbwYttc"
      },
      "source": [
        "import pandas as pd\n",
        "import numpy as np\n",
        "\n",
        "import matplotlib.pyplot as plt\n",
        "\n",
        "from sklearn.model_selection import train_test_split\n",
        "from sklearn.feature_extraction import DictVectorizer\n",
        "from sklearn.linear_model import LogisticRegression\n",
        "\n",
        "from sklearn.metrics import auc\n",
        "\n",
        "plt.rcParams['figure.figsize'] = (16, 8)\n",
        "plt.style.use('fivethirtyeight')"
      ],
      "execution_count": 6,
      "outputs": []
    },
    {
      "cell_type": "code",
      "metadata": {
        "colab": {
          "base_uri": "https://localhost:8080/"
        },
        "id": "zZ_2pR4mbQJ_",
        "outputId": "b5aceae2-c1b4-42db-d612-a588b2ef5d70"
      },
      "source": [
        "!wget https://raw.githubusercontent.com/alexeygrigorev/mlbookcamp-code/master/chapter-03-churn-prediction/WA_Fn-UseC_-Telco-Customer-Churn.csv"
      ],
      "execution_count": 7,
      "outputs": [
        {
          "output_type": "stream",
          "name": "stdout",
          "text": [
            "--2021-10-05 12:49:21--  https://raw.githubusercontent.com/alexeygrigorev/mlbookcamp-code/master/chapter-03-churn-prediction/WA_Fn-UseC_-Telco-Customer-Churn.csv\n",
            "Resolving raw.githubusercontent.com (raw.githubusercontent.com)... 185.199.108.133, 185.199.109.133, 185.199.110.133, ...\n",
            "Connecting to raw.githubusercontent.com (raw.githubusercontent.com)|185.199.108.133|:443... connected.\n",
            "HTTP request sent, awaiting response... 200 OK\n",
            "Length: 977501 (955K) [text/plain]\n",
            "Saving to: ‘WA_Fn-UseC_-Telco-Customer-Churn.csv.2’\n",
            "\n",
            "\r          WA_Fn-Use   0%[                    ]       0  --.-KB/s               \rWA_Fn-UseC_-Telco-C 100%[===================>] 954.59K  --.-KB/s    in 0.05s   \n",
            "\n",
            "2021-10-05 12:49:21 (20.1 MB/s) - ‘WA_Fn-UseC_-Telco-Customer-Churn.csv.2’ saved [977501/977501]\n",
            "\n"
          ]
        }
      ]
    },
    {
      "cell_type": "code",
      "metadata": {
        "execution": {
          "iopub.status.busy": "2021-10-04T11:33:05.842826Z",
          "iopub.execute_input": "2021-10-04T11:33:05.843138Z",
          "iopub.status.idle": "2021-10-04T11:33:06.653183Z",
          "shell.execute_reply.started": "2021-10-04T11:33:05.8431Z",
          "shell.execute_reply": "2021-10-04T11:33:06.652409Z"
        },
        "trusted": true,
        "id": "6pS3BEy5Ytte",
        "colab": {
          "base_uri": "https://localhost:8080/"
        },
        "outputId": "968e7afe-e4d1-49ca-96d5-b42dd89fdb8a"
      },
      "source": [
        "df = pd.read_csv('WA_Fn-UseC_-Telco-Customer-Churn.csv')\n",
        "\n",
        "df.columns = df.columns.str.lower().str.replace(' ', '_')\n",
        "\n",
        "categorical_columns = list(df.dtypes[df.dtypes == 'object'].index)\n",
        "\n",
        "for c in categorical_columns:\n",
        "    df[c] = df[c].str.lower().str.replace(' ', '_')\n",
        "\n",
        "df.totalcharges = pd.to_numeric(df.totalcharges, errors='coerce')\n",
        "df.totalcharges = df.totalcharges.fillna(0)\n",
        "\n",
        "df.churn = (df.churn == 'yes').astype(int)\n",
        "\n",
        "\n",
        "df_full_train, df_test = train_test_split(df, test_size=0.2, random_state=1)\n",
        "df_train, df_val = train_test_split(df_full_train, test_size=0.25, random_state=1)\n",
        "\n",
        "df_train = df_train.reset_index(drop=True)\n",
        "df_val = df_val.reset_index(drop=True)\n",
        "df_test = df_test.reset_index(drop=True)\n",
        "\n",
        "y_train = df_train.churn.values\n",
        "y_val = df_val.churn.values\n",
        "y_test = df_test.churn.values\n",
        "\n",
        "del df_train['churn']\n",
        "del df_val['churn']\n",
        "del df_test['churn']\n",
        "\n",
        "numerical = ['tenure', 'monthlycharges', 'totalcharges']\n",
        "\n",
        "categorical = [\n",
        "    'gender',\n",
        "    'seniorcitizen',\n",
        "    'partner',\n",
        "    'dependents',\n",
        "    'phoneservice',\n",
        "    'multiplelines',\n",
        "    'internetservice',\n",
        "    'onlinesecurity',\n",
        "    'onlinebackup',\n",
        "    'deviceprotection',\n",
        "    'techsupport',\n",
        "    'streamingtv',\n",
        "    'streamingmovies',\n",
        "    'contract',\n",
        "    'paperlessbilling',\n",
        "    'paymentmethod',\n",
        "]\n",
        "\n",
        "\n",
        "dv = DictVectorizer(sparse=False)\n",
        "\n",
        "train_dict = df_train[categorical + numerical].to_dict(orient='records')\n",
        "X_train = dv.fit_transform(train_dict)\n",
        "\n",
        "model = LogisticRegression()\n",
        "model.fit(X_train, y_train)\n",
        "\n",
        "val_dict = df_val[categorical + numerical].to_dict(orient='records')\n",
        "X_val = dv.transform(val_dict)\n",
        "\n",
        "y_pred = model.predict_proba(X_val)[:, 1]\n",
        "churn_decision = (y_pred >= 0.5)\n",
        "(y_val == churn_decision).mean()"
      ],
      "execution_count": 8,
      "outputs": [
        {
          "output_type": "execute_result",
          "data": {
            "text/plain": [
              "0.8034066713981547"
            ]
          },
          "metadata": {},
          "execution_count": 8
        }
      ]
    },
    {
      "cell_type": "markdown",
      "metadata": {
        "id": "xDZ7dqNrYttf"
      },
      "source": [
        "[back to top](#table-of-contents)\n",
        "<a id=\"2\"></a>\n",
        "\n",
        "<div style=\"background:#2b6684;color:white; font-family:'Goudy Old Style';padding:0.5em;border-radius:0.2em;font-size:25px;color:yellow\">2. Accuracy and dummy model\n",
        "    \n",
        "</div>"
      ]
    },
    {
      "cell_type": "code",
      "metadata": {
        "execution": {
          "iopub.status.busy": "2021-10-04T11:33:06.654385Z",
          "iopub.execute_input": "2021-10-04T11:33:06.654928Z",
          "iopub.status.idle": "2021-10-04T11:33:06.659878Z",
          "shell.execute_reply.started": "2021-10-04T11:33:06.654888Z",
          "shell.execute_reply": "2021-10-04T11:33:06.659131Z"
        },
        "trusted": true,
        "id": "7xrdDKCQYttg"
      },
      "source": [
        "from sklearn.metrics import accuracy_score"
      ],
      "execution_count": 9,
      "outputs": []
    },
    {
      "cell_type": "code",
      "metadata": {
        "execution": {
          "iopub.status.busy": "2021-10-04T11:33:06.66209Z",
          "iopub.execute_input": "2021-10-04T11:33:06.66256Z",
          "iopub.status.idle": "2021-10-04T11:33:06.672821Z",
          "shell.execute_reply.started": "2021-10-04T11:33:06.662505Z",
          "shell.execute_reply": "2021-10-04T11:33:06.671909Z"
        },
        "trusted": true,
        "id": "nz9Gr_AEYttg",
        "colab": {
          "base_uri": "https://localhost:8080/"
        },
        "outputId": "f43708a6-cee9-4cd3-d852-41a862941431"
      },
      "source": [
        "accuracy_score(y_val, y_pred >= 0.5)"
      ],
      "execution_count": 10,
      "outputs": [
        {
          "output_type": "execute_result",
          "data": {
            "text/plain": [
              "0.8034066713981547"
            ]
          },
          "metadata": {},
          "execution_count": 10
        }
      ]
    },
    {
      "cell_type": "code",
      "metadata": {
        "execution": {
          "iopub.status.busy": "2021-10-04T11:33:06.674324Z",
          "iopub.execute_input": "2021-10-04T11:33:06.674923Z",
          "iopub.status.idle": "2021-10-04T11:33:06.70045Z",
          "shell.execute_reply.started": "2021-10-04T11:33:06.674885Z",
          "shell.execute_reply": "2021-10-04T11:33:06.69968Z"
        },
        "trusted": true,
        "id": "hOvQlPyxYtth",
        "colab": {
          "base_uri": "https://localhost:8080/"
        },
        "outputId": "c606ff07-dca6-4e26-9b01-786e1ee3b800"
      },
      "source": [
        "\"\"\"Let's check the accuracy with different threshold\"\"\"\n",
        "thresholds = np.linspace(0, 1, 21)\n",
        "\n",
        "scores = []\n",
        "\n",
        "for t in thresholds:\n",
        "    score = accuracy_score(y_val, y_pred >= t)\n",
        "    print('%.2f %.3f' % (t, score))\n",
        "    scores.append(score)"
      ],
      "execution_count": 11,
      "outputs": [
        {
          "output_type": "stream",
          "name": "stdout",
          "text": [
            "0.00 0.274\n",
            "0.05 0.509\n",
            "0.10 0.591\n",
            "0.15 0.666\n",
            "0.20 0.710\n",
            "0.25 0.739\n",
            "0.30 0.760\n",
            "0.35 0.772\n",
            "0.40 0.785\n",
            "0.45 0.793\n",
            "0.50 0.803\n",
            "0.55 0.801\n",
            "0.60 0.795\n",
            "0.65 0.786\n",
            "0.70 0.766\n",
            "0.75 0.744\n",
            "0.80 0.735\n",
            "0.85 0.726\n",
            "0.90 0.726\n",
            "0.95 0.726\n",
            "1.00 0.726\n"
          ]
        }
      ]
    },
    {
      "cell_type": "code",
      "metadata": {
        "execution": {
          "iopub.status.busy": "2021-10-04T11:33:06.701923Z",
          "iopub.execute_input": "2021-10-04T11:33:06.702381Z",
          "iopub.status.idle": "2021-10-04T11:33:06.941201Z",
          "shell.execute_reply.started": "2021-10-04T11:33:06.70234Z",
          "shell.execute_reply": "2021-10-04T11:33:06.940318Z"
        },
        "trusted": true,
        "id": "vg7Tvt7HYtth",
        "colab": {
          "base_uri": "https://localhost:8080/",
          "height": 323
        },
        "outputId": "192719b9-ac7a-4a2d-cb55-f29b3367a19d"
      },
      "source": [
        "\"\"\"Let's plot these results\"\"\"\n",
        "plt.plot(thresholds, scores);"
      ],
      "execution_count": 12,
      "outputs": [
        {
          "output_type": "display_data",
          "data": {
            "image/png": "[encoded data removed]",
            "text/plain": [
              "<Figure size 1152x576 with 1 Axes>"
            ]
          },
          "metadata": {}
        }
      ]
    },
    {
      "cell_type": "code",
      "metadata": {
        "execution": {
          "iopub.status.busy": "2021-10-04T11:33:06.942573Z",
          "iopub.execute_input": "2021-10-04T11:33:06.94287Z",
          "iopub.status.idle": "2021-10-04T11:33:06.949067Z",
          "shell.execute_reply.started": "2021-10-04T11:33:06.942837Z",
          "shell.execute_reply": "2021-10-04T11:33:06.948244Z"
        },
        "trusted": true,
        "id": "Ldd4Mcr-Ytti",
        "colab": {
          "base_uri": "https://localhost:8080/"
        },
        "outputId": "5e923740-5297-4357-e405-72a05c469fa1"
      },
      "source": [
        "\"\"\"Also, our data is not balanced\"\"\"\n",
        "df['churn'].mean()"
      ],
      "execution_count": 13,
      "outputs": [
        {
          "output_type": "execute_result",
          "data": {
            "text/plain": [
              "0.2653698707936959"
            ]
          },
          "metadata": {},
          "execution_count": 13
        }
      ]
    },
    {
      "cell_type": "markdown",
      "metadata": {
        "id": "y_XTXJ4LYtti"
      },
      "source": [
        "**Observation:**\n",
        "- **We can see that when all the predictions are False our model gives accuracy of ``0.726``**\n",
        "- **This is because our data is ``not balanced`` . One class is way more than in numbers than the other.**\n",
        " "
      ]
    },
    {
      "cell_type": "markdown",
      "metadata": {
        "id": "TfnXX2tYYttj"
      },
      "source": [
        "[back to top](#table-of-contents)\n",
        "<a id=\"3\"></a>\n",
        "\n",
        "<div style=\"background:#2b6684;color:white; font-family:'Goudy Old Style';padding:0.5em;border-radius:0.2em;font-size:25px;color:yellow\">3. Confusion Matrix\n",
        "    \n",
        "</div>"
      ]
    },
    {
      "cell_type": "code",
      "metadata": {
        "execution": {
          "iopub.status.busy": "2021-10-04T11:33:06.950433Z",
          "iopub.execute_input": "2021-10-04T11:33:06.950768Z",
          "iopub.status.idle": "2021-10-04T11:33:06.964064Z",
          "shell.execute_reply.started": "2021-10-04T11:33:06.950729Z",
          "shell.execute_reply": "2021-10-04T11:33:06.963142Z"
        },
        "trusted": true,
        "id": "sZFVVfXhYttj",
        "colab": {
          "base_uri": "https://localhost:8080/"
        },
        "outputId": "2c9be17d-563d-4241-c5b0-e710f6d38150"
      },
      "source": [
        "actual_positive = (y_val == 1)\n",
        "actual_negative = (y_val == 0)\n",
        "\n",
        "t = 0.5\n",
        "predict_positive = (y_pred >= t)\n",
        "predict_negative = (y_pred < t)\n",
        "\n",
        "tp = (predict_positive & actual_positive).sum()\n",
        "tn = (predict_negative & actual_negative).sum()\n",
        "\n",
        "fp = (predict_positive & actual_negative).sum()\n",
        "fn = (predict_negative & actual_positive).sum()\n",
        "\n",
        "confusion_matrix = np.array([\n",
        "    [tn, fp],\n",
        "    [fn, tp]\n",
        "])\n",
        "\"\"\"Confusion Matrix in frequency Form\"\"\"\n",
        "confusion_matrix"
      ],
      "execution_count": 14,
      "outputs": [
        {
          "output_type": "execute_result",
          "data": {
            "text/plain": [
              "array([[922, 101],\n",
              "       [176, 210]])"
            ]
          },
          "metadata": {},
          "execution_count": 14
        }
      ]
    },
    {
      "cell_type": "code",
      "metadata": {
        "execution": {
          "iopub.status.busy": "2021-10-04T11:33:06.965317Z",
          "iopub.execute_input": "2021-10-04T11:33:06.965579Z",
          "iopub.status.idle": "2021-10-04T11:33:06.976078Z",
          "shell.execute_reply.started": "2021-10-04T11:33:06.965553Z",
          "shell.execute_reply": "2021-10-04T11:33:06.975238Z"
        },
        "trusted": true,
        "id": "Xklyn98xYttj",
        "colab": {
          "base_uri": "https://localhost:8080/"
        },
        "outputId": "97edf74b-9d01-4006-853c-289730adecf9"
      },
      "source": [
        "\"\"\"Confusion Matrix in percentage Form\"\"\"\n",
        "(confusion_matrix / confusion_matrix.sum()).round(2)"
      ],
      "execution_count": 15,
      "outputs": [
        {
          "output_type": "execute_result",
          "data": {
            "text/plain": [
              "array([[0.65, 0.07],\n",
              "       [0.12, 0.15]])"
            ]
          },
          "metadata": {},
          "execution_count": 15
        }
      ]
    },
    {
      "cell_type": "markdown",
      "metadata": {
        "id": "pXvF0Jq4Yttk"
      },
      "source": [
        "[back to top](#table-of-contents)\n",
        "<a id=\"4\"></a>\n",
        "\n",
        "<div style=\"background:#2b6684;color:white; font-family:'Goudy Old Style';padding:0.5em;border-radius:0.2em;font-size:25px;color:yellow\">4. Precision and Recall\n",
        "    \n",
        "</div>"
      ]
    },
    {
      "cell_type": "code",
      "metadata": {
        "execution": {
          "iopub.status.busy": "2021-10-04T11:33:06.979062Z",
          "iopub.execute_input": "2021-10-04T11:33:06.979272Z",
          "iopub.status.idle": "2021-10-04T11:33:06.987364Z",
          "shell.execute_reply.started": "2021-10-04T11:33:06.979248Z",
          "shell.execute_reply": "2021-10-04T11:33:06.98622Z"
        },
        "trusted": true,
        "id": "c2RcekKyYttk",
        "colab": {
          "base_uri": "https://localhost:8080/"
        },
        "outputId": "7455f6a4-3456-49fe-85cb-36d5914b46ef"
      },
      "source": [
        "\"\"\"Precision\"\"\"\n",
        "p = tp / (tp + fp)\n",
        "print(p)\n",
        "\"\"\"Recall\"\"\"\n",
        "r = tp / (tp + fn)\n",
        "print(r)"
      ],
      "execution_count": 16,
      "outputs": [
        {
          "output_type": "stream",
          "name": "stdout",
          "text": [
            "0.6752411575562701\n",
            "0.5440414507772021\n"
          ]
        }
      ]
    },
    {
      "cell_type": "markdown",
      "metadata": {
        "id": "tAmhiXywYttl"
      },
      "source": [
        "[back to top](#table-of-contents)\n",
        "<a id=\"5\"></a>\n",
        "\n",
        "<div style=\"background:#2b6684;color:white; font-family:'Goudy Old Style';padding:0.5em;border-radius:0.2em;font-size:25px;color:yellow\">5. ROC Curves\n",
        "    \n",
        "</div>\n",
        "\n",
        "\n"
      ]
    },
    {
      "cell_type": "code",
      "metadata": {
        "execution": {
          "iopub.status.busy": "2021-10-04T11:33:06.988508Z",
          "iopub.execute_input": "2021-10-04T11:33:06.988908Z",
          "iopub.status.idle": "2021-10-04T11:33:06.997617Z",
          "shell.execute_reply.started": "2021-10-04T11:33:06.988881Z",
          "shell.execute_reply": "2021-10-04T11:33:06.996807Z"
        },
        "trusted": true,
        "id": "ecv1cI-gYttl",
        "colab": {
          "base_uri": "https://localhost:8080/"
        },
        "outputId": "6a853045-2b87-4dff-b914-d273673615bd"
      },
      "source": [
        "\"\"\"TPR\"\"\"\n",
        "tpr = tp / (tp + fn)\n",
        "print(tpr)\n",
        "\"\"\"FRP\"\"\"\n",
        "fpr = fp / (fp + tn)\n",
        "print(fpr)"
      ],
      "execution_count": 17,
      "outputs": [
        {
          "output_type": "stream",
          "name": "stdout",
          "text": [
            "0.5440414507772021\n",
            "0.09872922776148582\n"
          ]
        }
      ]
    },
    {
      "cell_type": "code",
      "metadata": {
        "execution": {
          "iopub.status.busy": "2021-10-04T11:33:06.998854Z",
          "iopub.execute_input": "2021-10-04T11:33:06.99927Z",
          "iopub.status.idle": "2021-10-04T11:33:07.286994Z",
          "shell.execute_reply.started": "2021-10-04T11:33:06.999243Z",
          "shell.execute_reply": "2021-10-04T11:33:07.286115Z"
        },
        "trusted": true,
        "id": "KYlbBxaeYttm",
        "colab": {
          "base_uri": "https://localhost:8080/",
          "height": 323
        },
        "outputId": "9fbac382-694a-49db-82bf-0b7a2797c1a8"
      },
      "source": [
        "scores = []\n",
        "\n",
        "thresholds = np.linspace(0, 1, 101)\n",
        "\n",
        "for t in thresholds:\n",
        "    actual_positive = (y_val == 1)\n",
        "    actual_negative = (y_val == 0)\n",
        "    \n",
        "    predict_positive = (y_pred >= t)\n",
        "    predict_negative = (y_pred < t)\n",
        "\n",
        "    tp = (predict_positive & actual_positive).sum()\n",
        "    tn = (predict_negative & actual_negative).sum()\n",
        "\n",
        "    fp = (predict_positive & actual_negative).sum()\n",
        "    fn = (predict_negative & actual_positive).sum()\n",
        "    \n",
        "    scores.append((t, tp, fp, fn, tn))\n",
        "    \n",
        "\n",
        "\n",
        "columns = ['threshold', 'tp', 'fp', 'fn', 'tn']\n",
        "df_scores = pd.DataFrame(scores, columns=columns)\n",
        "\n",
        "df_scores['tpr'] = df_scores.tp / (df_scores.tp + df_scores.fn)\n",
        "df_scores['fpr'] = df_scores.fp / (df_scores.fp + df_scores.tn)\n",
        "\n",
        "\n",
        "\n",
        "\n",
        "plt.plot(df_scores.threshold, df_scores['tpr'], label='TPR')\n",
        "plt.plot(df_scores.threshold, df_scores['fpr'], label='FPR')\n",
        "plt.legend();\n",
        "    "
      ],
      "execution_count": 18,
      "outputs": [
        {
          "output_type": "display_data",
          "data": {
            "image/png": "[encoded data removed]",
            "text/plain": [
              "<Figure size 1152x576 with 1 Axes>"
            ]
          },
          "metadata": {}
        }
      ]
    },
    {
      "cell_type": "code",
      "metadata": {
        "execution": {
          "iopub.status.busy": "2021-10-04T11:33:53.470594Z",
          "iopub.execute_input": "2021-10-04T11:33:53.470933Z",
          "iopub.status.idle": "2021-10-04T11:33:53.489945Z",
          "shell.execute_reply.started": "2021-10-04T11:33:53.470893Z",
          "shell.execute_reply": "2021-10-04T11:33:53.488961Z"
        },
        "trusted": true,
        "id": "WebqDUNcYttm",
        "colab": {
          "base_uri": "https://localhost:8080/",
          "height": 424
        },
        "outputId": "ef1e361f-356a-4523-f9b2-56b3e88c4eb1"
      },
      "source": [
        "df_scores"
      ],
      "execution_count": 19,
      "outputs": [
        {
          "output_type": "execute_result",
          "data": {
            "text/html": [
              "<div>\n",
              "<style scoped>\n",
              "    .dataframe tbody tr th:only-of-type {\n",
              "        vertical-align: middle;\n",
              "    }\n",
              "\n",
              "    .dataframe tbody tr th {\n",
              "        vertical-align: top;\n",
              "    }\n",
              "\n",
              "    .dataframe thead th {\n",
              "        text-align: right;\n",
              "    }\n",
              "</style>\n",
              "<table border=\"1\" class=\"dataframe\">\n",
              "  <thead>\n",
              "    <tr style=\"text-align: right;\">\n",
              "      <th></th>\n",
              "      <th>threshold</th>\n",
              "      <th>tp</th>\n",
              "      <th>fp</th>\n",
              "      <th>fn</th>\n",
              "      <th>tn</th>\n",
              "      <th>tpr</th>\n",
              "      <th>fpr</th>\n",
              "    </tr>\n",
              "  </thead>\n",
              "  <tbody>\n",
              "    <tr>\n",
              "      <th>0</th>\n",
              "      <td>0.00</td>\n",
              "      <td>386</td>\n",
              "      <td>1023</td>\n",
              "      <td>0</td>\n",
              "      <td>0</td>\n",
              "      <td>1.000000</td>\n",
              "      <td>1.000000</td>\n",
              "    </tr>\n",
              "    <tr>\n",
              "      <th>1</th>\n",
              "      <td>0.01</td>\n",
              "      <td>385</td>\n",
              "      <td>913</td>\n",
              "      <td>1</td>\n",
              "      <td>110</td>\n",
              "      <td>0.997409</td>\n",
              "      <td>0.892473</td>\n",
              "    </tr>\n",
              "    <tr>\n",
              "      <th>2</th>\n",
              "      <td>0.02</td>\n",
              "      <td>384</td>\n",
              "      <td>830</td>\n",
              "      <td>2</td>\n",
              "      <td>193</td>\n",
              "      <td>0.994819</td>\n",
              "      <td>0.811339</td>\n",
              "    </tr>\n",
              "    <tr>\n",
              "      <th>3</th>\n",
              "      <td>0.03</td>\n",
              "      <td>383</td>\n",
              "      <td>766</td>\n",
              "      <td>3</td>\n",
              "      <td>257</td>\n",
              "      <td>0.992228</td>\n",
              "      <td>0.748778</td>\n",
              "    </tr>\n",
              "    <tr>\n",
              "      <th>4</th>\n",
              "      <td>0.04</td>\n",
              "      <td>381</td>\n",
              "      <td>715</td>\n",
              "      <td>5</td>\n",
              "      <td>308</td>\n",
              "      <td>0.987047</td>\n",
              "      <td>0.698925</td>\n",
              "    </tr>\n",
              "    <tr>\n",
              "      <th>...</th>\n",
              "      <td>...</td>\n",
              "      <td>...</td>\n",
              "      <td>...</td>\n",
              "      <td>...</td>\n",
              "      <td>...</td>\n",
              "      <td>...</td>\n",
              "      <td>...</td>\n",
              "    </tr>\n",
              "    <tr>\n",
              "      <th>96</th>\n",
              "      <td>0.96</td>\n",
              "      <td>0</td>\n",
              "      <td>0</td>\n",
              "      <td>386</td>\n",
              "      <td>1023</td>\n",
              "      <td>0.000000</td>\n",
              "      <td>0.000000</td>\n",
              "    </tr>\n",
              "    <tr>\n",
              "      <th>97</th>\n",
              "      <td>0.97</td>\n",
              "      <td>0</td>\n",
              "      <td>0</td>\n",
              "      <td>386</td>\n",
              "      <td>1023</td>\n",
              "      <td>0.000000</td>\n",
              "      <td>0.000000</td>\n",
              "    </tr>\n",
              "    <tr>\n",
              "      <th>98</th>\n",
              "      <td>0.98</td>\n",
              "      <td>0</td>\n",
              "      <td>0</td>\n",
              "      <td>386</td>\n",
              "      <td>1023</td>\n",
              "      <td>0.000000</td>\n",
              "      <td>0.000000</td>\n",
              "    </tr>\n",
              "    <tr>\n",
              "      <th>99</th>\n",
              "      <td>0.99</td>\n",
              "      <td>0</td>\n",
              "      <td>0</td>\n",
              "      <td>386</td>\n",
              "      <td>1023</td>\n",
              "      <td>0.000000</td>\n",
              "      <td>0.000000</td>\n",
              "    </tr>\n",
              "    <tr>\n",
              "      <th>100</th>\n",
              "      <td>1.00</td>\n",
              "      <td>0</td>\n",
              "      <td>0</td>\n",
              "      <td>386</td>\n",
              "      <td>1023</td>\n",
              "      <td>0.000000</td>\n",
              "      <td>0.000000</td>\n",
              "    </tr>\n",
              "  </tbody>\n",
              "</table>\n",
              "<p>101 rows × 7 columns</p>\n",
              "</div>"
            ],
            "text/plain": [
              "     threshold   tp    fp   fn    tn       tpr       fpr\n",
              "0         0.00  386  1023    0     0  1.000000  1.000000\n",
              "1         0.01  385   913    1   110  0.997409  0.892473\n",
              "2         0.02  384   830    2   193  0.994819  0.811339\n",
              "3         0.03  383   766    3   257  0.992228  0.748778\n",
              "4         0.04  381   715    5   308  0.987047  0.698925\n",
              "..         ...  ...   ...  ...   ...       ...       ...\n",
              "96        0.96    0     0  386  1023  0.000000  0.000000\n",
              "97        0.97    0     0  386  1023  0.000000  0.000000\n",
              "98        0.98    0     0  386  1023  0.000000  0.000000\n",
              "99        0.99    0     0  386  1023  0.000000  0.000000\n",
              "100       1.00    0     0  386  1023  0.000000  0.000000\n",
              "\n",
              "[101 rows x 7 columns]"
            ]
          },
          "metadata": {},
          "execution_count": 19
        }
      ]
    },
    {
      "cell_type": "markdown",
      "metadata": {
        "id": "HHRpvpYkYttm"
      },
      "source": [
        "[back to top](#table-of-contents)\n",
        "<a id=\"5.1\"></a>\n",
        "\n",
        "<div style=\"background:#59a1c6;color:black; font-family:'Goudy Old Style';padding:0.5em;border-radius:0.2em;font-size:25px\">5.1 Random model\n",
        "    \n",
        "</div>"
      ]
    },
    {
      "cell_type": "code",
      "metadata": {
        "execution": {
          "iopub.status.busy": "2021-10-04T11:33:07.288094Z",
          "iopub.execute_input": "2021-10-04T11:33:07.28833Z",
          "iopub.status.idle": "2021-10-04T11:33:07.296447Z",
          "shell.execute_reply.started": "2021-10-04T11:33:07.288302Z",
          "shell.execute_reply": "2021-10-04T11:33:07.295611Z"
        },
        "trusted": true,
        "id": "wf_jGpp9Yttm",
        "colab": {
          "base_uri": "https://localhost:8080/"
        },
        "outputId": "71cb206a-2e82-4453-ba86-d53b08d4868f"
      },
      "source": [
        "\"\"\"Random model\"\"\"\n",
        "np.random.seed(1)\n",
        "y_rand = np.random.uniform(0, 1, size=len(y_val))\n",
        "\n",
        "((y_rand >= 0.5) == y_val).mean()"
      ],
      "execution_count": 20,
      "outputs": [
        {
          "output_type": "execute_result",
          "data": {
            "text/plain": [
              "0.5017743080198722"
            ]
          },
          "metadata": {},
          "execution_count": 20
        }
      ]
    },
    {
      "cell_type": "code",
      "metadata": {
        "execution": {
          "iopub.status.busy": "2021-10-04T11:33:07.297863Z",
          "iopub.execute_input": "2021-10-04T11:33:07.298178Z",
          "iopub.status.idle": "2021-10-04T11:33:07.307566Z",
          "shell.execute_reply.started": "2021-10-04T11:33:07.29815Z",
          "shell.execute_reply": "2021-10-04T11:33:07.306609Z"
        },
        "trusted": true,
        "id": "eZm1Kc86Yttn"
      },
      "source": [
        "def tpr_fpr_dataframe(y_val, y_pred):\n",
        "    scores = []\n",
        "\n",
        "    thresholds = np.linspace(0, 1, 101)\n",
        "\n",
        "    for t in thresholds:\n",
        "        actual_positive = (y_val == 1)\n",
        "        actual_negative = (y_val == 0)\n",
        "\n",
        "        predict_positive = (y_pred >= t)\n",
        "        predict_negative = (y_pred < t)\n",
        "\n",
        "        tp = (predict_positive & actual_positive).sum()\n",
        "        tn = (predict_negative & actual_negative).sum()\n",
        "\n",
        "        fp = (predict_positive & actual_negative).sum()\n",
        "        fn = (predict_negative & actual_positive).sum()\n",
        "\n",
        "        scores.append((t, tp, fp, fn, tn))\n",
        "\n",
        "    columns = ['threshold', 'tp', 'fp', 'fn', 'tn']\n",
        "    df_scores = pd.DataFrame(scores, columns=columns)\n",
        "\n",
        "    df_scores['tpr'] = df_scores.tp / (df_scores.tp + df_scores.fn)\n",
        "    df_scores['fpr'] = df_scores.fp / (df_scores.fp + df_scores.tn)\n",
        "    \n",
        "    return df_scores"
      ],
      "execution_count": 21,
      "outputs": []
    },
    {
      "cell_type": "code",
      "metadata": {
        "execution": {
          "iopub.status.busy": "2021-10-04T11:33:07.308847Z",
          "iopub.execute_input": "2021-10-04T11:33:07.309091Z",
          "iopub.status.idle": "2021-10-04T11:33:07.62018Z",
          "shell.execute_reply.started": "2021-10-04T11:33:07.309065Z",
          "shell.execute_reply": "2021-10-04T11:33:07.618594Z"
        },
        "trusted": true,
        "id": "osk5tnk-Yttn",
        "colab": {
          "base_uri": "https://localhost:8080/",
          "height": 323
        },
        "outputId": "1154c3a2-326f-4524-f162-8ddd05bfc999"
      },
      "source": [
        "df_rand = tpr_fpr_dataframe(y_val, y_rand)\n",
        "\n",
        "plt.plot(df_rand.threshold, df_rand['tpr'], label='TPR')\n",
        "plt.plot(df_rand.threshold, df_rand['fpr'], label='FPR')\n",
        "plt.legend();"
      ],
      "execution_count": 22,
      "outputs": [
        {
          "output_type": "display_data",
          "data": {
            "image/png": "[encoded data removed]",
            "text/plain": [
              "<Figure size 1152x576 with 1 Axes>"
            ]
          },
          "metadata": {}
        }
      ]
    },
    {
      "cell_type": "markdown",
      "metadata": {
        "id": "rsz8p2T7Yttn"
      },
      "source": [
        "[back to top](#table-of-contents)\n",
        "<a id=\"5.2\"></a>\n",
        "\n",
        "<div style=\"background:#59a1c6;color:black; font-family:'Goudy Old Style';padding:0.5em;border-radius:0.2em;font-size:25px\">5.2 Ideal model\n",
        "    \n",
        "</div>"
      ]
    },
    {
      "cell_type": "code",
      "metadata": {
        "execution": {
          "iopub.status.busy": "2021-10-04T11:33:07.621965Z",
          "iopub.execute_input": "2021-10-04T11:33:07.622197Z",
          "iopub.status.idle": "2021-10-04T11:33:07.627068Z",
          "shell.execute_reply.started": "2021-10-04T11:33:07.622171Z",
          "shell.execute_reply": "2021-10-04T11:33:07.626544Z"
        },
        "trusted": true,
        "id": "IuAJTyDeYtto"
      },
      "source": [
        "\"\"\"Ideal model\"\"\"\n",
        "num_neg = (y_val == 0).sum()\n",
        "num_pos = (y_val == 1).sum()\n",
        "num_neg, num_pos\n",
        "\n",
        "y_ideal = np.repeat([0, 1], [num_neg, num_pos])\n",
        "\n",
        "y_ideal_pred = np.linspace(0, 1, len(y_val))"
      ],
      "execution_count": 23,
      "outputs": []
    },
    {
      "cell_type": "code",
      "metadata": {
        "execution": {
          "iopub.status.busy": "2021-10-04T11:33:07.627857Z",
          "iopub.execute_input": "2021-10-04T11:33:07.628348Z",
          "iopub.status.idle": "2021-10-04T11:33:07.643363Z",
          "shell.execute_reply.started": "2021-10-04T11:33:07.628319Z",
          "shell.execute_reply": "2021-10-04T11:33:07.642547Z"
        },
        "trusted": true,
        "id": "v9FwXtQKYtto",
        "colab": {
          "base_uri": "https://localhost:8080/"
        },
        "outputId": "6689de4e-199b-45e6-9c40-dc16c4064bc3"
      },
      "source": [
        "1 - y_val.mean()"
      ],
      "execution_count": 24,
      "outputs": [
        {
          "output_type": "execute_result",
          "data": {
            "text/plain": [
              "0.7260468417317246"
            ]
          },
          "metadata": {},
          "execution_count": 24
        }
      ]
    },
    {
      "cell_type": "code",
      "metadata": {
        "execution": {
          "iopub.status.busy": "2021-10-04T11:33:07.644784Z",
          "iopub.execute_input": "2021-10-04T11:33:07.645023Z",
          "iopub.status.idle": "2021-10-04T11:33:07.652843Z",
          "shell.execute_reply.started": "2021-10-04T11:33:07.644997Z",
          "shell.execute_reply": "2021-10-04T11:33:07.652002Z"
        },
        "trusted": true,
        "id": "r0A_2VTGYtto",
        "colab": {
          "base_uri": "https://localhost:8080/"
        },
        "outputId": "2b64e633-6bb3-455e-df4b-1744f8082d4e"
      },
      "source": [
        "accuracy_score(y_ideal, y_ideal_pred >= 0.726)"
      ],
      "execution_count": 25,
      "outputs": [
        {
          "output_type": "execute_result",
          "data": {
            "text/plain": [
              "1.0"
            ]
          },
          "metadata": {},
          "execution_count": 25
        }
      ]
    },
    {
      "cell_type": "code",
      "metadata": {
        "execution": {
          "iopub.status.busy": "2021-10-04T11:33:07.654082Z",
          "iopub.execute_input": "2021-10-04T11:33:07.654283Z",
          "iopub.status.idle": "2021-10-04T11:33:07.682614Z",
          "shell.execute_reply.started": "2021-10-04T11:33:07.65426Z",
          "shell.execute_reply": "2021-10-04T11:33:07.681802Z"
        },
        "trusted": true,
        "id": "YGPzW0woYtto",
        "colab": {
          "base_uri": "https://localhost:8080/",
          "height": 394
        },
        "outputId": "6a514260-d7a4-4d46-c379-7e6ee2eb5d43"
      },
      "source": [
        "df_ideal = tpr_fpr_dataframe(y_ideal, y_ideal_pred)\n",
        "df_ideal[::10]"
      ],
      "execution_count": 26,
      "outputs": [
        {
          "output_type": "execute_result",
          "data": {
            "text/html": [
              "<div>\n",
              "<style scoped>\n",
              "    .dataframe tbody tr th:only-of-type {\n",
              "        vertical-align: middle;\n",
              "    }\n",
              "\n",
              "    .dataframe tbody tr th {\n",
              "        vertical-align: top;\n",
              "    }\n",
              "\n",
              "    .dataframe thead th {\n",
              "        text-align: right;\n",
              "    }\n",
              "</style>\n",
              "<table border=\"1\" class=\"dataframe\">\n",
              "  <thead>\n",
              "    <tr style=\"text-align: right;\">\n",
              "      <th></th>\n",
              "      <th>threshold</th>\n",
              "      <th>tp</th>\n",
              "      <th>fp</th>\n",
              "      <th>fn</th>\n",
              "      <th>tn</th>\n",
              "      <th>tpr</th>\n",
              "      <th>fpr</th>\n",
              "    </tr>\n",
              "  </thead>\n",
              "  <tbody>\n",
              "    <tr>\n",
              "      <th>0</th>\n",
              "      <td>0.0</td>\n",
              "      <td>386</td>\n",
              "      <td>1023</td>\n",
              "      <td>0</td>\n",
              "      <td>0</td>\n",
              "      <td>1.000000</td>\n",
              "      <td>1.000000</td>\n",
              "    </tr>\n",
              "    <tr>\n",
              "      <th>10</th>\n",
              "      <td>0.1</td>\n",
              "      <td>386</td>\n",
              "      <td>882</td>\n",
              "      <td>0</td>\n",
              "      <td>141</td>\n",
              "      <td>1.000000</td>\n",
              "      <td>0.862170</td>\n",
              "    </tr>\n",
              "    <tr>\n",
              "      <th>20</th>\n",
              "      <td>0.2</td>\n",
              "      <td>386</td>\n",
              "      <td>741</td>\n",
              "      <td>0</td>\n",
              "      <td>282</td>\n",
              "      <td>1.000000</td>\n",
              "      <td>0.724340</td>\n",
              "    </tr>\n",
              "    <tr>\n",
              "      <th>30</th>\n",
              "      <td>0.3</td>\n",
              "      <td>386</td>\n",
              "      <td>600</td>\n",
              "      <td>0</td>\n",
              "      <td>423</td>\n",
              "      <td>1.000000</td>\n",
              "      <td>0.586510</td>\n",
              "    </tr>\n",
              "    <tr>\n",
              "      <th>40</th>\n",
              "      <td>0.4</td>\n",
              "      <td>386</td>\n",
              "      <td>459</td>\n",
              "      <td>0</td>\n",
              "      <td>564</td>\n",
              "      <td>1.000000</td>\n",
              "      <td>0.448680</td>\n",
              "    </tr>\n",
              "    <tr>\n",
              "      <th>50</th>\n",
              "      <td>0.5</td>\n",
              "      <td>386</td>\n",
              "      <td>319</td>\n",
              "      <td>0</td>\n",
              "      <td>704</td>\n",
              "      <td>1.000000</td>\n",
              "      <td>0.311828</td>\n",
              "    </tr>\n",
              "    <tr>\n",
              "      <th>60</th>\n",
              "      <td>0.6</td>\n",
              "      <td>386</td>\n",
              "      <td>178</td>\n",
              "      <td>0</td>\n",
              "      <td>845</td>\n",
              "      <td>1.000000</td>\n",
              "      <td>0.173998</td>\n",
              "    </tr>\n",
              "    <tr>\n",
              "      <th>70</th>\n",
              "      <td>0.7</td>\n",
              "      <td>386</td>\n",
              "      <td>37</td>\n",
              "      <td>0</td>\n",
              "      <td>986</td>\n",
              "      <td>1.000000</td>\n",
              "      <td>0.036168</td>\n",
              "    </tr>\n",
              "    <tr>\n",
              "      <th>80</th>\n",
              "      <td>0.8</td>\n",
              "      <td>282</td>\n",
              "      <td>0</td>\n",
              "      <td>104</td>\n",
              "      <td>1023</td>\n",
              "      <td>0.730570</td>\n",
              "      <td>0.000000</td>\n",
              "    </tr>\n",
              "    <tr>\n",
              "      <th>90</th>\n",
              "      <td>0.9</td>\n",
              "      <td>141</td>\n",
              "      <td>0</td>\n",
              "      <td>245</td>\n",
              "      <td>1023</td>\n",
              "      <td>0.365285</td>\n",
              "      <td>0.000000</td>\n",
              "    </tr>\n",
              "    <tr>\n",
              "      <th>100</th>\n",
              "      <td>1.0</td>\n",
              "      <td>1</td>\n",
              "      <td>0</td>\n",
              "      <td>385</td>\n",
              "      <td>1023</td>\n",
              "      <td>0.002591</td>\n",
              "      <td>0.000000</td>\n",
              "    </tr>\n",
              "  </tbody>\n",
              "</table>\n",
              "</div>"
            ],
            "text/plain": [
              "     threshold   tp    fp   fn    tn       tpr       fpr\n",
              "0          0.0  386  1023    0     0  1.000000  1.000000\n",
              "10         0.1  386   882    0   141  1.000000  0.862170\n",
              "20         0.2  386   741    0   282  1.000000  0.724340\n",
              "30         0.3  386   600    0   423  1.000000  0.586510\n",
              "40         0.4  386   459    0   564  1.000000  0.448680\n",
              "50         0.5  386   319    0   704  1.000000  0.311828\n",
              "60         0.6  386   178    0   845  1.000000  0.173998\n",
              "70         0.7  386    37    0   986  1.000000  0.036168\n",
              "80         0.8  282     0  104  1023  0.730570  0.000000\n",
              "90         0.9  141     0  245  1023  0.365285  0.000000\n",
              "100        1.0    1     0  385  1023  0.002591  0.000000"
            ]
          },
          "metadata": {},
          "execution_count": 26
        }
      ]
    },
    {
      "cell_type": "code",
      "metadata": {
        "execution": {
          "iopub.status.busy": "2021-10-04T11:33:07.683901Z",
          "iopub.execute_input": "2021-10-04T11:33:07.684716Z",
          "iopub.status.idle": "2021-10-04T11:33:07.95768Z",
          "shell.execute_reply.started": "2021-10-04T11:33:07.684675Z",
          "shell.execute_reply": "2021-10-04T11:33:07.956341Z"
        },
        "trusted": true,
        "id": "yQZPqYdiYttp",
        "colab": {
          "base_uri": "https://localhost:8080/",
          "height": 341
        },
        "outputId": "9ab1b7cc-72ba-460e-e54a-9515d93c2bf3"
      },
      "source": [
        "plt.plot(df_ideal.threshold, df_ideal['tpr'], label='TPR')\n",
        "plt.plot(df_ideal.threshold, df_ideal['fpr'], label='FPR')\n",
        "plt.legend()"
      ],
      "execution_count": 27,
      "outputs": [
        {
          "output_type": "execute_result",
          "data": {
            "text/plain": [
              "<matplotlib.legend.Legend at 0x7f218eb90610>"
            ]
          },
          "metadata": {},
          "execution_count": 27
        },
        {
          "output_type": "display_data",
          "data": {
            "image/png": "[encoded data removed]",
            "text/plain": [
              "<Figure size 1152x576 with 1 Axes>"
            ]
          },
          "metadata": {}
        }
      ]
    },
    {
      "cell_type": "markdown",
      "metadata": {
        "id": "-NWt18QlYttp"
      },
      "source": [
        "[back to top](#table-of-contents)\n",
        "<a id=\"5.3\"></a>\n",
        "\n",
        "<div style=\"background:#59a1c6;color:black; font-family:'Goudy Old Style';padding:0.5em;border-radius:0.2em;font-size:25px\">5.3 Putting everything together\n",
        "    \n",
        "</div>"
      ]
    },
    {
      "cell_type": "code",
      "metadata": {
        "execution": {
          "iopub.status.busy": "2021-10-04T11:33:07.959254Z",
          "iopub.execute_input": "2021-10-04T11:33:07.959619Z",
          "iopub.status.idle": "2021-10-04T11:33:08.33123Z",
          "shell.execute_reply.started": "2021-10-04T11:33:07.959573Z",
          "shell.execute_reply": "2021-10-04T11:33:08.330313Z"
        },
        "trusted": true,
        "id": "rjMYKN_oYttp",
        "colab": {
          "base_uri": "https://localhost:8080/",
          "height": 323
        },
        "outputId": "2fb7a502-a5e4-40f0-dbff-d55acc3f4948"
      },
      "source": [
        "\"\"\"Putting everything together\"\"\"\n",
        "plt.plot(df_scores.threshold, df_scores['tpr'], label='TPR', color='black')\n",
        "plt.plot(df_scores.threshold, df_scores['fpr'], label='FPR', color='blue')\n",
        "\n",
        "plt.plot(df_ideal.threshold, df_ideal['tpr'], label='TPR ideal')\n",
        "plt.plot(df_ideal.threshold, df_ideal['fpr'], label='FPR ideal')\n",
        "\n",
        "# plt.plot(df_rand.threshold, df_rand['tpr'], label='TPR random', color='grey')\n",
        "# plt.plot(df_rand.threshold, df_rand['fpr'], label='FPR random', color='grey')\n",
        "\n",
        "plt.legend();"
      ],
      "execution_count": 28,
      "outputs": [
        {
          "output_type": "display_data",
          "data": {
            "image/png": "[encoded data removed]",
            "text/plain": [
              "<Figure size 1152x576 with 1 Axes>"
            ]
          },
          "metadata": {}
        }
      ]
    },
    {
      "cell_type": "code",
      "metadata": {
        "execution": {
          "iopub.status.busy": "2021-10-04T11:33:08.332737Z",
          "iopub.execute_input": "2021-10-04T11:33:08.333174Z",
          "iopub.status.idle": "2021-10-04T11:33:08.567335Z",
          "shell.execute_reply.started": "2021-10-04T11:33:08.333141Z",
          "shell.execute_reply": "2021-10-04T11:33:08.566558Z"
        },
        "trusted": true,
        "id": "PPAUstvkYttq",
        "colab": {
          "base_uri": "https://localhost:8080/",
          "height": 330
        },
        "outputId": "1682ce1b-6270-4d2b-bbb8-6097949f50a7"
      },
      "source": [
        "plt.plot(df_scores.fpr, df_scores.tpr, label='Model')\n",
        "plt.plot([0, 1], [0, 1], label='Random', linestyle='--')\n",
        "\n",
        "plt.xlabel('FPR')\n",
        "plt.ylabel('TPR')\n",
        "\n",
        "plt.legend();"
      ],
      "execution_count": 29,
      "outputs": [
        {
          "output_type": "display_data",
          "data": {
            "image/png": "[encoded data removed]",
            "text/plain": [
              "<Figure size 1152x576 with 1 Axes>"
            ]
          },
          "metadata": {}
        }
      ]
    },
    {
      "cell_type": "code",
      "metadata": {
        "execution": {
          "iopub.status.busy": "2021-10-04T11:33:08.568679Z",
          "iopub.execute_input": "2021-10-04T11:33:08.568989Z",
          "iopub.status.idle": "2021-10-04T11:33:08.850127Z",
          "shell.execute_reply.started": "2021-10-04T11:33:08.568951Z",
          "shell.execute_reply": "2021-10-04T11:33:08.849199Z"
        },
        "trusted": true,
        "id": "V_yltHFYYttq",
        "colab": {
          "base_uri": "https://localhost:8080/",
          "height": 330
        },
        "outputId": "de12df15-8359-49d1-ab31-96b00d86d414"
      },
      "source": [
        "from sklearn.metrics import roc_curve\n",
        "fpr, tpr, thresholds = roc_curve(y_val, y_pred)\n",
        "\n",
        "plt.plot(fpr, tpr, label='Model')\n",
        "plt.plot([0, 1], [0, 1], label='Random', linestyle='--')\n",
        "\n",
        "plt.xlabel('FPR')\n",
        "plt.ylabel('TPR')\n",
        "\n",
        "plt.legend();"
      ],
      "execution_count": 30,
      "outputs": [
        {
          "output_type": "display_data",
          "data": {
            "image/png": "[encoded data removed]",
            "text/plain": [
              "<Figure size 1152x576 with 1 Axes>"
            ]
          },
          "metadata": {}
        }
      ]
    },
    {
      "cell_type": "markdown",
      "metadata": {
        "id": "csRycFNkYttq"
      },
      "source": [
        "[back to top](#table-of-contents)\n",
        "<a id=\"6\"></a>\n",
        "\n",
        "<div style=\"background:#2b6684;color:white; font-family:'Goudy Old Style';padding:0.5em;border-radius:0.2em;font-size:25px;color:yellow\">6. AUC\n",
        "    \n",
        "</div>"
      ]
    },
    {
      "cell_type": "code",
      "metadata": {
        "execution": {
          "iopub.status.busy": "2021-10-04T11:33:08.851198Z",
          "iopub.execute_input": "2021-10-04T11:33:08.851411Z",
          "iopub.status.idle": "2021-10-04T11:33:08.85842Z",
          "shell.execute_reply.started": "2021-10-04T11:33:08.851387Z",
          "shell.execute_reply": "2021-10-04T11:33:08.857574Z"
        },
        "trusted": true,
        "id": "1fS0ltz8Yttq",
        "colab": {
          "base_uri": "https://localhost:8080/"
        },
        "outputId": "5de59e49-addc-49f8-f2ee-1d7e4154bac3"
      },
      "source": [
        "\"\"\"Area under Curve basically calculates the probability that a randomly selected positive class has higher score than randomly selected negative class\"\"\"\n",
        "print(auc(fpr, tpr))  # Score from implementation\n",
        "print(auc(df_scores.fpr, df_scores.tpr)) #score from sklearn model"
      ],
      "execution_count": 31,
      "outputs": [
        {
          "output_type": "stream",
          "name": "stdout",
          "text": [
            "0.8438479732980819\n",
            "0.8438808948586651\n"
          ]
        }
      ]
    },
    {
      "cell_type": "code",
      "metadata": {
        "execution": {
          "iopub.status.busy": "2021-10-04T11:33:08.8598Z",
          "iopub.execute_input": "2021-10-04T11:33:08.860657Z",
          "iopub.status.idle": "2021-10-04T11:33:08.871151Z",
          "shell.execute_reply.started": "2021-10-04T11:33:08.860592Z",
          "shell.execute_reply": "2021-10-04T11:33:08.870122Z"
        },
        "trusted": true,
        "id": "1kPFBXPxYttr",
        "colab": {
          "base_uri": "https://localhost:8080/"
        },
        "outputId": "431259c8-b225-44af-edb6-8b8bf0981299"
      },
      "source": [
        "auc(df_ideal.fpr, df_ideal.tpr)  # score from ideal model"
      ],
      "execution_count": 32,
      "outputs": [
        {
          "output_type": "execute_result",
          "data": {
            "text/plain": [
              "0.9999430203759136"
            ]
          },
          "metadata": {},
          "execution_count": 32
        }
      ]
    },
    {
      "cell_type": "code",
      "metadata": {
        "execution": {
          "iopub.status.busy": "2021-10-04T11:33:08.872542Z",
          "iopub.execute_input": "2021-10-04T11:33:08.872921Z",
          "iopub.status.idle": "2021-10-04T11:33:08.884408Z",
          "shell.execute_reply.started": "2021-10-04T11:33:08.872885Z",
          "shell.execute_reply": "2021-10-04T11:33:08.883211Z"
        },
        "trusted": true,
        "id": "cGzVQJxuYttr",
        "colab": {
          "base_uri": "https://localhost:8080/"
        },
        "outputId": "a5447e29-05dd-48c8-e158-49a52ca7fa67"
      },
      "source": [
        "\"\"\"Calculating fpr and tpr using roc_curve from sklearn\"\"\"\n",
        "fpr, tpr, thresholds = roc_curve(y_val, y_pred)\n",
        "auc(fpr, tpr)                # Then calculating auc from fpr and tpr generated from previous step"
      ],
      "execution_count": 33,
      "outputs": [
        {
          "output_type": "execute_result",
          "data": {
            "text/plain": [
              "0.8438479732980819"
            ]
          },
          "metadata": {},
          "execution_count": 33
        }
      ]
    },
    {
      "cell_type": "code",
      "metadata": {
        "execution": {
          "iopub.status.busy": "2021-10-04T11:33:08.887794Z",
          "iopub.execute_input": "2021-10-04T11:33:08.888043Z",
          "iopub.status.idle": "2021-10-04T11:33:08.899172Z",
          "shell.execute_reply.started": "2021-10-04T11:33:08.888015Z",
          "shell.execute_reply": "2021-10-04T11:33:08.898324Z"
        },
        "trusted": true,
        "id": "ov0g7DSbYttr",
        "colab": {
          "base_uri": "https://localhost:8080/"
        },
        "outputId": "a2ff3b9a-c467-401e-ca18-59438a9776a1"
      },
      "source": [
        "\"\"\"We can use sklearn roc_auc to calculate area under curve directly\"\"\"\n",
        "from sklearn.metrics import roc_auc_score\n",
        "roc_auc_score(y_val, y_pred)"
      ],
      "execution_count": 34,
      "outputs": [
        {
          "output_type": "execute_result",
          "data": {
            "text/plain": [
              "0.8438479732980819"
            ]
          },
          "metadata": {},
          "execution_count": 34
        }
      ]
    },
    {
      "cell_type": "code",
      "metadata": {
        "execution": {
          "iopub.status.busy": "2021-10-04T11:33:08.902894Z",
          "iopub.execute_input": "2021-10-04T11:33:08.903143Z",
          "iopub.status.idle": "2021-10-04T11:33:08.907594Z",
          "shell.execute_reply.started": "2021-10-04T11:33:08.903117Z",
          "shell.execute_reply": "2021-10-04T11:33:08.907061Z"
        },
        "trusted": true,
        "id": "yG3HrjFaYtts"
      },
      "source": [
        "\"\"\"As discussed earlier: Area under Curve basically calculates the probability that a randomly selected positive class has higher score than \n",
        "randomly selected negative class\n",
        "\n",
        "Let's implement that and see.\"\"\"\n",
        "\n",
        "neg = y_pred[y_val == 0]   # creating a variable negative to contain all -ve probabilities\n",
        "pos = y_pred[y_val == 1]   # creating a variable positive to contain all +ve probabilities"
      ],
      "execution_count": 35,
      "outputs": []
    },
    {
      "cell_type": "code",
      "metadata": {
        "execution": {
          "iopub.status.busy": "2021-10-04T11:33:08.908369Z",
          "iopub.execute_input": "2021-10-04T11:33:08.908982Z",
          "iopub.status.idle": "2021-10-04T11:33:09.473157Z",
          "shell.execute_reply.started": "2021-10-04T11:33:08.908954Z",
          "shell.execute_reply": "2021-10-04T11:33:09.4726Z"
        },
        "trusted": true,
        "id": "2HC3tqLEYtts",
        "colab": {
          "base_uri": "https://localhost:8080/"
        },
        "outputId": "c67268f3-8f28-4f60-f035-c063e7e4e16f"
      },
      "source": [
        "\"\"\"\n",
        "Randomly selecting postive and negetive class and checking. \n",
        "If we get postive probability greater than negative probability we increment the score by 1\n",
        "Finally we take the fraction by dividing the success by total number of times we repeated experiment. \n",
        "We did the experiment 100000 times.\n",
        "\"\"\"\n",
        "import random\n",
        "n = 100000\n",
        "success = 0 \n",
        "\n",
        "for i in range(n):\n",
        "    pos_ind = random.randint(0, len(pos) - 1)\n",
        "    neg_ind = random.randint(0, len(neg) - 1)\n",
        "\n",
        "    if pos[pos_ind] > neg[neg_ind]:\n",
        "        success = success + 1\n",
        "\n",
        "success / n"
      ],
      "execution_count": 36,
      "outputs": [
        {
          "output_type": "execute_result",
          "data": {
            "text/plain": [
              "0.84675"
            ]
          },
          "metadata": {},
          "execution_count": 36
        }
      ]
    },
    {
      "cell_type": "code",
      "metadata": {
        "execution": {
          "iopub.status.busy": "2021-10-04T11:33:09.473979Z",
          "iopub.execute_input": "2021-10-04T11:33:09.474625Z",
          "iopub.status.idle": "2021-10-04T11:33:09.484614Z",
          "shell.execute_reply.started": "2021-10-04T11:33:09.474596Z",
          "shell.execute_reply": "2021-10-04T11:33:09.483784Z"
        },
        "trusted": true,
        "id": "ekhgiM6hYtts",
        "colab": {
          "base_uri": "https://localhost:8080/"
        },
        "outputId": "2de261b6-e379-46ad-f607-968eff05083c"
      },
      "source": [
        "\"\"\"Implementing it second time\"\"\"\n",
        "n = 50000\n",
        "\n",
        "np.random.seed(1)\n",
        "pos_ind = np.random.randint(0, len(pos), size=n)\n",
        "neg_ind = np.random.randint(0, len(neg), size=n)\n",
        "\n",
        "(pos[pos_ind] > neg[neg_ind]).mean()"
      ],
      "execution_count": 37,
      "outputs": [
        {
          "output_type": "execute_result",
          "data": {
            "text/plain": [
              "0.84646"
            ]
          },
          "metadata": {},
          "execution_count": 37
        }
      ]
    },
    {
      "cell_type": "markdown",
      "metadata": {
        "id": "xJYsYRv4Yttt"
      },
      "source": [
        "\n",
        "[back to top](#table-of-contents)\n",
        "<a id=\"7\"></a>\n",
        "\n",
        "<div style=\"background:#2b6684;color:white; font-family:'Goudy Old Style';padding:0.5em;border-radius:0.2em;font-size:25px;color:yellow\">7. Cross-Validation\n",
        "    \n",
        "</div>"
      ]
    },
    {
      "cell_type": "code",
      "metadata": {
        "execution": {
          "iopub.status.busy": "2021-10-04T11:33:09.486246Z",
          "iopub.execute_input": "2021-10-04T11:33:09.486587Z",
          "iopub.status.idle": "2021-10-04T11:33:09.497034Z",
          "shell.execute_reply.started": "2021-10-04T11:33:09.486548Z",
          "shell.execute_reply": "2021-10-04T11:33:09.496297Z"
        },
        "trusted": true,
        "id": "Qh8w2gu3Yttt"
      },
      "source": [
        "\"\"\"\n",
        "Evaluating the same model on different subsets of data\n",
        "Getting the average prediction and the spread within predictions\n",
        "\"\"\"\n",
        "\n",
        "def train(df_train, y_train, C=1.0):\n",
        "    dicts = df_train[categorical + numerical].to_dict(orient='records')\n",
        "\n",
        "    dv = DictVectorizer(sparse=False)\n",
        "    X_train = dv.fit_transform(dicts)\n",
        "\n",
        "    model = LogisticRegression(C=C, max_iter=1000)\n",
        "    model.fit(X_train, y_train)\n",
        "    \n",
        "    return dv, model\n",
        "\n",
        "def predict(df, dv, model):\n",
        "    dicts = df[categorical + numerical].to_dict(orient='records')\n",
        "\n",
        "    X = dv.transform(dicts)\n",
        "    y_pred = model.predict_proba(X)[:, 1]\n",
        "\n",
        "    return y_pred"
      ],
      "execution_count": 38,
      "outputs": []
    },
    {
      "cell_type": "code",
      "metadata": {
        "execution": {
          "iopub.status.busy": "2021-10-04T11:33:09.498251Z",
          "iopub.execute_input": "2021-10-04T11:33:09.498468Z",
          "iopub.status.idle": "2021-10-04T11:33:18.579976Z",
          "shell.execute_reply.started": "2021-10-04T11:33:09.498437Z",
          "shell.execute_reply": "2021-10-04T11:33:18.578964Z"
        },
        "trusted": true,
        "id": "RImA5qUVYttt",
        "colab": {
          "base_uri": "https://localhost:8080/"
        },
        "outputId": "eb437bf2-1df9-4130-961a-f7f3b37fd5a9"
      },
      "source": [
        "!pip install tqdm"
      ],
      "execution_count": 39,
      "outputs": [
        {
          "output_type": "stream",
          "name": "stdout",
          "text": [
            "Requirement already satisfied: tqdm in /usr/local/lib/python3.7/dist-packages (4.62.3)\n"
          ]
        }
      ]
    },
    {
      "cell_type": "code",
      "metadata": {
        "execution": {
          "iopub.status.busy": "2021-10-04T11:33:18.581697Z",
          "iopub.execute_input": "2021-10-04T11:33:18.582047Z",
          "iopub.status.idle": "2021-10-04T11:33:19.03184Z",
          "shell.execute_reply.started": "2021-10-04T11:33:18.582001Z",
          "shell.execute_reply": "2021-10-04T11:33:19.030647Z"
        },
        "trusted": true,
        "id": "9-a6-Cs4Yttt"
      },
      "source": [
        "dv, model = train(df_train, y_train, C=0.001)\n",
        "y_pred = predict(df_val, dv, model)"
      ],
      "execution_count": 40,
      "outputs": []
    },
    {
      "cell_type": "code",
      "metadata": {
        "execution": {
          "iopub.status.busy": "2021-10-04T11:33:19.033643Z",
          "iopub.execute_input": "2021-10-04T11:33:19.033977Z",
          "iopub.status.idle": "2021-10-04T11:33:19.155097Z",
          "shell.execute_reply.started": "2021-10-04T11:33:19.033937Z",
          "shell.execute_reply": "2021-10-04T11:33:19.154223Z"
        },
        "trusted": true,
        "id": "YVQ6sA2aYttt"
      },
      "source": [
        "from sklearn.model_selection import KFold\n",
        "from tqdm.auto import tqdm"
      ],
      "execution_count": 41,
      "outputs": []
    },
    {
      "cell_type": "code",
      "metadata": {
        "execution": {
          "iopub.status.busy": "2021-10-04T11:33:19.15623Z",
          "iopub.execute_input": "2021-10-04T11:33:19.15645Z",
          "iopub.status.idle": "2021-10-04T11:33:42.306934Z",
          "shell.execute_reply.started": "2021-10-04T11:33:19.156426Z",
          "shell.execute_reply": "2021-10-04T11:33:42.3057Z"
        },
        "trusted": true,
        "id": "I7MuuEWTYttt",
        "colab": {
          "base_uri": "https://localhost:8080/",
          "height": 176,
          "referenced_widgets": [
            "e88da83e80bb4b25964ae4460db10d64",
            "8df8a6e13f9e468fb59c39a2a2093106",
            "baac4e4f4c5042eaa0be5bd4a0d64fa1",
            "5841e56b85d64294a6ff51e4dffe463d",
            "2fc7b56516164c6abb7e3367ca7cb698",
            "c7494515fff548e28e4ee1c82438a753",
            "0358f8d2fa82426492d5075767e61da1",
            "e0a1639dc2fb425282c381f654336e4e",
            "fa89efac5653406eb29376ad2ca3b423",
            "b70686375593420cbb28433cee6bee4e",
            "ab85177b85704d0183da3da95332c618"
          ]
        },
        "outputId": "0cd00cf5-70d8-4990-b5e2-32a28fd4f085"
      },
      "source": [
        "n_splits = 5\n",
        "\n",
        "for C in tqdm([0.001, 0.01, 0.1, 0.5, 1, 5, 10]):\n",
        "    kfold = KFold(n_splits=n_splits, shuffle=True, random_state=1)\n",
        "\n",
        "    scores = []\n",
        "\n",
        "    for train_idx, val_idx in kfold.split(df_full_train):\n",
        "        df_train = df_full_train.iloc[train_idx]\n",
        "        df_val = df_full_train.iloc[val_idx]\n",
        "\n",
        "        y_train = df_train.churn.values\n",
        "        y_val = df_val.churn.values\n",
        "\n",
        "        dv, model = train(df_train, y_train, C=C)\n",
        "        y_pred = predict(df_val, dv, model)\n",
        "\n",
        "        auc = roc_auc_score(y_val, y_pred)\n",
        "        scores.append(auc)\n",
        "\n",
        "    print('C=%s %.3f +- %.3f' % (C, np.mean(scores), np.std(scores)))"
      ],
      "execution_count": 42,
      "outputs": [
        {
          "output_type": "display_data",
          "data": {
            "application/vnd.jupyter.widget-view+json": {
              "model_id": "e88da83e80bb4b25964ae4460db10d64",
              "version_minor": 0,
              "version_major": 2
            },
            "text/plain": [
              "  0%|          | 0/7 [00:00<?, ?it/s]"
            ]
          },
          "metadata": {}
        },
        {
          "output_type": "stream",
          "name": "stdout",
          "text": [
            "C=0.001 0.825 +- 0.009\n",
            "C=0.01 0.840 +- 0.009\n",
            "C=0.1 0.840 +- 0.007\n",
            "C=0.5 0.841 +- 0.007\n",
            "C=1 0.841 +- 0.008\n",
            "C=5 0.841 +- 0.008\n",
            "C=10 0.841 +- 0.007\n"
          ]
        }
      ]
    },
    {
      "cell_type": "code",
      "metadata": {
        "execution": {
          "iopub.status.busy": "2021-10-04T11:33:42.30913Z",
          "iopub.execute_input": "2021-10-04T11:33:42.309905Z",
          "iopub.status.idle": "2021-10-04T11:33:42.326363Z",
          "shell.execute_reply.started": "2021-10-04T11:33:42.30984Z",
          "shell.execute_reply": "2021-10-04T11:33:42.324969Z"
        },
        "trusted": true,
        "id": "-3_guDYSYttu",
        "colab": {
          "base_uri": "https://localhost:8080/"
        },
        "outputId": "5b21e631-182f-4512-b023-207181369414"
      },
      "source": [
        "scores"
      ],
      "execution_count": 43,
      "outputs": [
        {
          "output_type": "execute_result",
          "data": {
            "text/plain": [
              "[0.8425595214732595,\n",
              " 0.8458337471858032,\n",
              " 0.8332972105157537,\n",
              " 0.832634536675833,\n",
              " 0.8508950142763014]"
            ]
          },
          "metadata": {},
          "execution_count": 43
        }
      ]
    },
    {
      "cell_type": "code",
      "metadata": {
        "execution": {
          "iopub.status.busy": "2021-10-04T11:33:42.328684Z",
          "iopub.execute_input": "2021-10-04T11:33:42.329181Z",
          "iopub.status.idle": "2021-10-04T11:33:42.962724Z",
          "shell.execute_reply.started": "2021-10-04T11:33:42.329119Z",
          "shell.execute_reply": "2021-10-04T11:33:42.961831Z"
        },
        "trusted": true,
        "id": "YByqLoNKYttv",
        "colab": {
          "base_uri": "https://localhost:8080/"
        },
        "outputId": "7d1e1bd2-cadd-4cd5-c4d8-93fedeb11e4a"
      },
      "source": [
        "\"\"\"Now that we have the best parameter. Let's train the model using that\"\"\"\n",
        "dv, model = train(df_full_train, df_full_train.churn.values, C=1.0)\n",
        "y_pred = predict(df_test, dv, model)\n",
        "\n",
        "auc = roc_auc_score(y_test, y_pred)\n",
        "auc"
      ],
      "execution_count": 44,
      "outputs": [
        {
          "output_type": "execute_result",
          "data": {
            "text/plain": [
              "0.8572386167896259"
            ]
          },
          "metadata": {},
          "execution_count": 44
        }
      ]
    },
    {
      "cell_type": "code",
      "metadata": {
        "id": "vldgEyVvaaPv"
      },
      "source": [
        "import pickle"
      ],
      "execution_count": 45,
      "outputs": []
    },
    {
      "cell_type": "code",
      "metadata": {
        "colab": {
          "base_uri": "https://localhost:8080/",
          "height": 36
        },
        "id": "5W-M7SgrabkX",
        "outputId": "a474b432-66b3-4d07-eabc-ef40c01bc44c"
      },
      "source": [
        "\"\"\"Storing the file in output_file\"\"\"\n",
        "output_file = f'model_C = {C}.bin'\n",
        "output_file"
      ],
      "execution_count": 46,
      "outputs": [
        {
          "output_type": "execute_result",
          "data": {
            "application/vnd.google.colaboratory.intrinsic+json": {
              "type": "string"
            },
            "text/plain": [
              "'model_C = 10.bin'"
            ]
          },
          "metadata": {},
          "execution_count": 46
        }
      ]
    },
    {
      "cell_type": "code",
      "metadata": {
        "id": "z4Ow8jFcbvlL"
      },
      "source": [
        "\"\"\"Opening the file with 'write' and 'binary' option\"\"\"\n",
        "f_out = open(output_file, 'wb')\n",
        "\n",
        "\n",
        "\"\"\"Since we have both dictVectorizer and model passed in parameters in our predict function we will also save dv (dictVectorizer) in the model file\"\"\"\n",
        "pickle.dump((dv, model), f_out) # Storing our model in the file \n",
        "f_out.close() # Closing the file"
      ],
      "execution_count": 48,
      "outputs": []
    },
    {
      "cell_type": "code",
      "metadata": {
        "id": "WSP0B-qicRp0"
      },
      "source": [
        "\"\"\"Now closing file is very important and often missed and using with is good idea\"\"\"\n",
        "with open(output_file, 'wb') as f_out:\n",
        "  pickle.dump((dv, model), f_out)\n",
        "  # do stuff\n",
        "\n",
        "# once with is exited: file is closed\n"
      ],
      "execution_count": 49,
      "outputs": []
    },
    {
      "cell_type": "markdown",
      "metadata": {
        "id": "OF--i5-EddlT"
      },
      "source": [
        "# Load the model"
      ]
    },
    {
      "cell_type": "code",
      "metadata": {
        "id": "ybbl6TTgdYlY"
      },
      "source": [
        "import pickle"
      ],
      "execution_count": 1,
      "outputs": []
    },
    {
      "cell_type": "code",
      "metadata": {
        "id": "Pa5CuTBAeuhE"
      },
      "source": [
        "model_file = 'model_C = 10.bin' "
      ],
      "execution_count": 3,
      "outputs": []
    },
    {
      "cell_type": "code",
      "metadata": {
        "id": "NONOBIq7dq7D"
      },
      "source": [
        "\"\"\"\n",
        "Changes:\n",
        "- use the file name as specified file name when importing the file.\n",
        "- instead of wb use rb \n",
        "- instead of f_out use f_in\n",
        "- instead of dump use load\n",
        "- finally use the variables to store dv, model i.e. output of our functions. No need to dv,model inside the function as before.\n",
        "\"\"\"\n",
        "with open(model_file, 'rb') as f_in:\n",
        "  dv, model = pickle.load(f_in)"
      ],
      "execution_count": 4,
      "outputs": []
    },
    {
      "cell_type": "code",
      "metadata": {
        "colab": {
          "base_uri": "https://localhost:8080/"
        },
        "id": "xVk3-Q5lfG5i",
        "outputId": "6f269212-1e30-4757-a34d-8af5a218767d"
      },
      "source": [
        "\"\"\"If sklearn is not installed this will not work. \"\"\"\n",
        "dv, model"
      ],
      "execution_count": 5,
      "outputs": [
        {
          "output_type": "execute_result",
          "data": {
            "text/plain": [
              "(DictVectorizer(dtype=<class 'numpy.float64'>, separator='=', sort=True,\n",
              "                sparse=False),\n",
              " LogisticRegression(C=1.0, class_weight=None, dual=False, fit_intercept=True,\n",
              "                    intercept_scaling=1, l1_ratio=None, max_iter=1000,\n",
              "                    multi_class='auto', n_jobs=None, penalty='l2',\n",
              "                    random_state=None, solver='lbfgs', tol=0.0001, verbose=0,\n",
              "                    warm_start=False))"
            ]
          },
          "metadata": {},
          "execution_count": 5
        }
      ]
    },
    {
      "cell_type": "code",
      "metadata": {
        "id": "1v3xvl1FfK7y"
      },
      "source": [
        "customer = df_train.iloc[1].to_dict()\n",
        "y = df.churn.values"
      ],
      "execution_count": 41,
      "outputs": []
    },
    {
      "cell_type": "code",
      "metadata": {
        "colab": {
          "base_uri": "https://localhost:8080/"
        },
        "id": "mAecMOLbhIn3",
        "outputId": "7ce11ec5-f724-4240-ad86-694e694d5837"
      },
      "source": [
        "customer"
      ],
      "execution_count": 42,
      "outputs": [
        {
          "output_type": "execute_result",
          "data": {
            "text/plain": [
              "{'contract': 'month-to-month',\n",
              " 'customerid': '1960-uycnn',\n",
              " 'dependents': 'no',\n",
              " 'deviceprotection': 'yes',\n",
              " 'gender': 'male',\n",
              " 'internetservice': 'fiber_optic',\n",
              " 'monthlycharges': 95.25,\n",
              " 'multiplelines': 'yes',\n",
              " 'onlinebackup': 'yes',\n",
              " 'onlinesecurity': 'no',\n",
              " 'paperlessbilling': 'yes',\n",
              " 'partner': 'no',\n",
              " 'paymentmethod': 'electronic_check',\n",
              " 'phoneservice': 'yes',\n",
              " 'seniorcitizen': 0,\n",
              " 'streamingmovies': 'yes',\n",
              " 'streamingtv': 'no',\n",
              " 'techsupport': 'no',\n",
              " 'tenure': 10,\n",
              " 'totalcharges': 1021.55}"
            ]
          },
          "metadata": {},
          "execution_count": 42
        }
      ]
    },
    {
      "cell_type": "code",
      "metadata": {
        "id": "Go2MTlVhgI5V"
      },
      "source": [
        "X = dv.transform([customer])"
      ],
      "execution_count": 43,
      "outputs": []
    },
    {
      "cell_type": "code",
      "metadata": {
        "colab": {
          "base_uri": "https://localhost:8080/"
        },
        "id": "p0l7cHgSguPP",
        "outputId": "07846202-8fef-4327-bde5-bf2ee858d642"
      },
      "source": [
        "model.predict_proba(X)[0,1]"
      ],
      "execution_count": 44,
      "outputs": [
        {
          "output_type": "execute_result",
          "data": {
            "text/plain": [
              "0.6793334583952361"
            ]
          },
          "metadata": {},
          "execution_count": 44
        }
      ]
    },
    {
      "cell_type": "code",
      "metadata": {
        "id": "cA7lG37qiDCq"
      },
      "source": [
        ""
      ],
      "execution_count": null,
      "outputs": []
    }
  ]
}