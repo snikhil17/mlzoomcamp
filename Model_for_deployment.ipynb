{
  "nbformat": 4,
  "nbformat_minor": 0,
  "metadata": {
    "kernelspec": {
      "language": "python",
      "display_name": "Python 3",
      "name": "python3"
    },
    "language_info": {
      "pygments_lexer": "ipython3",
      "nbconvert_exporter": "python",
      "version": "3.6.4",
      "file_extension": ".py",
      "codemirror_mode": {
        "name": "ipython",
        "version": 3
      },
      "name": "python",
      "mimetype": "text/x-python"
    },
    "colab": {
      "name": "ch-4-evaluation-metrics-for-classification.ipynb",
      "provenance": []
    }
  },
  "cells": [
    {
      "cell_type": "markdown",
      "metadata": {
        "id": "Kjro9STHYttW"
      },
      "source": [
        "<a id=\"table-of-contents\"></a>"
      ]
    },
    {
      "cell_type": "markdown",
      "metadata": {
        "_uuid": "8f2839f25d086af736a60e9eeb907d3b93b6e0e5",
        "_cell_guid": "b1076dfc-b9ad-4769-8c92-a6c4dae69d19",
        "id": "F3KEKQ7uYttZ"
      },
      "source": [
        "<div style=\"background:#2b6684;color:white; font-family:'Goudy Old Style';padding:0.5em;border-radius:0.2em;font-size:30px;color:white\"><u>Chapter 4</u></div>\n",
        "<div style=\"background:#2b6684;color:white; font-family:'Goudy Old Style';padding:0.5em;border-radius:0.2em;font-size:30px;color:white\"><u>Evaluation</u>    \n",
        "<p style=\"font-family:cursive;font-size:17px; color:white\" >Notebook is a part of FREE ML course by Glexey Grigorev\n",
        "<a style=\"font-family:cursive;font-size:17px; color: yellow\" href=\"https://datatalks.club/courses/2021-winter-ml-zoomcamp.html\" target=\"_blank\"> <u>Link for the Course</u></a></p>\n",
        "<li style = \"line-height: 0.7\"><a style=\"font-family:cursive;font-size:17px; color:#ecfe15\" href = \"#1\">1. Getting ready for Evaluation</a></li>   \n",
        "<li style = \"line-height: 0.7\"><a style=\"font-family:cursive;font-size:17px; color:#ecfe15\" href = \"#2\">2. Accuracy and dummy model</a></li> \n",
        "<li style = \"line-height: 0.7\"><a style=\"font-family:cursive;font-size:17px; color:#ecfe15\" href = \"#3\">3. Confusion Matrix </a></li>\n",
        "<li style = \"line-height: 0.7\"><a style=\"font-family:cursive;font-size:17px; color:#ecfe15\" href = \"#4\"> 4. Precision and Recall  </a></li> \n",
        "<li style = \"line-height: 0.7\"><a style=\"font-family:cursive;font-size:17px; color:#ecfe15\" href = \"#5\"> 5. ROC Curves </a></li>  \n",
        "    <ul>\n",
        "<li style = \"line-height: 0.7\"><a style=\"font-family:cursive;font-size:17px; color:#ecfe15\" href = \"#5.1\"> 5.1 Random model</a></li>\n",
        "<li style = \"line-height: 0.7\"><a style=\"font-family:cursive;font-size:17px; color:#ecfe15\" href = \"#5.2\"> 5.2 Ideal model</a></li> \n",
        "<li style = \"line-height: 0.7\"><a style=\"font-family:cursive;font-size:17px; color:#ecfe15\" href = \"#5.3\"> 5.3 Putting everything together</a></li>             \n",
        "</ul>\n",
        "<li style = \"line-height: 0.7\"><a style=\"font-family:cursive;font-size:17px; color:#ecfe15\" href = \"#6\"> 6. ROC AUC</a></li> \n",
        "<li style = \"line-height: 0.7\"><a style=\"font-family:cursive;font-size:17px; color:#ecfe15\" href = \"#7\">7. Cross-Validation</a></li>     \n",
        "    \n",
        "</div>    "
      ]
    },
    {
      "cell_type": "markdown",
      "metadata": {
        "id": "IIsm-TgoYttb"
      },
      "source": [
        "[back to top](#table-of-contents)\n",
        "<a id=\"1\"></a>\n",
        "\n",
        "<div style=\"background:#2b6684;color:white; font-family:'Goudy Old Style';padding:0.5em;border-radius:0.2em;font-size:25px;color:yellow\">1. Getting ready for Evaluation\n",
        "    \n",
        "</div>"
      ]
    },
    {
      "cell_type": "code",
      "metadata": {
        "execution": {
          "iopub.status.busy": "2021-10-04T11:33:04.930149Z",
          "iopub.execute_input": "2021-10-04T11:33:04.93053Z",
          "iopub.status.idle": "2021-10-04T11:33:05.840951Z",
          "shell.execute_reply.started": "2021-10-04T11:33:04.930427Z",
          "shell.execute_reply": "2021-10-04T11:33:05.839978Z"
        },
        "trusted": true,
        "id": "O37chUbwYttc"
      },
      "source": [
        "import pandas as pd\n",
        "import numpy as np\n",
        "\n",
        "import matplotlib.pyplot as plt\n",
        "\n",
        "from sklearn.model_selection import train_test_split\n",
        "from sklearn.feature_extraction import DictVectorizer\n",
        "from sklearn.linear_model import LogisticRegression\n",
        "\n",
        "from sklearn.metrics import auc\n",
        "\n",
        "plt.rcParams['figure.figsize'] = (16, 8)\n",
        "plt.style.use('fivethirtyeight')"
      ],
      "execution_count": null,
      "outputs": []
    },
    {
      "cell_type": "code",
      "metadata": {
        "execution": {
          "iopub.status.busy": "2021-10-04T11:33:05.842826Z",
          "iopub.execute_input": "2021-10-04T11:33:05.843138Z",
          "iopub.status.idle": "2021-10-04T11:33:06.653183Z",
          "shell.execute_reply.started": "2021-10-04T11:33:05.8431Z",
          "shell.execute_reply": "2021-10-04T11:33:06.652409Z"
        },
        "trusted": true,
        "id": "6pS3BEy5Ytte"
      },
      "source": [
        "df = pd.read_csv('../input/telco-customer-churn/WA_Fn-UseC_-Telco-Customer-Churn.csv')\n",
        "\n",
        "df.columns = df.columns.str.lower().str.replace(' ', '_')\n",
        "\n",
        "categorical_columns = list(df.dtypes[df.dtypes == 'object'].index)\n",
        "\n",
        "for c in categorical_columns:\n",
        "    df[c] = df[c].str.lower().str.replace(' ', '_')\n",
        "\n",
        "df.totalcharges = pd.to_numeric(df.totalcharges, errors='coerce')\n",
        "df.totalcharges = df.totalcharges.fillna(0)\n",
        "\n",
        "df.churn = (df.churn == 'yes').astype(int)\n",
        "\n",
        "\n",
        "df_full_train, df_test = train_test_split(df, test_size=0.2, random_state=1)\n",
        "df_train, df_val = train_test_split(df_full_train, test_size=0.25, random_state=1)\n",
        "\n",
        "df_train = df_train.reset_index(drop=True)\n",
        "df_val = df_val.reset_index(drop=True)\n",
        "df_test = df_test.reset_index(drop=True)\n",
        "\n",
        "y_train = df_train.churn.values\n",
        "y_val = df_val.churn.values\n",
        "y_test = df_test.churn.values\n",
        "\n",
        "del df_train['churn']\n",
        "del df_val['churn']\n",
        "del df_test['churn']\n",
        "\n",
        "numerical = ['tenure', 'monthlycharges', 'totalcharges']\n",
        "\n",
        "categorical = [\n",
        "    'gender',\n",
        "    'seniorcitizen',\n",
        "    'partner',\n",
        "    'dependents',\n",
        "    'phoneservice',\n",
        "    'multiplelines',\n",
        "    'internetservice',\n",
        "    'onlinesecurity',\n",
        "    'onlinebackup',\n",
        "    'deviceprotection',\n",
        "    'techsupport',\n",
        "    'streamingtv',\n",
        "    'streamingmovies',\n",
        "    'contract',\n",
        "    'paperlessbilling',\n",
        "    'paymentmethod',\n",
        "]\n",
        "\n",
        "\n",
        "dv = DictVectorizer(sparse=False)\n",
        "\n",
        "train_dict = df_train[categorical + numerical].to_dict(orient='records')\n",
        "X_train = dv.fit_transform(train_dict)\n",
        "\n",
        "model = LogisticRegression()\n",
        "model.fit(X_train, y_train)\n",
        "\n",
        "val_dict = df_val[categorical + numerical].to_dict(orient='records')\n",
        "X_val = dv.transform(val_dict)\n",
        "\n",
        "y_pred = model.predict_proba(X_val)[:, 1]\n",
        "churn_decision = (y_pred >= 0.5)\n",
        "(y_val == churn_decision).mean()"
      ],
      "execution_count": null,
      "outputs": []
    },
    {
      "cell_type": "markdown",
      "metadata": {
        "id": "xDZ7dqNrYttf"
      },
      "source": [
        "[back to top](#table-of-contents)\n",
        "<a id=\"2\"></a>\n",
        "\n",
        "<div style=\"background:#2b6684;color:white; font-family:'Goudy Old Style';padding:0.5em;border-radius:0.2em;font-size:25px;color:yellow\">2. Accuracy and dummy model\n",
        "    \n",
        "</div>"
      ]
    },
    {
      "cell_type": "code",
      "metadata": {
        "execution": {
          "iopub.status.busy": "2021-10-04T11:33:06.654385Z",
          "iopub.execute_input": "2021-10-04T11:33:06.654928Z",
          "iopub.status.idle": "2021-10-04T11:33:06.659878Z",
          "shell.execute_reply.started": "2021-10-04T11:33:06.654888Z",
          "shell.execute_reply": "2021-10-04T11:33:06.659131Z"
        },
        "trusted": true,
        "id": "7xrdDKCQYttg"
      },
      "source": [
        "from sklearn.metrics import accuracy_score"
      ],
      "execution_count": null,
      "outputs": []
    },
    {
      "cell_type": "code",
      "metadata": {
        "execution": {
          "iopub.status.busy": "2021-10-04T11:33:06.66209Z",
          "iopub.execute_input": "2021-10-04T11:33:06.66256Z",
          "iopub.status.idle": "2021-10-04T11:33:06.672821Z",
          "shell.execute_reply.started": "2021-10-04T11:33:06.662505Z",
          "shell.execute_reply": "2021-10-04T11:33:06.671909Z"
        },
        "trusted": true,
        "id": "nz9Gr_AEYttg"
      },
      "source": [
        "accuracy_score(y_val, y_pred >= 0.5)"
      ],
      "execution_count": null,
      "outputs": []
    },
    {
      "cell_type": "code",
      "metadata": {
        "execution": {
          "iopub.status.busy": "2021-10-04T11:33:06.674324Z",
          "iopub.execute_input": "2021-10-04T11:33:06.674923Z",
          "iopub.status.idle": "2021-10-04T11:33:06.70045Z",
          "shell.execute_reply.started": "2021-10-04T11:33:06.674885Z",
          "shell.execute_reply": "2021-10-04T11:33:06.69968Z"
        },
        "trusted": true,
        "id": "hOvQlPyxYtth"
      },
      "source": [
        "\"\"\"Let's check the accuracy with different threshold\"\"\"\n",
        "thresholds = np.linspace(0, 1, 21)\n",
        "\n",
        "scores = []\n",
        "\n",
        "for t in thresholds:\n",
        "    score = accuracy_score(y_val, y_pred >= t)\n",
        "    print('%.2f %.3f' % (t, score))\n",
        "    scores.append(score)"
      ],
      "execution_count": null,
      "outputs": []
    },
    {
      "cell_type": "code",
      "metadata": {
        "execution": {
          "iopub.status.busy": "2021-10-04T11:33:06.701923Z",
          "iopub.execute_input": "2021-10-04T11:33:06.702381Z",
          "iopub.status.idle": "2021-10-04T11:33:06.941201Z",
          "shell.execute_reply.started": "2021-10-04T11:33:06.70234Z",
          "shell.execute_reply": "2021-10-04T11:33:06.940318Z"
        },
        "trusted": true,
        "id": "vg7Tvt7HYtth"
      },
      "source": [
        "\"\"\"Let's plot these results\"\"\"\n",
        "plt.plot(thresholds, scores);"
      ],
      "execution_count": null,
      "outputs": []
    },
    {
      "cell_type": "code",
      "metadata": {
        "execution": {
          "iopub.status.busy": "2021-10-04T11:33:06.942573Z",
          "iopub.execute_input": "2021-10-04T11:33:06.94287Z",
          "iopub.status.idle": "2021-10-04T11:33:06.949067Z",
          "shell.execute_reply.started": "2021-10-04T11:33:06.942837Z",
          "shell.execute_reply": "2021-10-04T11:33:06.948244Z"
        },
        "trusted": true,
        "id": "Ldd4Mcr-Ytti"
      },
      "source": [
        "\"\"\"Also, our data is not balanced\"\"\"\n",
        "df['churn'].mean()"
      ],
      "execution_count": null,
      "outputs": []
    },
    {
      "cell_type": "markdown",
      "metadata": {
        "id": "y_XTXJ4LYtti"
      },
      "source": [
        "**Observation:**\n",
        "- **We can see that when all the predictions are False our model gives accuracy of ``0.726``**\n",
        "- **This is because our data is ``not balanced`` . One class is way more than in numbers than the other.**\n",
        " "
      ]
    },
    {
      "cell_type": "markdown",
      "metadata": {
        "id": "TfnXX2tYYttj"
      },
      "source": [
        "[back to top](#table-of-contents)\n",
        "<a id=\"3\"></a>\n",
        "\n",
        "<div style=\"background:#2b6684;color:white; font-family:'Goudy Old Style';padding:0.5em;border-radius:0.2em;font-size:25px;color:yellow\">3. Confusion Matrix\n",
        "    \n",
        "</div>"
      ]
    },
    {
      "cell_type": "code",
      "metadata": {
        "execution": {
          "iopub.status.busy": "2021-10-04T11:33:06.950433Z",
          "iopub.execute_input": "2021-10-04T11:33:06.950768Z",
          "iopub.status.idle": "2021-10-04T11:33:06.964064Z",
          "shell.execute_reply.started": "2021-10-04T11:33:06.950729Z",
          "shell.execute_reply": "2021-10-04T11:33:06.963142Z"
        },
        "trusted": true,
        "id": "sZFVVfXhYttj"
      },
      "source": [
        "actual_positive = (y_val == 1)\n",
        "actual_negative = (y_val == 0)\n",
        "\n",
        "t = 0.5\n",
        "predict_positive = (y_pred >= t)\n",
        "predict_negative = (y_pred < t)\n",
        "\n",
        "tp = (predict_positive & actual_positive).sum()\n",
        "tn = (predict_negative & actual_negative).sum()\n",
        "\n",
        "fp = (predict_positive & actual_negative).sum()\n",
        "fn = (predict_negative & actual_positive).sum()\n",
        "\n",
        "confusion_matrix = np.array([\n",
        "    [tn, fp],\n",
        "    [fn, tp]\n",
        "])\n",
        "\"\"\"Confusion Matrix in frequency Form\"\"\"\n",
        "confusion_matrix"
      ],
      "execution_count": null,
      "outputs": []
    },
    {
      "cell_type": "code",
      "metadata": {
        "execution": {
          "iopub.status.busy": "2021-10-04T11:33:06.965317Z",
          "iopub.execute_input": "2021-10-04T11:33:06.965579Z",
          "iopub.status.idle": "2021-10-04T11:33:06.976078Z",
          "shell.execute_reply.started": "2021-10-04T11:33:06.965553Z",
          "shell.execute_reply": "2021-10-04T11:33:06.975238Z"
        },
        "trusted": true,
        "id": "Xklyn98xYttj"
      },
      "source": [
        "\"\"\"Confusion Matrix in percentage Form\"\"\"\n",
        "(confusion_matrix / confusion_matrix.sum()).round(2)"
      ],
      "execution_count": null,
      "outputs": []
    },
    {
      "cell_type": "markdown",
      "metadata": {
        "id": "pXvF0Jq4Yttk"
      },
      "source": [
        "[back to top](#table-of-contents)\n",
        "<a id=\"4\"></a>\n",
        "\n",
        "<div style=\"background:#2b6684;color:white; font-family:'Goudy Old Style';padding:0.5em;border-radius:0.2em;font-size:25px;color:yellow\">4. Precision and Recall\n",
        "    \n",
        "</div>"
      ]
    },
    {
      "cell_type": "code",
      "metadata": {
        "execution": {
          "iopub.status.busy": "2021-10-04T11:33:06.979062Z",
          "iopub.execute_input": "2021-10-04T11:33:06.979272Z",
          "iopub.status.idle": "2021-10-04T11:33:06.987364Z",
          "shell.execute_reply.started": "2021-10-04T11:33:06.979248Z",
          "shell.execute_reply": "2021-10-04T11:33:06.98622Z"
        },
        "trusted": true,
        "id": "c2RcekKyYttk"
      },
      "source": [
        "\"\"\"Precision\"\"\"\n",
        "p = tp / (tp + fp)\n",
        "print(p)\n",
        "\"\"\"Recall\"\"\"\n",
        "r = tp / (tp + fn)\n",
        "print(r)"
      ],
      "execution_count": null,
      "outputs": []
    },
    {
      "cell_type": "markdown",
      "metadata": {
        "id": "tAmhiXywYttl"
      },
      "source": [
        "[back to top](#table-of-contents)\n",
        "<a id=\"5\"></a>\n",
        "\n",
        "<div style=\"background:#2b6684;color:white; font-family:'Goudy Old Style';padding:0.5em;border-radius:0.2em;font-size:25px;color:yellow\">5. ROC Curves\n",
        "    \n",
        "</div>\n",
        "\n",
        "\n"
      ]
    },
    {
      "cell_type": "code",
      "metadata": {
        "execution": {
          "iopub.status.busy": "2021-10-04T11:33:06.988508Z",
          "iopub.execute_input": "2021-10-04T11:33:06.988908Z",
          "iopub.status.idle": "2021-10-04T11:33:06.997617Z",
          "shell.execute_reply.started": "2021-10-04T11:33:06.988881Z",
          "shell.execute_reply": "2021-10-04T11:33:06.996807Z"
        },
        "trusted": true,
        "id": "ecv1cI-gYttl"
      },
      "source": [
        "\"\"\"TPR\"\"\"\n",
        "tpr = tp / (tp + fn)\n",
        "print(tpr)\n",
        "\"\"\"FRP\"\"\"\n",
        "fpr = fp / (fp + tn)\n",
        "print(fpr)"
      ],
      "execution_count": null,
      "outputs": []
    },
    {
      "cell_type": "code",
      "metadata": {
        "execution": {
          "iopub.status.busy": "2021-10-04T11:33:06.998854Z",
          "iopub.execute_input": "2021-10-04T11:33:06.99927Z",
          "iopub.status.idle": "2021-10-04T11:33:07.286994Z",
          "shell.execute_reply.started": "2021-10-04T11:33:06.999243Z",
          "shell.execute_reply": "2021-10-04T11:33:07.286115Z"
        },
        "trusted": true,
        "id": "KYlbBxaeYttm"
      },
      "source": [
        "scores = []\n",
        "\n",
        "thresholds = np.linspace(0, 1, 101)\n",
        "\n",
        "for t in thresholds:\n",
        "    actual_positive = (y_val == 1)\n",
        "    actual_negative = (y_val == 0)\n",
        "    \n",
        "    predict_positive = (y_pred >= t)\n",
        "    predict_negative = (y_pred < t)\n",
        "\n",
        "    tp = (predict_positive & actual_positive).sum()\n",
        "    tn = (predict_negative & actual_negative).sum()\n",
        "\n",
        "    fp = (predict_positive & actual_negative).sum()\n",
        "    fn = (predict_negative & actual_positive).sum()\n",
        "    \n",
        "    scores.append((t, tp, fp, fn, tn))\n",
        "    \n",
        "\n",
        "\n",
        "columns = ['threshold', 'tp', 'fp', 'fn', 'tn']\n",
        "df_scores = pd.DataFrame(scores, columns=columns)\n",
        "\n",
        "df_scores['tpr'] = df_scores.tp / (df_scores.tp + df_scores.fn)\n",
        "df_scores['fpr'] = df_scores.fp / (df_scores.fp + df_scores.tn)\n",
        "\n",
        "\n",
        "\n",
        "\n",
        "plt.plot(df_scores.threshold, df_scores['tpr'], label='TPR')\n",
        "plt.plot(df_scores.threshold, df_scores['fpr'], label='FPR')\n",
        "plt.legend();\n",
        "    "
      ],
      "execution_count": null,
      "outputs": []
    },
    {
      "cell_type": "code",
      "metadata": {
        "execution": {
          "iopub.status.busy": "2021-10-04T11:33:53.470594Z",
          "iopub.execute_input": "2021-10-04T11:33:53.470933Z",
          "iopub.status.idle": "2021-10-04T11:33:53.489945Z",
          "shell.execute_reply.started": "2021-10-04T11:33:53.470893Z",
          "shell.execute_reply": "2021-10-04T11:33:53.488961Z"
        },
        "trusted": true,
        "id": "WebqDUNcYttm"
      },
      "source": [
        "df_scores"
      ],
      "execution_count": null,
      "outputs": []
    },
    {
      "cell_type": "markdown",
      "metadata": {
        "id": "HHRpvpYkYttm"
      },
      "source": [
        "[back to top](#table-of-contents)\n",
        "<a id=\"5.1\"></a>\n",
        "\n",
        "<div style=\"background:#59a1c6;color:black; font-family:'Goudy Old Style';padding:0.5em;border-radius:0.2em;font-size:25px\">5.1 Random model\n",
        "    \n",
        "</div>"
      ]
    },
    {
      "cell_type": "code",
      "metadata": {
        "execution": {
          "iopub.status.busy": "2021-10-04T11:33:07.288094Z",
          "iopub.execute_input": "2021-10-04T11:33:07.28833Z",
          "iopub.status.idle": "2021-10-04T11:33:07.296447Z",
          "shell.execute_reply.started": "2021-10-04T11:33:07.288302Z",
          "shell.execute_reply": "2021-10-04T11:33:07.295611Z"
        },
        "trusted": true,
        "id": "wf_jGpp9Yttm"
      },
      "source": [
        "\"\"\"Random model\"\"\"\n",
        "np.random.seed(1)\n",
        "y_rand = np.random.uniform(0, 1, size=len(y_val))\n",
        "\n",
        "((y_rand >= 0.5) == y_val).mean()"
      ],
      "execution_count": null,
      "outputs": []
    },
    {
      "cell_type": "code",
      "metadata": {
        "execution": {
          "iopub.status.busy": "2021-10-04T11:33:07.297863Z",
          "iopub.execute_input": "2021-10-04T11:33:07.298178Z",
          "iopub.status.idle": "2021-10-04T11:33:07.307566Z",
          "shell.execute_reply.started": "2021-10-04T11:33:07.29815Z",
          "shell.execute_reply": "2021-10-04T11:33:07.306609Z"
        },
        "trusted": true,
        "id": "eZm1Kc86Yttn"
      },
      "source": [
        "def tpr_fpr_dataframe(y_val, y_pred):\n",
        "    scores = []\n",
        "\n",
        "    thresholds = np.linspace(0, 1, 101)\n",
        "\n",
        "    for t in thresholds:\n",
        "        actual_positive = (y_val == 1)\n",
        "        actual_negative = (y_val == 0)\n",
        "\n",
        "        predict_positive = (y_pred >= t)\n",
        "        predict_negative = (y_pred < t)\n",
        "\n",
        "        tp = (predict_positive & actual_positive).sum()\n",
        "        tn = (predict_negative & actual_negative).sum()\n",
        "\n",
        "        fp = (predict_positive & actual_negative).sum()\n",
        "        fn = (predict_negative & actual_positive).sum()\n",
        "\n",
        "        scores.append((t, tp, fp, fn, tn))\n",
        "\n",
        "    columns = ['threshold', 'tp', 'fp', 'fn', 'tn']\n",
        "    df_scores = pd.DataFrame(scores, columns=columns)\n",
        "\n",
        "    df_scores['tpr'] = df_scores.tp / (df_scores.tp + df_scores.fn)\n",
        "    df_scores['fpr'] = df_scores.fp / (df_scores.fp + df_scores.tn)\n",
        "    \n",
        "    return df_scores"
      ],
      "execution_count": null,
      "outputs": []
    },
    {
      "cell_type": "code",
      "metadata": {
        "execution": {
          "iopub.status.busy": "2021-10-04T11:33:07.308847Z",
          "iopub.execute_input": "2021-10-04T11:33:07.309091Z",
          "iopub.status.idle": "2021-10-04T11:33:07.62018Z",
          "shell.execute_reply.started": "2021-10-04T11:33:07.309065Z",
          "shell.execute_reply": "2021-10-04T11:33:07.618594Z"
        },
        "trusted": true,
        "id": "osk5tnk-Yttn"
      },
      "source": [
        "df_rand = tpr_fpr_dataframe(y_val, y_rand)\n",
        "\n",
        "plt.plot(df_rand.threshold, df_rand['tpr'], label='TPR')\n",
        "plt.plot(df_rand.threshold, df_rand['fpr'], label='FPR')\n",
        "plt.legend();"
      ],
      "execution_count": null,
      "outputs": []
    },
    {
      "cell_type": "markdown",
      "metadata": {
        "id": "rsz8p2T7Yttn"
      },
      "source": [
        "[back to top](#table-of-contents)\n",
        "<a id=\"5.2\"></a>\n",
        "\n",
        "<div style=\"background:#59a1c6;color:black; font-family:'Goudy Old Style';padding:0.5em;border-radius:0.2em;font-size:25px\">5.2 Ideal model\n",
        "    \n",
        "</div>"
      ]
    },
    {
      "cell_type": "code",
      "metadata": {
        "execution": {
          "iopub.status.busy": "2021-10-04T11:33:07.621965Z",
          "iopub.execute_input": "2021-10-04T11:33:07.622197Z",
          "iopub.status.idle": "2021-10-04T11:33:07.627068Z",
          "shell.execute_reply.started": "2021-10-04T11:33:07.622171Z",
          "shell.execute_reply": "2021-10-04T11:33:07.626544Z"
        },
        "trusted": true,
        "id": "IuAJTyDeYtto"
      },
      "source": [
        "\"\"\"Ideal model\"\"\"\n",
        "num_neg = (y_val == 0).sum()\n",
        "num_pos = (y_val == 1).sum()\n",
        "num_neg, num_pos\n",
        "\n",
        "y_ideal = np.repeat([0, 1], [num_neg, num_pos])\n",
        "\n",
        "y_ideal_pred = np.linspace(0, 1, len(y_val))"
      ],
      "execution_count": null,
      "outputs": []
    },
    {
      "cell_type": "code",
      "metadata": {
        "execution": {
          "iopub.status.busy": "2021-10-04T11:33:07.627857Z",
          "iopub.execute_input": "2021-10-04T11:33:07.628348Z",
          "iopub.status.idle": "2021-10-04T11:33:07.643363Z",
          "shell.execute_reply.started": "2021-10-04T11:33:07.628319Z",
          "shell.execute_reply": "2021-10-04T11:33:07.642547Z"
        },
        "trusted": true,
        "id": "v9FwXtQKYtto"
      },
      "source": [
        "1 - y_val.mean()"
      ],
      "execution_count": null,
      "outputs": []
    },
    {
      "cell_type": "code",
      "metadata": {
        "execution": {
          "iopub.status.busy": "2021-10-04T11:33:07.644784Z",
          "iopub.execute_input": "2021-10-04T11:33:07.645023Z",
          "iopub.status.idle": "2021-10-04T11:33:07.652843Z",
          "shell.execute_reply.started": "2021-10-04T11:33:07.644997Z",
          "shell.execute_reply": "2021-10-04T11:33:07.652002Z"
        },
        "trusted": true,
        "id": "r0A_2VTGYtto"
      },
      "source": [
        "accuracy_score(y_ideal, y_ideal_pred >= 0.726)"
      ],
      "execution_count": null,
      "outputs": []
    },
    {
      "cell_type": "code",
      "metadata": {
        "execution": {
          "iopub.status.busy": "2021-10-04T11:33:07.654082Z",
          "iopub.execute_input": "2021-10-04T11:33:07.654283Z",
          "iopub.status.idle": "2021-10-04T11:33:07.682614Z",
          "shell.execute_reply.started": "2021-10-04T11:33:07.65426Z",
          "shell.execute_reply": "2021-10-04T11:33:07.681802Z"
        },
        "trusted": true,
        "id": "YGPzW0woYtto"
      },
      "source": [
        "df_ideal = tpr_fpr_dataframe(y_ideal, y_ideal_pred)\n",
        "df_ideal[::10]"
      ],
      "execution_count": null,
      "outputs": []
    },
    {
      "cell_type": "code",
      "metadata": {
        "execution": {
          "iopub.status.busy": "2021-10-04T11:33:07.683901Z",
          "iopub.execute_input": "2021-10-04T11:33:07.684716Z",
          "iopub.status.idle": "2021-10-04T11:33:07.95768Z",
          "shell.execute_reply.started": "2021-10-04T11:33:07.684675Z",
          "shell.execute_reply": "2021-10-04T11:33:07.956341Z"
        },
        "trusted": true,
        "id": "yQZPqYdiYttp"
      },
      "source": [
        "plt.plot(df_ideal.threshold, df_ideal['tpr'], label='TPR')\n",
        "plt.plot(df_ideal.threshold, df_ideal['fpr'], label='FPR')\n",
        "plt.legend()"
      ],
      "execution_count": null,
      "outputs": []
    },
    {
      "cell_type": "markdown",
      "metadata": {
        "id": "-NWt18QlYttp"
      },
      "source": [
        "[back to top](#table-of-contents)\n",
        "<a id=\"5.3\"></a>\n",
        "\n",
        "<div style=\"background:#59a1c6;color:black; font-family:'Goudy Old Style';padding:0.5em;border-radius:0.2em;font-size:25px\">5.3 Putting everything together\n",
        "    \n",
        "</div>"
      ]
    },
    {
      "cell_type": "code",
      "metadata": {
        "execution": {
          "iopub.status.busy": "2021-10-04T11:33:07.959254Z",
          "iopub.execute_input": "2021-10-04T11:33:07.959619Z",
          "iopub.status.idle": "2021-10-04T11:33:08.33123Z",
          "shell.execute_reply.started": "2021-10-04T11:33:07.959573Z",
          "shell.execute_reply": "2021-10-04T11:33:08.330313Z"
        },
        "trusted": true,
        "id": "rjMYKN_oYttp"
      },
      "source": [
        "\"\"\"Putting everything together\"\"\"\n",
        "plt.plot(df_scores.threshold, df_scores['tpr'], label='TPR', color='black')\n",
        "plt.plot(df_scores.threshold, df_scores['fpr'], label='FPR', color='blue')\n",
        "\n",
        "plt.plot(df_ideal.threshold, df_ideal['tpr'], label='TPR ideal')\n",
        "plt.plot(df_ideal.threshold, df_ideal['fpr'], label='FPR ideal')\n",
        "\n",
        "# plt.plot(df_rand.threshold, df_rand['tpr'], label='TPR random', color='grey')\n",
        "# plt.plot(df_rand.threshold, df_rand['fpr'], label='FPR random', color='grey')\n",
        "\n",
        "plt.legend();"
      ],
      "execution_count": null,
      "outputs": []
    },
    {
      "cell_type": "code",
      "metadata": {
        "execution": {
          "iopub.status.busy": "2021-10-04T11:33:08.332737Z",
          "iopub.execute_input": "2021-10-04T11:33:08.333174Z",
          "iopub.status.idle": "2021-10-04T11:33:08.567335Z",
          "shell.execute_reply.started": "2021-10-04T11:33:08.333141Z",
          "shell.execute_reply": "2021-10-04T11:33:08.566558Z"
        },
        "trusted": true,
        "id": "PPAUstvkYttq"
      },
      "source": [
        "plt.plot(df_scores.fpr, df_scores.tpr, label='Model')\n",
        "plt.plot([0, 1], [0, 1], label='Random', linestyle='--')\n",
        "\n",
        "plt.xlabel('FPR')\n",
        "plt.ylabel('TPR')\n",
        "\n",
        "plt.legend();"
      ],
      "execution_count": null,
      "outputs": []
    },
    {
      "cell_type": "code",
      "metadata": {
        "execution": {
          "iopub.status.busy": "2021-10-04T11:33:08.568679Z",
          "iopub.execute_input": "2021-10-04T11:33:08.568989Z",
          "iopub.status.idle": "2021-10-04T11:33:08.850127Z",
          "shell.execute_reply.started": "2021-10-04T11:33:08.568951Z",
          "shell.execute_reply": "2021-10-04T11:33:08.849199Z"
        },
        "trusted": true,
        "id": "V_yltHFYYttq"
      },
      "source": [
        "from sklearn.metrics import roc_curve\n",
        "fpr, tpr, thresholds = roc_curve(y_val, y_pred)\n",
        "\n",
        "plt.plot(fpr, tpr, label='Model')\n",
        "plt.plot([0, 1], [0, 1], label='Random', linestyle='--')\n",
        "\n",
        "plt.xlabel('FPR')\n",
        "plt.ylabel('TPR')\n",
        "\n",
        "plt.legend();"
      ],
      "execution_count": null,
      "outputs": []
    },
    {
      "cell_type": "markdown",
      "metadata": {
        "id": "csRycFNkYttq"
      },
      "source": [
        "[back to top](#table-of-contents)\n",
        "<a id=\"6\"></a>\n",
        "\n",
        "<div style=\"background:#2b6684;color:white; font-family:'Goudy Old Style';padding:0.5em;border-radius:0.2em;font-size:25px;color:yellow\">6. AUC\n",
        "    \n",
        "</div>"
      ]
    },
    {
      "cell_type": "code",
      "metadata": {
        "execution": {
          "iopub.status.busy": "2021-10-04T11:33:08.851198Z",
          "iopub.execute_input": "2021-10-04T11:33:08.851411Z",
          "iopub.status.idle": "2021-10-04T11:33:08.85842Z",
          "shell.execute_reply.started": "2021-10-04T11:33:08.851387Z",
          "shell.execute_reply": "2021-10-04T11:33:08.857574Z"
        },
        "trusted": true,
        "id": "1fS0ltz8Yttq"
      },
      "source": [
        "\"\"\"Area under Curve basically calculates the probability that a randomly selected positive class has higher score than randomly selected negative class\"\"\"\n",
        "print(auc(fpr, tpr))  # Score from implementation\n",
        "print(auc(df_scores.fpr, df_scores.tpr)) #score from sklearn model"
      ],
      "execution_count": null,
      "outputs": []
    },
    {
      "cell_type": "code",
      "metadata": {
        "execution": {
          "iopub.status.busy": "2021-10-04T11:33:08.8598Z",
          "iopub.execute_input": "2021-10-04T11:33:08.860657Z",
          "iopub.status.idle": "2021-10-04T11:33:08.871151Z",
          "shell.execute_reply.started": "2021-10-04T11:33:08.860592Z",
          "shell.execute_reply": "2021-10-04T11:33:08.870122Z"
        },
        "trusted": true,
        "id": "1kPFBXPxYttr"
      },
      "source": [
        "auc(df_ideal.fpr, df_ideal.tpr)  # score from ideal model"
      ],
      "execution_count": null,
      "outputs": []
    },
    {
      "cell_type": "code",
      "metadata": {
        "execution": {
          "iopub.status.busy": "2021-10-04T11:33:08.872542Z",
          "iopub.execute_input": "2021-10-04T11:33:08.872921Z",
          "iopub.status.idle": "2021-10-04T11:33:08.884408Z",
          "shell.execute_reply.started": "2021-10-04T11:33:08.872885Z",
          "shell.execute_reply": "2021-10-04T11:33:08.883211Z"
        },
        "trusted": true,
        "id": "cGzVQJxuYttr"
      },
      "source": [
        "\"\"\"Calculating fpr and tpr using roc_curve from sklearn\"\"\"\n",
        "fpr, tpr, thresholds = roc_curve(y_val, y_pred)\n",
        "auc(fpr, tpr)                # Then calculating auc from fpr and tpr generated from previous step"
      ],
      "execution_count": null,
      "outputs": []
    },
    {
      "cell_type": "code",
      "metadata": {
        "execution": {
          "iopub.status.busy": "2021-10-04T11:33:08.887794Z",
          "iopub.execute_input": "2021-10-04T11:33:08.888043Z",
          "iopub.status.idle": "2021-10-04T11:33:08.899172Z",
          "shell.execute_reply.started": "2021-10-04T11:33:08.888015Z",
          "shell.execute_reply": "2021-10-04T11:33:08.898324Z"
        },
        "trusted": true,
        "id": "ov0g7DSbYttr"
      },
      "source": [
        "\"\"\"We can use sklearn roc_auc to calculate area under curve directly\"\"\"\n",
        "from sklearn.metrics import roc_auc_score\n",
        "roc_auc_score(y_val, y_pred)"
      ],
      "execution_count": null,
      "outputs": []
    },
    {
      "cell_type": "code",
      "metadata": {
        "execution": {
          "iopub.status.busy": "2021-10-04T11:33:08.902894Z",
          "iopub.execute_input": "2021-10-04T11:33:08.903143Z",
          "iopub.status.idle": "2021-10-04T11:33:08.907594Z",
          "shell.execute_reply.started": "2021-10-04T11:33:08.903117Z",
          "shell.execute_reply": "2021-10-04T11:33:08.907061Z"
        },
        "trusted": true,
        "id": "yG3HrjFaYtts"
      },
      "source": [
        "\"\"\"As discussed earlier: Area under Curve basically calculates the probability that a randomly selected positive class has higher score than \n",
        "randomly selected negative class\n",
        "\n",
        "Let's implement that and see.\"\"\"\n",
        "\n",
        "neg = y_pred[y_val == 0]   # creating a variable negative to contain all -ve probabilities\n",
        "pos = y_pred[y_val == 1]   # creating a variable positive to contain all +ve probabilities"
      ],
      "execution_count": null,
      "outputs": []
    },
    {
      "cell_type": "code",
      "metadata": {
        "execution": {
          "iopub.status.busy": "2021-10-04T11:33:08.908369Z",
          "iopub.execute_input": "2021-10-04T11:33:08.908982Z",
          "iopub.status.idle": "2021-10-04T11:33:09.473157Z",
          "shell.execute_reply.started": "2021-10-04T11:33:08.908954Z",
          "shell.execute_reply": "2021-10-04T11:33:09.4726Z"
        },
        "trusted": true,
        "id": "2HC3tqLEYtts"
      },
      "source": [
        "\"\"\"\n",
        "Randomly selecting postive and negetive class and checking. \n",
        "If we get postive probability greater than negative probability we increment the score by 1\n",
        "Finally we take the fraction by dividing the success by total number of times we repeated experiment. \n",
        "We did the experiment 100000 times.\n",
        "\"\"\"\n",
        "import random\n",
        "n = 100000\n",
        "success = 0 \n",
        "\n",
        "for i in range(n):\n",
        "    pos_ind = random.randint(0, len(pos) - 1)\n",
        "    neg_ind = random.randint(0, len(neg) - 1)\n",
        "\n",
        "    if pos[pos_ind] > neg[neg_ind]:\n",
        "        success = success + 1\n",
        "\n",
        "success / n"
      ],
      "execution_count": null,
      "outputs": []
    },
    {
      "cell_type": "code",
      "metadata": {
        "execution": {
          "iopub.status.busy": "2021-10-04T11:33:09.473979Z",
          "iopub.execute_input": "2021-10-04T11:33:09.474625Z",
          "iopub.status.idle": "2021-10-04T11:33:09.484614Z",
          "shell.execute_reply.started": "2021-10-04T11:33:09.474596Z",
          "shell.execute_reply": "2021-10-04T11:33:09.483784Z"
        },
        "trusted": true,
        "id": "ekhgiM6hYtts"
      },
      "source": [
        "\"\"\"Implementing it second time\"\"\"\n",
        "n = 50000\n",
        "\n",
        "np.random.seed(1)\n",
        "pos_ind = np.random.randint(0, len(pos), size=n)\n",
        "neg_ind = np.random.randint(0, len(neg), size=n)\n",
        "\n",
        "(pos[pos_ind] > neg[neg_ind]).mean()"
      ],
      "execution_count": null,
      "outputs": []
    },
    {
      "cell_type": "markdown",
      "metadata": {
        "id": "xJYsYRv4Yttt"
      },
      "source": [
        "\n",
        "[back to top](#table-of-contents)\n",
        "<a id=\"7\"></a>\n",
        "\n",
        "<div style=\"background:#2b6684;color:white; font-family:'Goudy Old Style';padding:0.5em;border-radius:0.2em;font-size:25px;color:yellow\">7. Cross-Validation\n",
        "    \n",
        "</div>"
      ]
    },
    {
      "cell_type": "code",
      "metadata": {
        "execution": {
          "iopub.status.busy": "2021-10-04T11:33:09.486246Z",
          "iopub.execute_input": "2021-10-04T11:33:09.486587Z",
          "iopub.status.idle": "2021-10-04T11:33:09.497034Z",
          "shell.execute_reply.started": "2021-10-04T11:33:09.486548Z",
          "shell.execute_reply": "2021-10-04T11:33:09.496297Z"
        },
        "trusted": true,
        "id": "Qh8w2gu3Yttt"
      },
      "source": [
        "\"\"\"\n",
        "Evaluating the same model on different subsets of data\n",
        "Getting the average prediction and the spread within predictions\n",
        "\"\"\"\n",
        "\n",
        "def train(df_train, y_train, C=1.0):\n",
        "    dicts = df_train[categorical + numerical].to_dict(orient='records')\n",
        "\n",
        "    dv = DictVectorizer(sparse=False)\n",
        "    X_train = dv.fit_transform(dicts)\n",
        "\n",
        "    model = LogisticRegression(C=C, max_iter=1000)\n",
        "    model.fit(X_train, y_train)\n",
        "    \n",
        "    return dv, model\n",
        "\n",
        "def predict(df, dv, model):\n",
        "    dicts = df[categorical + numerical].to_dict(orient='records')\n",
        "\n",
        "    X = dv.transform(dicts)\n",
        "    y_pred = model.predict_proba(X)[:, 1]\n",
        "\n",
        "    return y_pred"
      ],
      "execution_count": null,
      "outputs": []
    },
    {
      "cell_type": "code",
      "metadata": {
        "execution": {
          "iopub.status.busy": "2021-10-04T11:33:09.498251Z",
          "iopub.execute_input": "2021-10-04T11:33:09.498468Z",
          "iopub.status.idle": "2021-10-04T11:33:18.579976Z",
          "shell.execute_reply.started": "2021-10-04T11:33:09.498437Z",
          "shell.execute_reply": "2021-10-04T11:33:18.578964Z"
        },
        "trusted": true,
        "id": "RImA5qUVYttt"
      },
      "source": [
        "!pip install tqdm"
      ],
      "execution_count": null,
      "outputs": []
    },
    {
      "cell_type": "code",
      "metadata": {
        "execution": {
          "iopub.status.busy": "2021-10-04T11:33:18.581697Z",
          "iopub.execute_input": "2021-10-04T11:33:18.582047Z",
          "iopub.status.idle": "2021-10-04T11:33:19.03184Z",
          "shell.execute_reply.started": "2021-10-04T11:33:18.582001Z",
          "shell.execute_reply": "2021-10-04T11:33:19.030647Z"
        },
        "trusted": true,
        "id": "9-a6-Cs4Yttt"
      },
      "source": [
        "dv, model = train(df_train, y_train, C=0.001)\n",
        "y_pred = predict(df_val, dv, model)"
      ],
      "execution_count": null,
      "outputs": []
    },
    {
      "cell_type": "code",
      "metadata": {
        "execution": {
          "iopub.status.busy": "2021-10-04T11:33:19.033643Z",
          "iopub.execute_input": "2021-10-04T11:33:19.033977Z",
          "iopub.status.idle": "2021-10-04T11:33:19.155097Z",
          "shell.execute_reply.started": "2021-10-04T11:33:19.033937Z",
          "shell.execute_reply": "2021-10-04T11:33:19.154223Z"
        },
        "trusted": true,
        "id": "YVQ6sA2aYttt"
      },
      "source": [
        "from sklearn.model_selection import KFold\n",
        "from tqdm.auto import tqdm"
      ],
      "execution_count": null,
      "outputs": []
    },
    {
      "cell_type": "code",
      "metadata": {
        "execution": {
          "iopub.status.busy": "2021-10-04T11:33:19.15623Z",
          "iopub.execute_input": "2021-10-04T11:33:19.15645Z",
          "iopub.status.idle": "2021-10-04T11:33:42.306934Z",
          "shell.execute_reply.started": "2021-10-04T11:33:19.156426Z",
          "shell.execute_reply": "2021-10-04T11:33:42.3057Z"
        },
        "trusted": true,
        "id": "I7MuuEWTYttt"
      },
      "source": [
        "n_splits = 5\n",
        "\n",
        "for C in tqdm([0.001, 0.01, 0.1, 0.5, 1, 5, 10]):\n",
        "    kfold = KFold(n_splits=n_splits, shuffle=True, random_state=1)\n",
        "\n",
        "    scores = []\n",
        "\n",
        "    for train_idx, val_idx in kfold.split(df_full_train):\n",
        "        df_train = df_full_train.iloc[train_idx]\n",
        "        df_val = df_full_train.iloc[val_idx]\n",
        "\n",
        "        y_train = df_train.churn.values\n",
        "        y_val = df_val.churn.values\n",
        "\n",
        "        dv, model = train(df_train, y_train, C=C)\n",
        "        y_pred = predict(df_val, dv, model)\n",
        "\n",
        "        auc = roc_auc_score(y_val, y_pred)\n",
        "        scores.append(auc)\n",
        "\n",
        "    print('C=%s %.3f +- %.3f' % (C, np.mean(scores), np.std(scores)))"
      ],
      "execution_count": null,
      "outputs": []
    },
    {
      "cell_type": "code",
      "metadata": {
        "execution": {
          "iopub.status.busy": "2021-10-04T11:33:42.30913Z",
          "iopub.execute_input": "2021-10-04T11:33:42.309905Z",
          "iopub.status.idle": "2021-10-04T11:33:42.326363Z",
          "shell.execute_reply.started": "2021-10-04T11:33:42.30984Z",
          "shell.execute_reply": "2021-10-04T11:33:42.324969Z"
        },
        "trusted": true,
        "id": "-3_guDYSYttu"
      },
      "source": [
        "scores"
      ],
      "execution_count": null,
      "outputs": []
    },
    {
      "cell_type": "code",
      "metadata": {
        "execution": {
          "iopub.status.busy": "2021-10-04T11:33:42.328684Z",
          "iopub.execute_input": "2021-10-04T11:33:42.329181Z",
          "iopub.status.idle": "2021-10-04T11:33:42.962724Z",
          "shell.execute_reply.started": "2021-10-04T11:33:42.329119Z",
          "shell.execute_reply": "2021-10-04T11:33:42.961831Z"
        },
        "trusted": true,
        "id": "YByqLoNKYttv"
      },
      "source": [
        "\"\"\"Now that we have the best parameter. Let's train the model using that\"\"\"\n",
        "dv, model = train(df_full_train, df_full_train.churn.values, C=1.0)\n",
        "y_pred = predict(df_test, dv, model)\n",
        "\n",
        "auc = roc_auc_score(y_test, y_pred)\n",
        "auc"
      ],
      "execution_count": null,
      "outputs": []
    }
  ]
}