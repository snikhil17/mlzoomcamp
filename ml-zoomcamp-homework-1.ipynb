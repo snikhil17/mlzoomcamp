{
 "cells": [
  {
   "cell_type": "markdown",
   "id": "studied-algorithm",
   "metadata": {
    "_cell_guid": "b1076dfc-b9ad-4769-8c92-a6c4dae69d19",
    "_uuid": "8f2839f25d086af736a60e9eeb907d3b93b6e0e5",
    "papermill": {
     "duration": 0.025843,
     "end_time": "2021-09-13T06:02:26.746507",
     "exception": false,
     "start_time": "2021-09-13T06:02:26.720664",
     "status": "completed"
    },
    "tags": []
   },
   "source": [
    "<li style=\"font-family:'Goudy Old Style';font-weight: bold;font-size:35px;color:  #c1531f   \">ML Zoomcamp Session 1 Homework Questions</li>\n",
    "\n",
    "<div class=\"alert alert-info\" role=\"alert\" style=\"font-family:cursive;font-size:15px;color:  #2025bd\">\n",
    "\n",
    "<p style=\"font-family:cursive;font-size:15px;color:  #2025bd\"><u>Question 1:</u></p>\n",
    "<ul>\n",
    "<li>What's the version of NumPy that you installed?</li>\n",
    "</ul>\n",
    "    \n",
    "<p style=\"font-family:cursive;font-size:15px;color:  #2025bd\"><u>Question 2:</u></p>\n",
    "<ul>\n",
    "<li>What's the version of Pandas?</li>\n",
    "</ul>    \n",
    "    \n",
    "<p style=\"font-family:cursive;font-size:15px;color:  #2025bd\"><u>Question 3:</u></p>\n",
    "<ul>\n",
    "<li>What's the average price of BMW cars in the dataset?</li>\n",
    "</ul>  \n",
    "    \n",
    "<p style=\"font-family:cursive;font-size:15px;color:  #2025bd\"><u>Question 4:</u></p>\n",
    "<ul>\n",
    "<li>Select a subset of cars after year 2015 (inclusive, i.e. 2015 and after). How many of them have missing values for Engine HP?</li>\n",
    "</ul> \n",
    "\n",
    "<p style=\"font-family:cursive;font-size:15px;color:  #2025bd\"> <u>Question 5: </u></p>\n",
    "<ul>\n",
    "<li>Calculate the average \"Engine HP\" in the dataset.</li>\n",
    "<li>Use the fillna method and to fill the missing values in \"Engine HP\" with the mean value from the previous step.</li>\n",
    "<li> Now, calcualte the average of \"Engine HP\" again.</li>\n",
    "<li> Has it changed?</li>\n",
    "<li> Round both means before answering this questions. You can use the round function for that:</li>\n",
    "<code style=\"font-family:cursive;font-size:15px;color:  #2025bd\">print(round(mean_hp_before))</code>\n",
    "<code style=\"font-family:cursive;font-size:15px;color:  #2025bd\">print(round(mean_hp_after))</code></ul>\n",
    "    \n",
    "<p style=\"font-family:cursive;font-size:15px;color:  #2025bd\"><u>Question 6:</u></p> \n",
    "<ul>\n",
    "<li>Select all the \"Rolls-Royce\" cars from the dataset.</li>\n",
    "<li>Select only columns \"Engine HP\", \"Engine Cylinders\", \"highway MPG\".</li>\n",
    "<li>Now drop all duplicated rows using drop_duplicates method (you should get a dataframe with 7 rows).</li>\n",
    "<li>Get the underlying NumPy array. Let's call it X.</li>\n",
    "<li>Compute matrix-matrix multiplication between the transpose of X and X. To get the transpose, use X.T. Let's call the result XTX.</li>\n",
    "<li>Invert XTX.</li>\n",
    "<li>What's the sum of all the elements of the result?</li>\n",
    "    <u>Hint: if the result is negative, re-read the task one more time</u>\n",
    "</ul>\n",
    "    \n",
    "<p style=\"font-family:cursive;font-size:15px;color:  #2025bd\"><u>Questions 7</u></p>\n",
    "<ul>\n",
    "<li>Create an array y with values [1000, 1100, 900, 1200, 1000, 850, 1300].</li>\n",
    "<li>Multiply the inverse of XTX with the transpose of X, and then multiply the result by y. Call the result w.</li>\n",
    "<li>What's the value of the first element of w?.</li>\n",
    "    <u>Note: You just implemented linear regression. We'll talk about it in the next lesson.</u>\n",
    "    </ul>\n",
    "            \n",
    "\n",
    "\n",
    "</div>"
   ]
  },
  {
   "cell_type": "markdown",
   "id": "future-argentina",
   "metadata": {
    "papermill": {
     "duration": 0.01877,
     "end_time": "2021-09-13T06:02:26.785926",
     "exception": false,
     "start_time": "2021-09-13T06:02:26.767156",
     "status": "completed"
    },
    "tags": []
   },
   "source": [
    "- **https://raw.githubusercontent.com/alexeygrigorev/mlbookcamp-code/master/chapter-02-car-price/data.csv\n",
    "                                   Dataset for Homework"
   ]
  },
  {
   "cell_type": "markdown",
   "id": "compliant-dance",
   "metadata": {
    "papermill": {
     "duration": 0.019031,
     "end_time": "2021-09-13T06:02:26.823978",
     "exception": false,
     "start_time": "2021-09-13T06:02:26.804947",
     "status": "completed"
    },
    "tags": []
   },
   "source": [
    "<li style=\"font-family:'Goudy Old Style';font-weight: bold;font-size:35px;color:  #c1531f   \">Importing Required Libraries</li>"
   ]
  },
  {
   "cell_type": "code",
   "execution_count": 1,
   "id": "controlling-protection",
   "metadata": {
    "execution": {
     "iopub.execute_input": "2021-09-13T06:02:26.872676Z",
     "iopub.status.busy": "2021-09-13T06:02:26.871749Z",
     "iopub.status.idle": "2021-09-13T06:02:26.887467Z",
     "shell.execute_reply": "2021-09-13T06:02:26.887972Z",
     "shell.execute_reply.started": "2021-09-13T05:44:37.502321Z"
    },
    "papermill": {
     "duration": 0.044741,
     "end_time": "2021-09-13T06:02:26.888368",
     "exception": false,
     "start_time": "2021-09-13T06:02:26.843627",
     "status": "completed"
    },
    "tags": []
   },
   "outputs": [],
   "source": [
    "import numpy as np\n",
    "import pandas as pd\n",
    "\n",
    "import warnings\n",
    "warnings.filterwarnings(\"ignore\")"
   ]
  },
  {
   "cell_type": "markdown",
   "id": "governmental-accuracy",
   "metadata": {
    "papermill": {
     "duration": 0.019427,
     "end_time": "2021-09-13T06:02:26.930362",
     "exception": false,
     "start_time": "2021-09-13T06:02:26.910935",
     "status": "completed"
    },
    "tags": []
   },
   "source": [
    "<li style=\"font-family:'Goudy Old Style';font-weight: bold;font-size:35px;color:  #c1531f   \">Loading Data</li>"
   ]
  },
  {
   "cell_type": "code",
   "execution_count": 2,
   "id": "objective-brother",
   "metadata": {
    "execution": {
     "iopub.execute_input": "2021-09-13T06:02:26.974401Z",
     "iopub.status.busy": "2021-09-13T06:02:26.973474Z",
     "iopub.status.idle": "2021-09-13T06:02:27.065829Z",
     "shell.execute_reply": "2021-09-13T06:02:27.066323Z",
     "shell.execute_reply.started": "2021-09-13T05:44:37.721130Z"
    },
    "papermill": {
     "duration": 0.116807,
     "end_time": "2021-09-13T06:02:27.066502",
     "exception": false,
     "start_time": "2021-09-13T06:02:26.949695",
     "status": "completed"
    },
    "tags": []
   },
   "outputs": [
    {
     "data": {
      "text/html": [
       "<div>\n",
       "<style scoped>\n",
       "    .dataframe tbody tr th:only-of-type {\n",
       "        vertical-align: middle;\n",
       "    }\n",
       "\n",
       "    .dataframe tbody tr th {\n",
       "        vertical-align: top;\n",
       "    }\n",
       "\n",
       "    .dataframe thead th {\n",
       "        text-align: right;\n",
       "    }\n",
       "</style>\n",
       "<table border=\"1\" class=\"dataframe\">\n",
       "  <thead>\n",
       "    <tr style=\"text-align: right;\">\n",
       "      <th></th>\n",
       "      <th>Make</th>\n",
       "      <th>Model</th>\n",
       "      <th>Year</th>\n",
       "      <th>Engine Fuel Type</th>\n",
       "      <th>Engine HP</th>\n",
       "      <th>Engine Cylinders</th>\n",
       "      <th>Transmission Type</th>\n",
       "      <th>Driven_Wheels</th>\n",
       "      <th>Number of Doors</th>\n",
       "      <th>Market Category</th>\n",
       "      <th>Vehicle Size</th>\n",
       "      <th>Vehicle Style</th>\n",
       "      <th>highway MPG</th>\n",
       "      <th>city mpg</th>\n",
       "      <th>Popularity</th>\n",
       "      <th>MSRP</th>\n",
       "    </tr>\n",
       "  </thead>\n",
       "  <tbody>\n",
       "    <tr>\n",
       "      <th>0</th>\n",
       "      <td>BMW</td>\n",
       "      <td>1 Series M</td>\n",
       "      <td>2011</td>\n",
       "      <td>premium unleaded (required)</td>\n",
       "      <td>335.0</td>\n",
       "      <td>6.0</td>\n",
       "      <td>MANUAL</td>\n",
       "      <td>rear wheel drive</td>\n",
       "      <td>2.0</td>\n",
       "      <td>Factory Tuner,Luxury,High-Performance</td>\n",
       "      <td>Compact</td>\n",
       "      <td>Coupe</td>\n",
       "      <td>26</td>\n",
       "      <td>19</td>\n",
       "      <td>3916</td>\n",
       "      <td>46135</td>\n",
       "    </tr>\n",
       "    <tr>\n",
       "      <th>1</th>\n",
       "      <td>BMW</td>\n",
       "      <td>1 Series</td>\n",
       "      <td>2011</td>\n",
       "      <td>premium unleaded (required)</td>\n",
       "      <td>300.0</td>\n",
       "      <td>6.0</td>\n",
       "      <td>MANUAL</td>\n",
       "      <td>rear wheel drive</td>\n",
       "      <td>2.0</td>\n",
       "      <td>Luxury,Performance</td>\n",
       "      <td>Compact</td>\n",
       "      <td>Convertible</td>\n",
       "      <td>28</td>\n",
       "      <td>19</td>\n",
       "      <td>3916</td>\n",
       "      <td>40650</td>\n",
       "    </tr>\n",
       "    <tr>\n",
       "      <th>2</th>\n",
       "      <td>BMW</td>\n",
       "      <td>1 Series</td>\n",
       "      <td>2011</td>\n",
       "      <td>premium unleaded (required)</td>\n",
       "      <td>300.0</td>\n",
       "      <td>6.0</td>\n",
       "      <td>MANUAL</td>\n",
       "      <td>rear wheel drive</td>\n",
       "      <td>2.0</td>\n",
       "      <td>Luxury,High-Performance</td>\n",
       "      <td>Compact</td>\n",
       "      <td>Coupe</td>\n",
       "      <td>28</td>\n",
       "      <td>20</td>\n",
       "      <td>3916</td>\n",
       "      <td>36350</td>\n",
       "    </tr>\n",
       "    <tr>\n",
       "      <th>3</th>\n",
       "      <td>BMW</td>\n",
       "      <td>1 Series</td>\n",
       "      <td>2011</td>\n",
       "      <td>premium unleaded (required)</td>\n",
       "      <td>230.0</td>\n",
       "      <td>6.0</td>\n",
       "      <td>MANUAL</td>\n",
       "      <td>rear wheel drive</td>\n",
       "      <td>2.0</td>\n",
       "      <td>Luxury,Performance</td>\n",
       "      <td>Compact</td>\n",
       "      <td>Coupe</td>\n",
       "      <td>28</td>\n",
       "      <td>18</td>\n",
       "      <td>3916</td>\n",
       "      <td>29450</td>\n",
       "    </tr>\n",
       "    <tr>\n",
       "      <th>4</th>\n",
       "      <td>BMW</td>\n",
       "      <td>1 Series</td>\n",
       "      <td>2011</td>\n",
       "      <td>premium unleaded (required)</td>\n",
       "      <td>230.0</td>\n",
       "      <td>6.0</td>\n",
       "      <td>MANUAL</td>\n",
       "      <td>rear wheel drive</td>\n",
       "      <td>2.0</td>\n",
       "      <td>Luxury</td>\n",
       "      <td>Compact</td>\n",
       "      <td>Convertible</td>\n",
       "      <td>28</td>\n",
       "      <td>18</td>\n",
       "      <td>3916</td>\n",
       "      <td>34500</td>\n",
       "    </tr>\n",
       "  </tbody>\n",
       "</table>\n",
       "</div>"
      ],
      "text/plain": [
       "  Make       Model  Year             Engine Fuel Type  Engine HP  \\\n",
       "0  BMW  1 Series M  2011  premium unleaded (required)      335.0   \n",
       "1  BMW    1 Series  2011  premium unleaded (required)      300.0   \n",
       "2  BMW    1 Series  2011  premium unleaded (required)      300.0   \n",
       "3  BMW    1 Series  2011  premium unleaded (required)      230.0   \n",
       "4  BMW    1 Series  2011  premium unleaded (required)      230.0   \n",
       "\n",
       "   Engine Cylinders Transmission Type     Driven_Wheels  Number of Doors  \\\n",
       "0               6.0            MANUAL  rear wheel drive              2.0   \n",
       "1               6.0            MANUAL  rear wheel drive              2.0   \n",
       "2               6.0            MANUAL  rear wheel drive              2.0   \n",
       "3               6.0            MANUAL  rear wheel drive              2.0   \n",
       "4               6.0            MANUAL  rear wheel drive              2.0   \n",
       "\n",
       "                         Market Category Vehicle Size Vehicle Style  \\\n",
       "0  Factory Tuner,Luxury,High-Performance      Compact         Coupe   \n",
       "1                     Luxury,Performance      Compact   Convertible   \n",
       "2                Luxury,High-Performance      Compact         Coupe   \n",
       "3                     Luxury,Performance      Compact         Coupe   \n",
       "4                                 Luxury      Compact   Convertible   \n",
       "\n",
       "   highway MPG  city mpg  Popularity   MSRP  \n",
       "0           26        19        3916  46135  \n",
       "1           28        19        3916  40650  \n",
       "2           28        20        3916  36350  \n",
       "3           28        18        3916  29450  \n",
       "4           28        18        3916  34500  "
      ]
     },
     "execution_count": 2,
     "metadata": {},
     "output_type": "execute_result"
    }
   ],
   "source": [
    "df = pd.read_csv('../input/homework-1-data/data.csv')\n",
    "df.head()"
   ]
  },
  {
   "cell_type": "markdown",
   "id": "important-wesley",
   "metadata": {
    "papermill": {
     "duration": 0.019717,
     "end_time": "2021-09-13T06:02:27.106069",
     "exception": false,
     "start_time": "2021-09-13T06:02:27.086352",
     "status": "completed"
    },
    "tags": []
   },
   "source": [
    "<li style=\"font-family:'Goudy Old Style';font-weight: bold;font-size:30px;color:  #c1531f   \">Question 1</li>\n",
    "<ul style=\"font-family:cursive;font-size:15px;color:  #2025bd\">\n",
    "<li>1. What's the version of NumPy that you installed?</li>\n",
    "    </ul>\n"
   ]
  },
  {
   "cell_type": "code",
   "execution_count": 3,
   "id": "boxed-franklin",
   "metadata": {
    "execution": {
     "iopub.execute_input": "2021-09-13T06:02:27.159097Z",
     "iopub.status.busy": "2021-09-13T06:02:27.158178Z",
     "iopub.status.idle": "2021-09-13T06:02:27.162569Z",
     "shell.execute_reply": "2021-09-13T06:02:27.163308Z",
     "shell.execute_reply.started": "2021-09-13T05:44:39.056094Z"
    },
    "papermill": {
     "duration": 0.031235,
     "end_time": "2021-09-13T06:02:27.163541",
     "exception": false,
     "start_time": "2021-09-13T06:02:27.132306",
     "status": "completed"
    },
    "tags": []
   },
   "outputs": [
    {
     "data": {
      "text/plain": [
       "'1.19.5'"
      ]
     },
     "execution_count": 3,
     "metadata": {},
     "output_type": "execute_result"
    }
   ],
   "source": [
    "np.__version__"
   ]
  },
  {
   "cell_type": "markdown",
   "id": "explicit-belief",
   "metadata": {
    "papermill": {
     "duration": 0.021925,
     "end_time": "2021-09-13T06:02:27.209618",
     "exception": false,
     "start_time": "2021-09-13T06:02:27.187693",
     "status": "completed"
    },
    "tags": []
   },
   "source": [
    "<li style=\"font-family:'Goudy Old Style';font-weight: bold;font-size:30px;color:  #c1531f   \">Question 2</li>\n",
    "<ul style=\"font-family:cursive;font-size:15px;color:  #2025bd\">\n",
    "<li>What's the version of Pandas?</li>\n",
    "    </ul>"
   ]
  },
  {
   "cell_type": "code",
   "execution_count": 4,
   "id": "generous-shade",
   "metadata": {
    "execution": {
     "iopub.execute_input": "2021-09-13T06:02:27.256254Z",
     "iopub.status.busy": "2021-09-13T06:02:27.255636Z",
     "iopub.status.idle": "2021-09-13T06:02:27.259687Z",
     "shell.execute_reply": "2021-09-13T06:02:27.260183Z",
     "shell.execute_reply.started": "2021-09-13T05:44:39.432088Z"
    },
    "papermill": {
     "duration": 0.030569,
     "end_time": "2021-09-13T06:02:27.260365",
     "exception": false,
     "start_time": "2021-09-13T06:02:27.229796",
     "status": "completed"
    },
    "tags": []
   },
   "outputs": [
    {
     "data": {
      "text/plain": [
       "'1.3.2'"
      ]
     },
     "execution_count": 4,
     "metadata": {},
     "output_type": "execute_result"
    }
   ],
   "source": [
    "pd.__version__"
   ]
  },
  {
   "cell_type": "markdown",
   "id": "horizontal-commander",
   "metadata": {
    "papermill": {
     "duration": 0.019604,
     "end_time": "2021-09-13T06:02:27.300056",
     "exception": false,
     "start_time": "2021-09-13T06:02:27.280452",
     "status": "completed"
    },
    "tags": []
   },
   "source": [
    "<li style=\"font-family:'Goudy Old Style';font-weight: bold;font-size:30px;color:  #c1531f   \">Question 3</li>\n",
    "<ul style=\"font-family:cursive;font-size:15px;color:  #2025bd\">\n",
    "<li>What's the average price of BMW cars in the dataset?</li>\n",
    "    </ul>"
   ]
  },
  {
   "cell_type": "code",
   "execution_count": 5,
   "id": "still-warehouse",
   "metadata": {
    "execution": {
     "iopub.execute_input": "2021-09-13T06:02:27.343064Z",
     "iopub.status.busy": "2021-09-13T06:02:27.342455Z",
     "iopub.status.idle": "2021-09-13T06:02:27.355203Z",
     "shell.execute_reply": "2021-09-13T06:02:27.355860Z",
     "shell.execute_reply.started": "2021-09-13T05:48:29.431476Z"
    },
    "papermill": {
     "duration": 0.036137,
     "end_time": "2021-09-13T06:02:27.356085",
     "exception": false,
     "start_time": "2021-09-13T06:02:27.319948",
     "status": "completed"
    },
    "tags": []
   },
   "outputs": [
    {
     "name": "stdout",
     "output_type": "stream",
     "text": [
      "average price of BMW cars in the dataset:  61546.76\n"
     ]
    }
   ],
   "source": [
    "print(\"average price of BMW cars in the dataset: \",round(np.mean(df[df['Make'] == 'BMW']['MSRP']), 2))"
   ]
  },
  {
   "cell_type": "markdown",
   "id": "gorgeous-athletics",
   "metadata": {
    "papermill": {
     "duration": 0.019973,
     "end_time": "2021-09-13T06:02:27.397494",
     "exception": false,
     "start_time": "2021-09-13T06:02:27.377521",
     "status": "completed"
    },
    "tags": []
   },
   "source": [
    "<li style=\"font-family:'Goudy Old Style';font-weight: bold;font-size:30px;color:  #c1531f   \">Question 4</li>\n",
    "<ul style=\"font-family:cursive;font-size:15px;color:  #2025bd\">\n",
    "<li>Select a subset of cars after year 2015 (inclusive, i.e. 2015 and after). How many of them have missing values for Engine HP?</li>\n",
    "    </ul>"
   ]
  },
  {
   "cell_type": "code",
   "execution_count": 6,
   "id": "statewide-czech",
   "metadata": {
    "execution": {
     "iopub.execute_input": "2021-09-13T06:02:27.441770Z",
     "iopub.status.busy": "2021-09-13T06:02:27.441138Z",
     "iopub.status.idle": "2021-09-13T06:02:27.536131Z",
     "shell.execute_reply": "2021-09-13T06:02:27.535597Z",
     "shell.execute_reply.started": "2021-09-13T05:44:40.012965Z"
    },
    "papermill": {
     "duration": 0.118552,
     "end_time": "2021-09-13T06:02:27.536284",
     "exception": false,
     "start_time": "2021-09-13T06:02:27.417732",
     "status": "completed"
    },
    "tags": []
   },
   "outputs": [
    {
     "data": {
      "text/html": [
       "<style type=\"text/css\">\n",
       "#T_30fbf_row0_col1 {\n",
       "  background-color: #f7fbff;\n",
       "  color: #000000;\n",
       "}\n",
       "#T_30fbf_row1_col1 {\n",
       "  background-color: #08306b;\n",
       "  color: #f1f1f1;\n",
       "}\n",
       "</style>\n",
       "<table id=\"T_30fbf_\">\n",
       "  <thead>\n",
       "    <tr>\n",
       "      <th class=\"blank level0\" >&nbsp;</th>\n",
       "      <th class=\"col_heading level0 col0\" >Variables</th>\n",
       "      <th class=\"col_heading level0 col1\" >Missing Values</th>\n",
       "    </tr>\n",
       "  </thead>\n",
       "  <tbody>\n",
       "    <tr>\n",
       "      <th id=\"T_30fbf_level0_row0\" class=\"row_heading level0 row0\" >9</th>\n",
       "      <td id=\"T_30fbf_row0_col0\" class=\"data row0 col0\" >Market Category</td>\n",
       "      <td id=\"T_30fbf_row0_col1\" class=\"data row0 col1\" >1324</td>\n",
       "    </tr>\n",
       "    <tr>\n",
       "      <th id=\"T_30fbf_level0_row1\" class=\"row_heading level0 row1\" >4</th>\n",
       "      <td id=\"T_30fbf_row1_col0\" class=\"data row1 col0\" >Engine HP</td>\n",
       "      <td id=\"T_30fbf_row1_col1\" class=\"data row1 col1\" >51</td>\n",
       "    </tr>\n",
       "  </tbody>\n",
       "</table>\n"
      ],
      "text/plain": [
       "<pandas.io.formats.style.Styler at 0x7f681c4e5e90>"
      ]
     },
     "metadata": {},
     "output_type": "display_data"
    },
    {
     "name": "stdout",
     "output_type": "stream",
     "text": [
      "Missing Values in Variable Engine HP:  51\n"
     ]
    }
   ],
   "source": [
    "display(df[df['Year'] >= 2015].isnull().sum().to_frame().reset_index().rename({'index': 'Variables', 0: 'Missing Values'}, axis = 1).sort_values(by = 'Missing Values',ascending = False).head(2).style.background_gradient(cmap = 'Blues_r'))\n",
    "print(\"Missing Values in Variable Engine HP: \", df[df['Year'] >= 2015]['Engine HP'].isnull().sum())"
   ]
  },
  {
   "cell_type": "markdown",
   "id": "stainless-weight",
   "metadata": {
    "papermill": {
     "duration": 0.021064,
     "end_time": "2021-09-13T06:02:27.578608",
     "exception": false,
     "start_time": "2021-09-13T06:02:27.557544",
     "status": "completed"
    },
    "tags": []
   },
   "source": [
    "<p style=\"font-family:'Goudy Old Style';font-weight: bold;font-size:30px;color:  #c1531f   \"> <u>Question 5: </u></p>\n",
    "<ul style=\"font-family:cursive;font-size:15px;color:  #2025bd\">\n",
    "<li>Calculate the average \"Engine HP\" in the dataset.</li>\n",
    "<li>Use the fillna method and to fill the missing values in \"Engine HP\" with the mean value from the previous step.</li>\n",
    "<li> Now, calcualte the average of \"Engine HP\" again.</li>\n",
    "<li> Has it changed?</li>\n",
    "<li> Round both means before answering this questions. You can use the round function for that:</li>\n",
    "<code style=\"font-family:cursive;font-size:15px;color:  #2025bd\">print(round(mean_hp_before))</code>\n",
    "<code style=\"font-family:cursive;font-size:15px;color:  #2025bd\">print(round(mean_hp_after))</code></ul>\n",
    "    "
   ]
  },
  {
   "cell_type": "code",
   "execution_count": 7,
   "id": "random-virgin",
   "metadata": {
    "execution": {
     "iopub.execute_input": "2021-09-13T06:02:27.624654Z",
     "iopub.status.busy": "2021-09-13T06:02:27.624050Z",
     "iopub.status.idle": "2021-09-13T06:02:27.630551Z",
     "shell.execute_reply": "2021-09-13T06:02:27.631248Z",
     "shell.execute_reply.started": "2021-09-13T05:54:08.817485Z"
    },
    "papermill": {
     "duration": 0.031278,
     "end_time": "2021-09-13T06:02:27.631487",
     "exception": false,
     "start_time": "2021-09-13T06:02:27.600209",
     "status": "completed"
    },
    "tags": []
   },
   "outputs": [
    {
     "name": "stdout",
     "output_type": "stream",
     "text": [
      "Mean of Engine HP BEFORE Imputing Missing Values 249.39\n"
     ]
    }
   ],
   "source": [
    "\"\"\"\n",
    "Calculate the average \"Engine HP\" in the dataset.\n",
    "Use the fillna method and to fill the missing values in \"Engine HP\" with the mean value from the previous step.\n",
    "\"\"\"\n",
    "mean_hp_before =  df['Engine HP'].mean()\n",
    "print(\"Mean of Engine HP BEFORE Imputing Missing Values\", round(mean_hp_before,2))\n",
    "df['Engine HP'].fillna(mean_hp_before, inplace=True)"
   ]
  },
  {
   "cell_type": "code",
   "execution_count": 8,
   "id": "domestic-knight",
   "metadata": {
    "execution": {
     "iopub.execute_input": "2021-09-13T06:02:27.683526Z",
     "iopub.status.busy": "2021-09-13T06:02:27.682714Z",
     "iopub.status.idle": "2021-09-13T06:02:27.686499Z",
     "shell.execute_reply": "2021-09-13T06:02:27.685882Z",
     "shell.execute_reply.started": "2021-09-13T05:49:58.322801Z"
    },
    "papermill": {
     "duration": 0.032666,
     "end_time": "2021-09-13T06:02:27.686628",
     "exception": false,
     "start_time": "2021-09-13T06:02:27.653962",
     "status": "completed"
    },
    "tags": []
   },
   "outputs": [
    {
     "name": "stdout",
     "output_type": "stream",
     "text": [
      "Mean of Engine HP BEFORE Imputing Missing Values 249.39\n",
      "Mean of Engine HP AFTER Imputing Missing Values 249.39\n"
     ]
    }
   ],
   "source": [
    "\"\"\"\n",
    "Now, calcualte the average of \"Engine HP\" again.\n",
    "Has it changed?\n",
    "Round both means before answering this questions. You can use the round function for that.\n",
    "\"\"\"\n",
    "mean_hp_after = df['Engine HP'].mean()\n",
    "print(\"Mean of Engine HP BEFORE Imputing Missing Values\", round(mean_hp_before,2))\n",
    "print(\"Mean of Engine HP AFTER Imputing Missing Values\", round(mean_hp_after,2))"
   ]
  },
  {
   "cell_type": "markdown",
   "id": "integral-million",
   "metadata": {
    "papermill": {
     "duration": 0.021478,
     "end_time": "2021-09-13T06:02:27.730120",
     "exception": false,
     "start_time": "2021-09-13T06:02:27.708642",
     "status": "completed"
    },
    "tags": []
   },
   "source": [
    "<p style=\"font-family:'Goudy Old Style';font-weight: bold;font-size:30px;color:  #c1531f   \"> <u>Question 6: </u></p>\n",
    "<ul style=\"font-family:cursive;font-size:15px;color:  #2025bd\">\n",
    "<li>Select all the \"Rolls-Royce\" cars from the dataset.</li>\n",
    "<li>Select only columns \"Engine HP\", \"Engine Cylinders\", \"highway MPG\".</li>\n",
    "<li>Now drop all duplicated rows using drop_duplicates method (you should get a dataframe with 7 rows).</li>\n",
    "<li>Get the underlying NumPy array. Let's call it X.</li>\n",
    "<li>Compute matrix-matrix multiplication between the transpose of X and X. To get the transpose, use X.T. Let's call the result XTX.</li>\n",
    "<li>Invert XTX.</li>\n",
    "<li>What's the sum of all the elements of the result?</li>\n",
    "    <u>Hint: if the result is negative, re-read the task one more time</u>\n",
    "</ul>"
   ]
  },
  {
   "cell_type": "code",
   "execution_count": 9,
   "id": "colored-resolution",
   "metadata": {
    "execution": {
     "iopub.execute_input": "2021-09-13T06:02:27.777996Z",
     "iopub.status.busy": "2021-09-13T06:02:27.777069Z",
     "iopub.status.idle": "2021-09-13T06:02:27.795288Z",
     "shell.execute_reply": "2021-09-13T06:02:27.795759Z",
     "shell.execute_reply.started": "2021-09-13T05:51:49.177362Z"
    },
    "papermill": {
     "duration": 0.043398,
     "end_time": "2021-09-13T06:02:27.795934",
     "exception": false,
     "start_time": "2021-09-13T06:02:27.752536",
     "status": "completed"
    },
    "tags": []
   },
   "outputs": [
    {
     "data": {
      "text/html": [
       "<div>\n",
       "<style scoped>\n",
       "    .dataframe tbody tr th:only-of-type {\n",
       "        vertical-align: middle;\n",
       "    }\n",
       "\n",
       "    .dataframe tbody tr th {\n",
       "        vertical-align: top;\n",
       "    }\n",
       "\n",
       "    .dataframe thead th {\n",
       "        text-align: right;\n",
       "    }\n",
       "</style>\n",
       "<table border=\"1\" class=\"dataframe\">\n",
       "  <thead>\n",
       "    <tr style=\"text-align: right;\">\n",
       "      <th></th>\n",
       "      <th>Engine HP</th>\n",
       "      <th>Engine Cylinders</th>\n",
       "      <th>highway MPG</th>\n",
       "    </tr>\n",
       "  </thead>\n",
       "  <tbody>\n",
       "    <tr>\n",
       "      <th>2921</th>\n",
       "      <td>325.0</td>\n",
       "      <td>8.0</td>\n",
       "      <td>15</td>\n",
       "    </tr>\n",
       "    <tr>\n",
       "      <th>3505</th>\n",
       "      <td>563.0</td>\n",
       "      <td>12.0</td>\n",
       "      <td>19</td>\n",
       "    </tr>\n",
       "    <tr>\n",
       "      <th>5275</th>\n",
       "      <td>563.0</td>\n",
       "      <td>12.0</td>\n",
       "      <td>21</td>\n",
       "    </tr>\n",
       "    <tr>\n",
       "      <th>5279</th>\n",
       "      <td>563.0</td>\n",
       "      <td>12.0</td>\n",
       "      <td>20</td>\n",
       "    </tr>\n",
       "    <tr>\n",
       "      <th>7443</th>\n",
       "      <td>322.0</td>\n",
       "      <td>12.0</td>\n",
       "      <td>15</td>\n",
       "    </tr>\n",
       "    <tr>\n",
       "      <th>7553</th>\n",
       "      <td>453.0</td>\n",
       "      <td>12.0</td>\n",
       "      <td>19</td>\n",
       "    </tr>\n",
       "    <tr>\n",
       "      <th>11448</th>\n",
       "      <td>624.0</td>\n",
       "      <td>12.0</td>\n",
       "      <td>21</td>\n",
       "    </tr>\n",
       "  </tbody>\n",
       "</table>\n",
       "</div>"
      ],
      "text/plain": [
       "       Engine HP  Engine Cylinders  highway MPG\n",
       "2921       325.0               8.0           15\n",
       "3505       563.0              12.0           19\n",
       "5275       563.0              12.0           21\n",
       "5279       563.0              12.0           20\n",
       "7443       322.0              12.0           15\n",
       "7553       453.0              12.0           19\n",
       "11448      624.0              12.0           21"
      ]
     },
     "execution_count": 9,
     "metadata": {},
     "output_type": "execute_result"
    }
   ],
   "source": [
    "\"\"\"\n",
    "Select all the \"Rolls-Royce\" cars from the dataset.\n",
    "Select only columns \"Engine HP\", \"Engine Cylinders\", \"highway MPG\".\n",
    "Now drop all duplicated rows using drop_duplicates method (you should get a dataframe with 7 rows).\n",
    "\"\"\"\n",
    "df[df['Make'] == 'Rolls-Royce'][[\"Engine HP\",\"Engine Cylinders\", \"highway MPG\"]].drop_duplicates()"
   ]
  },
  {
   "cell_type": "code",
   "execution_count": 10,
   "id": "virgin-dietary",
   "metadata": {
    "execution": {
     "iopub.execute_input": "2021-09-13T06:02:27.845286Z",
     "iopub.status.busy": "2021-09-13T06:02:27.844606Z",
     "iopub.status.idle": "2021-09-13T06:02:27.855027Z",
     "shell.execute_reply": "2021-09-13T06:02:27.855529Z",
     "shell.execute_reply.started": "2021-09-13T05:51:56.042289Z"
    },
    "papermill": {
     "duration": 0.036817,
     "end_time": "2021-09-13T06:02:27.855694",
     "exception": false,
     "start_time": "2021-09-13T06:02:27.818877",
     "status": "completed"
    },
    "tags": []
   },
   "outputs": [
    {
     "data": {
      "text/plain": [
       "array([[325.,   8.,  15.],\n",
       "       [563.,  12.,  19.],\n",
       "       [563.,  12.,  21.],\n",
       "       [563.,  12.,  20.],\n",
       "       [322.,  12.,  15.],\n",
       "       [453.,  12.,  19.],\n",
       "       [624.,  12.,  21.]])"
      ]
     },
     "execution_count": 10,
     "metadata": {},
     "output_type": "execute_result"
    }
   ],
   "source": [
    "\"\"\"\n",
    "Get the underlying NumPy array. Let's call it X.\n",
    "\"\"\"\n",
    "X = np.array(df[df['Make'] == 'Rolls-Royce'][[\"Engine HP\",\"Engine Cylinders\", \"highway MPG\"]].drop_duplicates())\n",
    "X"
   ]
  },
  {
   "cell_type": "code",
   "execution_count": 11,
   "id": "brave-metallic",
   "metadata": {
    "execution": {
     "iopub.execute_input": "2021-09-13T06:02:27.904075Z",
     "iopub.status.busy": "2021-09-13T06:02:27.903431Z",
     "iopub.status.idle": "2021-09-13T06:02:27.912149Z",
     "shell.execute_reply": "2021-09-13T06:02:27.911540Z",
     "shell.execute_reply.started": "2021-09-13T05:52:02.860799Z"
    },
    "papermill": {
     "duration": 0.034089,
     "end_time": "2021-09-13T06:02:27.912303",
     "exception": false,
     "start_time": "2021-09-13T06:02:27.878214",
     "status": "completed"
    },
    "tags": []
   },
   "outputs": [
    {
     "data": {
      "text/plain": [
       "array([[1.754801e+06, 3.965600e+04, 6.519600e+04],\n",
       "       [3.965600e+04, 9.280000e+02, 1.500000e+03],\n",
       "       [6.519600e+04, 1.500000e+03, 2.454000e+03]])"
      ]
     },
     "execution_count": 11,
     "metadata": {},
     "output_type": "execute_result"
    }
   ],
   "source": [
    "\"\"\"\n",
    "Compute matrix-matrix multiplication between the transpose of X and X. To get the transpose, use X.T. Let's call the result XTX.\n",
    "\"\"\"\n",
    "XTX=(X.T).dot(X)\n",
    "XTX"
   ]
  },
  {
   "cell_type": "code",
   "execution_count": 12,
   "id": "original-dividend",
   "metadata": {
    "execution": {
     "iopub.execute_input": "2021-09-13T06:02:27.961990Z",
     "iopub.status.busy": "2021-09-13T06:02:27.961357Z",
     "iopub.status.idle": "2021-09-13T06:02:27.971217Z",
     "shell.execute_reply": "2021-09-13T06:02:27.971762Z",
     "shell.execute_reply.started": "2021-09-13T05:52:08.296370Z"
    },
    "papermill": {
     "duration": 0.036366,
     "end_time": "2021-09-13T06:02:27.971942",
     "exception": false,
     "start_time": "2021-09-13T06:02:27.935576",
     "status": "completed"
    },
    "tags": []
   },
   "outputs": [
    {
     "data": {
      "text/plain": [
       "array([[ 5.17815728e-05,  9.06587044e-04, -1.92984188e-03],\n",
       "       [ 9.06587044e-04,  1.05723058e-01, -8.87084092e-02],\n",
       "       [-1.92984188e-03, -8.87084092e-02,  1.05900809e-01]])"
      ]
     },
     "execution_count": 12,
     "metadata": {},
     "output_type": "execute_result"
    }
   ],
   "source": [
    "\"\"\"\n",
    "Invert XTX.\n",
    "\"\"\"\n",
    "XTX_inv = np.linalg.inv(XTX)\n",
    "XTX_inv"
   ]
  },
  {
   "cell_type": "code",
   "execution_count": 13,
   "id": "dramatic-spoke",
   "metadata": {
    "execution": {
     "iopub.execute_input": "2021-09-13T06:02:28.022550Z",
     "iopub.status.busy": "2021-09-13T06:02:28.021916Z",
     "iopub.status.idle": "2021-09-13T06:02:28.028794Z",
     "shell.execute_reply": "2021-09-13T06:02:28.029502Z",
     "shell.execute_reply.started": "2021-09-13T05:52:51.562693Z"
    },
    "papermill": {
     "duration": 0.034019,
     "end_time": "2021-09-13T06:02:28.029721",
     "exception": false,
     "start_time": "2021-09-13T06:02:27.995702",
     "status": "completed"
    },
    "tags": []
   },
   "outputs": [
    {
     "name": "stdout",
     "output_type": "stream",
     "text": [
      "sum of all the elements of the result:  0.032212320677486125\n"
     ]
    }
   ],
   "source": [
    "\"\"\"\n",
    "What's the sum of all the elements of the result?\n",
    "\"\"\"\n",
    "print(\"sum of all the elements of the result: \",XTX_inv.sum())"
   ]
  },
  {
   "cell_type": "markdown",
   "id": "failing-aerospace",
   "metadata": {
    "papermill": {
     "duration": 0.02359,
     "end_time": "2021-09-13T06:02:28.077352",
     "exception": false,
     "start_time": "2021-09-13T06:02:28.053762",
     "status": "completed"
    },
    "tags": []
   },
   "source": [
    "<p style=\"font-family:'Goudy Old Style';font-weight: bold;font-size:30px;color:  #c1531f   \"> <u>Question 7: </u></p>\n",
    "<ul style=\"font-family:cursive;font-size:15px;color:  #2025bd\">\n",
    "<li>Create an array y with values [1000, 1100, 900, 1200, 1000, 850, 1300].</li>\n",
    "<li>Multiply the inverse of XTX with the transpose of X, and then multiply the result by y. Call the result w.</li>\n",
    "<li>What's the value of the first element of w?.</li>\n",
    "    <u>Note: You just implemented linear regression. We'll talk about it in the next lesson.</u>\n",
    "    </ul>"
   ]
  },
  {
   "cell_type": "code",
   "execution_count": 14,
   "id": "revised-secondary",
   "metadata": {
    "execution": {
     "iopub.execute_input": "2021-09-13T06:02:28.130050Z",
     "iopub.status.busy": "2021-09-13T06:02:28.129357Z",
     "iopub.status.idle": "2021-09-13T06:02:28.132331Z",
     "shell.execute_reply": "2021-09-13T06:02:28.131685Z",
     "shell.execute_reply.started": "2021-09-13T05:53:22.229154Z"
    },
    "papermill": {
     "duration": 0.031295,
     "end_time": "2021-09-13T06:02:28.132477",
     "exception": false,
     "start_time": "2021-09-13T06:02:28.101182",
     "status": "completed"
    },
    "tags": []
   },
   "outputs": [],
   "source": [
    "\"\"\"\n",
    "Create an array y with values [1000, 1100, 900, 1200, 1000, 850, 1300]\n",
    "\"\"\"\n",
    "y = np.array([1000, 1100, 900, 1200, 1000, 850, 1300])"
   ]
  },
  {
   "cell_type": "code",
   "execution_count": 15,
   "id": "frank-throw",
   "metadata": {
    "execution": {
     "iopub.execute_input": "2021-09-13T06:02:28.186607Z",
     "iopub.status.busy": "2021-09-13T06:02:28.185690Z",
     "iopub.status.idle": "2021-09-13T06:02:28.189187Z",
     "shell.execute_reply": "2021-09-13T06:02:28.189781Z",
     "shell.execute_reply.started": "2021-09-13T05:53:27.891361Z"
    },
    "papermill": {
     "duration": 0.033416,
     "end_time": "2021-09-13T06:02:28.189956",
     "exception": false,
     "start_time": "2021-09-13T06:02:28.156540",
     "status": "completed"
    },
    "tags": []
   },
   "outputs": [],
   "source": [
    "\"\"\"\n",
    "Multiply the inverse of XTX with the transpose of X, and then multiply the result by y. Call the result w.\n",
    "\"\"\"\n",
    "w = ((np.linalg.inv(XTX)).dot(X.T)).dot(y)"
   ]
  },
  {
   "cell_type": "code",
   "execution_count": 16,
   "id": "aboriginal-latex",
   "metadata": {
    "execution": {
     "iopub.execute_input": "2021-09-13T06:02:28.242132Z",
     "iopub.status.busy": "2021-09-13T06:02:28.241169Z",
     "iopub.status.idle": "2021-09-13T06:02:28.247922Z",
     "shell.execute_reply": "2021-09-13T06:02:28.247207Z",
     "shell.execute_reply.started": "2021-09-13T05:54:42.356670Z"
    },
    "papermill": {
     "duration": 0.033682,
     "end_time": "2021-09-13T06:02:28.248097",
     "exception": false,
     "start_time": "2021-09-13T06:02:28.214415",
     "status": "completed"
    },
    "tags": []
   },
   "outputs": [
    {
     "name": "stdout",
     "output_type": "stream",
     "text": [
      "Value of the first element of w:  0.19989598183188972\n"
     ]
    }
   ],
   "source": [
    "\"\"\"\n",
    "What's the value of the first element of w?\n",
    "\"\"\"\n",
    "print(\"Value of the first element of w: \", w[0])"
   ]
  }
 ],
 "metadata": {
  "kernelspec": {
   "display_name": "Python 3",
   "language": "python",
   "name": "python3"
  },
  "language_info": {
   "codemirror_mode": {
    "name": "ipython",
    "version": 3
   },
   "file_extension": ".py",
   "mimetype": "text/x-python",
   "name": "python",
   "nbconvert_exporter": "python",
   "pygments_lexer": "ipython3",
   "version": "3.8.5"
  },
  "papermill": {
   "default_parameters": {},
   "duration": 10.757956,
   "end_time": "2021-09-13T06:02:29.816661",
   "environment_variables": {},
   "exception": null,
   "input_path": "__notebook__.ipynb",
   "output_path": "__notebook__.ipynb",
   "parameters": {},
   "start_time": "2021-09-13T06:02:19.058705",
   "version": "2.3.3"
  }
 },
 "nbformat": 4,
 "nbformat_minor": 5
}
