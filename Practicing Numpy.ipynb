{
 "cells": [
  {
   "cell_type": "markdown",
   "id": "prospective-swiss",
   "metadata": {},
   "source": [
    "# Numpy\n",
    "- **NumPy (or Numpy) is a Linear Algebra Library for Python**\n",
    "- **Almost all of the libraries in the PyData Ecosystem rely on NumPy as one of their main building blocks.**\n",
    "- **Numpy is also incredibly fast beacuse of its bindings to C libraries.**\n",
    "<p>\n",
    "- **To install use:**\n",
    "        conda install numpy"
   ]
  },
  {
   "cell_type": "code",
   "execution_count": 2,
   "id": "respected-brave",
   "metadata": {},
   "outputs": [],
   "source": [
    "import numpy as np"
   ]
  },
  {
   "cell_type": "markdown",
   "id": "according-coating",
   "metadata": {},
   "source": [
    "### Numpy arrays have two forms: vectors and matrices. Vectors are strictly 1-d arrays and matrices are 2-d (but you should note a matrix can still have only one row or one column).\n",
    "\n",
    "## Creating numpy arrays:\n",
    "- **From a Python List**\n",
    "- **Built-in ways to create Arrays**\n",
    "    - **arange: for evenly spaced values within a given interval**\n",
    "    - **zeros and ones:  arrays of zeros or ones**\n",
    "    - **np.full: Return a new array of given shape and type, filled with fill_value.**\n",
    "    - **np.repeat:Repeat elements of an array**\n",
    "    - **linspace: evenly spaced numbers over a specified interval**\n",
    "    - **eye: for an identity matrix**\n",
    "- **Random: create random number arrays**\n",
    "    - **rand: For creating array of the given shape and fill it with random samples from a uniform distribution over ``[0, 1)``**\n",
    "    - **randn: creates a sample (or samples) from the \"standard normal\" distribution. rand is uniform distribution**\n",
    "    - **randint: Creates random integers from low (inclusive) to high (exclusive). Assigning `step` parameter is possible**\n",
    "    \n",
    "\n",
    "## Methods and Attributes:\n",
    "- **reshape: returns array with same data but with a new shape**\n",
    "- **max,min,argmax,argmin: Methods for finding max or min values or to find their index locations using argmin or argmax**\n",
    "- **shape: to know the shape of array**\n",
    "- **dtype: to know the data type of the object in the array**\n"
   ]
  },
  {
   "cell_type": "code",
   "execution_count": 3,
   "id": "pressing-disposition",
   "metadata": {},
   "outputs": [
    {
     "data": {
      "text/plain": [
       "[5, 5, 6, 7, 8, 5, 2, 5]"
      ]
     },
     "execution_count": 3,
     "metadata": {},
     "output_type": "execute_result"
    }
   ],
   "source": [
    "list1 = [5,5,6,7,8,5,2,5]\n",
    "list1"
   ]
  },
  {
   "cell_type": "code",
   "execution_count": 4,
   "id": "residential-wildlife",
   "metadata": {},
   "outputs": [
    {
     "data": {
      "text/plain": [
       "array([5, 5, 6, 7, 8, 5, 2, 5])"
      ]
     },
     "execution_count": 4,
     "metadata": {},
     "output_type": "execute_result"
    }
   ],
   "source": [
    "np.array(list1)"
   ]
  },
  {
   "cell_type": "code",
   "execution_count": 5,
   "id": "permanent-environment",
   "metadata": {},
   "outputs": [
    {
     "data": {
      "text/plain": [
       "[[8, 9, 5.2], [5, 161, 2], [846, 2, 8]]"
      ]
     },
     "execution_count": 5,
     "metadata": {},
     "output_type": "execute_result"
    }
   ],
   "source": [
    "matrix1 = [[8,9,5.2],[5,161,2],[846,2,8]]\n",
    "matrix1"
   ]
  },
  {
   "cell_type": "code",
   "execution_count": 6,
   "id": "resident-paragraph",
   "metadata": {
    "scrolled": true
   },
   "outputs": [
    {
     "data": {
      "text/plain": [
       "array([[  8. ,   9. ,   5.2],\n",
       "       [  5. , 161. ,   2. ],\n",
       "       [846. ,   2. ,   8. ]])"
      ]
     },
     "execution_count": 6,
     "metadata": {},
     "output_type": "execute_result"
    }
   ],
   "source": [
    "np.array(matrix1)"
   ]
  },
  {
   "cell_type": "markdown",
   "id": "empty-county",
   "metadata": {},
   "source": [
    "### Built-in ways to create Arrays\n",
    "### arange: for evenly spaced values within a given interval"
   ]
  },
  {
   "cell_type": "code",
   "execution_count": 7,
   "id": "changed-replica",
   "metadata": {},
   "outputs": [
    {
     "data": {
      "text/plain": [
       "array([ 0,  1,  2,  3,  4,  5,  6,  7,  8,  9, 10, 11, 12, 13, 14, 15, 16,\n",
       "       17, 18, 19])"
      ]
     },
     "execution_count": 7,
     "metadata": {},
     "output_type": "execute_result"
    }
   ],
   "source": [
    "np.arange(0,20)"
   ]
  },
  {
   "cell_type": "code",
   "execution_count": 8,
   "id": "accredited-printing",
   "metadata": {
    "scrolled": true
   },
   "outputs": [
    {
     "data": {
      "text/plain": [
       "array([ 0,  3,  6,  9, 12, 15, 18, 21, 24, 27, 30, 33, 36, 39, 42, 45, 48])"
      ]
     },
     "execution_count": 8,
     "metadata": {},
     "output_type": "execute_result"
    }
   ],
   "source": [
    "np.arange(0,50,3)"
   ]
  },
  {
   "cell_type": "markdown",
   "id": "sporting-morning",
   "metadata": {},
   "source": [
    "### np.zeros and np.ones: arrays of zeros or ones\n",
    "### np.full: Return a new array of given shape and type, filled with fill_value.\n",
    "### np.repeat:Repeat elements of an array"
   ]
  },
  {
   "cell_type": "code",
   "execution_count": 9,
   "id": "green-marsh",
   "metadata": {},
   "outputs": [
    {
     "data": {
      "text/plain": [
       "array([0., 0., 0., 0., 0., 0., 0., 0., 0., 0.])"
      ]
     },
     "execution_count": 9,
     "metadata": {},
     "output_type": "execute_result"
    }
   ],
   "source": [
    "zeros = np.zeros(10)\n",
    "zeros"
   ]
  },
  {
   "cell_type": "code",
   "execution_count": 10,
   "id": "helpful-religion",
   "metadata": {},
   "outputs": [
    {
     "data": {
      "text/plain": [
       "array([1., 1., 1., 1., 1., 1., 1., 1., 1., 1.])"
      ]
     },
     "execution_count": 10,
     "metadata": {},
     "output_type": "execute_result"
    }
   ],
   "source": [
    "ones = np.ones(10)\n",
    "ones"
   ]
  },
  {
   "cell_type": "code",
   "execution_count": 11,
   "id": "professional-oasis",
   "metadata": {},
   "outputs": [
    {
     "data": {
      "text/plain": [
       "array([0., 0., 0., 0., 0., 0., 0., 0., 0., 0.])"
      ]
     },
     "execution_count": 11,
     "metadata": {},
     "output_type": "execute_result"
    }
   ],
   "source": [
    "array = np.full(10, 0.0)\n",
    "array"
   ]
  },
  {
   "cell_type": "code",
   "execution_count": 12,
   "id": "natural-vermont",
   "metadata": {},
   "outputs": [
    {
     "data": {
      "text/plain": [
       "array([0., 0., 0., 0., 0., 0., 0., 0., 0., 0.])"
      ]
     },
     "execution_count": 12,
     "metadata": {},
     "output_type": "execute_result"
    }
   ],
   "source": [
    "array = np.repeat(0.0, 10) \n",
    "array"
   ]
  },
  {
   "cell_type": "code",
   "execution_count": 14,
   "id": "exotic-compatibility",
   "metadata": {},
   "outputs": [
    {
     "data": {
      "text/plain": [
       "array([0., 0., 0., 0., 0., 1., 1., 1., 1., 1.])"
      ]
     },
     "execution_count": 14,
     "metadata": {},
     "output_type": "execute_result"
    }
   ],
   "source": [
    "array = np.repeat([0.0, 1.0], 5)\n",
    "array"
   ]
  },
  {
   "cell_type": "code",
   "execution_count": 15,
   "id": "packed-change",
   "metadata": {
    "scrolled": true
   },
   "outputs": [
    {
     "data": {
      "text/plain": [
       "array([0., 0., 1., 1., 1.])"
      ]
     },
     "execution_count": 15,
     "metadata": {},
     "output_type": "execute_result"
    }
   ],
   "source": [
    "array = np.repeat([0.0, 1.0], [2, 3])\n",
    "array"
   ]
  },
  {
   "cell_type": "markdown",
   "id": "growing-timeline",
   "metadata": {},
   "source": [
    "### linspace: evenly spaced numbers over a specified interval"
   ]
  },
  {
   "cell_type": "code",
   "execution_count": 16,
   "id": "functional-alert",
   "metadata": {},
   "outputs": [
    {
     "data": {
      "text/plain": [
       "array([ 0., 10., 20.])"
      ]
     },
     "execution_count": 16,
     "metadata": {},
     "output_type": "execute_result"
    }
   ],
   "source": [
    "np.linspace(0,20,3)"
   ]
  },
  {
   "cell_type": "code",
   "execution_count": 17,
   "id": "toxic-berry",
   "metadata": {},
   "outputs": [
    {
     "data": {
      "text/plain": [
       "array([ 0.        ,  0.6122449 ,  1.2244898 ,  1.83673469,  2.44897959,\n",
       "        3.06122449,  3.67346939,  4.28571429,  4.89795918,  5.51020408,\n",
       "        6.12244898,  6.73469388,  7.34693878,  7.95918367,  8.57142857,\n",
       "        9.18367347,  9.79591837, 10.40816327, 11.02040816, 11.63265306,\n",
       "       12.24489796, 12.85714286, 13.46938776, 14.08163265, 14.69387755,\n",
       "       15.30612245, 15.91836735, 16.53061224, 17.14285714, 17.75510204,\n",
       "       18.36734694, 18.97959184, 19.59183673, 20.20408163, 20.81632653,\n",
       "       21.42857143, 22.04081633, 22.65306122, 23.26530612, 23.87755102,\n",
       "       24.48979592, 25.10204082, 25.71428571, 26.32653061, 26.93877551,\n",
       "       27.55102041, 28.16326531, 28.7755102 , 29.3877551 , 30.        ])"
      ]
     },
     "execution_count": 17,
     "metadata": {},
     "output_type": "execute_result"
    }
   ],
   "source": [
    "np.linspace(0,30,50)"
   ]
  },
  {
   "cell_type": "markdown",
   "id": "latter-indonesian",
   "metadata": {},
   "source": [
    "## eye: for an identity matrix"
   ]
  },
  {
   "cell_type": "code",
   "execution_count": 19,
   "id": "mediterranean-confirmation",
   "metadata": {},
   "outputs": [
    {
     "data": {
      "text/plain": [
       "array([[1., 0., 0., 0., 0., 0., 0.],\n",
       "       [0., 1., 0., 0., 0., 0., 0.],\n",
       "       [0., 0., 1., 0., 0., 0., 0.],\n",
       "       [0., 0., 0., 1., 0., 0., 0.],\n",
       "       [0., 0., 0., 0., 1., 0., 0.],\n",
       "       [0., 0., 0., 0., 0., 1., 0.],\n",
       "       [0., 0., 0., 0., 0., 0., 1.]])"
      ]
     },
     "execution_count": 19,
     "metadata": {},
     "output_type": "execute_result"
    }
   ],
   "source": [
    "np.eye(7)"
   ]
  },
  {
   "cell_type": "markdown",
   "id": "future-dispute",
   "metadata": {},
   "source": [
    "## Random: create random number arrays\n",
    "### rand:\n",
    "  - **For creating array of the given shape and fill it with random samples from a uniform distribution over [0, 1)**"
   ]
  },
  {
   "cell_type": "code",
   "execution_count": 20,
   "id": "educated-clark",
   "metadata": {},
   "outputs": [
    {
     "data": {
      "text/plain": [
       "array([0.09524311, 0.53192916, 0.94615572, 0.07177538, 0.84266036])"
      ]
     },
     "execution_count": 20,
     "metadata": {},
     "output_type": "execute_result"
    }
   ],
   "source": [
    "np.random.rand(5)"
   ]
  },
  {
   "cell_type": "code",
   "execution_count": 30,
   "id": "bizarre-passage",
   "metadata": {},
   "outputs": [
    {
     "data": {
      "text/plain": [
       "array([[0.82895284, 0.44846154, 0.80614937, 0.44703266, 0.65421724],\n",
       "       [0.05134697, 0.92760642, 0.95216865, 0.0882743 , 0.11187308],\n",
       "       [0.49335516, 0.56382287, 0.90893139, 0.78005033, 0.26949719],\n",
       "       [0.24358496, 0.54923545, 0.70248039, 0.92734818, 0.78514931],\n",
       "       [0.45952209, 0.34173968, 0.28676544, 0.40456481, 0.46072349],\n",
       "       [0.6685776 , 0.74063267, 0.03126001, 0.93268167, 0.29635339],\n",
       "       [0.69439528, 0.93089371, 0.17060994, 0.34207331, 0.6064884 ]])"
      ]
     },
     "execution_count": 30,
     "metadata": {},
     "output_type": "execute_result"
    }
   ],
   "source": [
    "np.random.rand(7,5) "
   ]
  },
  {
   "cell_type": "markdown",
   "id": "urban-detail",
   "metadata": {},
   "source": [
    "### randn: \n",
    "- **creates a sample (or samples) from the \"standard normal\" distribution. rand is uniform distribution**"
   ]
  },
  {
   "cell_type": "code",
   "execution_count": 31,
   "id": "opened-nerve",
   "metadata": {},
   "outputs": [
    {
     "data": {
      "text/plain": [
       "array([-0.18748486, -0.30695943,  1.12441369, -0.49053392,  0.97733461])"
      ]
     },
     "execution_count": 31,
     "metadata": {},
     "output_type": "execute_result"
    }
   ],
   "source": [
    "np.random.randn(5)"
   ]
  },
  {
   "cell_type": "code",
   "execution_count": 33,
   "id": "young-hollow",
   "metadata": {},
   "outputs": [
    {
     "data": {
      "text/plain": [
       "array([[-0.27287727, -1.20403272, -1.68426358, -1.72489613, -0.95470347],\n",
       "       [-1.22310417,  0.03381994,  1.76558787,  0.07953593, -1.33919605],\n",
       "       [ 0.89669165,  0.64068341,  0.56449662,  0.90118055,  0.37732863],\n",
       "       [ 1.39693743,  0.7676323 , -0.35819089, -0.80611744, -0.67837097],\n",
       "       [ 0.59510482, -0.41766808,  0.14719214,  1.23676988,  0.87713345],\n",
       "       [-1.05225279, -0.77290492, -1.2287601 , -0.11307159,  1.09152525],\n",
       "       [ 1.00428597, -0.92076225,  0.65284887, -1.06410431,  0.20737464]])"
      ]
     },
     "execution_count": 33,
     "metadata": {},
     "output_type": "execute_result"
    }
   ],
   "source": [
    "np.random.randn(7,5)"
   ]
  },
  {
   "cell_type": "markdown",
   "id": "electric-darwin",
   "metadata": {},
   "source": [
    "### randint: \n",
    "- **Creates random integers from low (inclusive) to high (exclusive). Assigning step parameter is possible**"
   ]
  },
  {
   "cell_type": "code",
   "execution_count": 35,
   "id": "initial-tribune",
   "metadata": {},
   "outputs": [
    {
     "data": {
      "text/plain": [
       "441"
      ]
     },
     "execution_count": 35,
     "metadata": {},
     "output_type": "execute_result"
    }
   ],
   "source": [
    "np.random.randint(1,500)"
   ]
  },
  {
   "cell_type": "code",
   "execution_count": 36,
   "id": "animal-allen",
   "metadata": {
    "scrolled": true
   },
   "outputs": [
    {
     "data": {
      "text/plain": [
       "array([334, 443,  71, 254, 134,   6, 362, 147, 373,  82])"
      ]
     },
     "execution_count": 36,
     "metadata": {},
     "output_type": "execute_result"
    }
   ],
   "source": [
    "np.random.randint(1,500,10)"
   ]
  },
  {
   "cell_type": "markdown",
   "id": "smooth-water",
   "metadata": {},
   "source": [
    "## Methods and Attributes:\n",
    "### reshape: \n",
    "- **returns array with same data but with a new shape**"
   ]
  },
  {
   "cell_type": "code",
   "execution_count": 45,
   "id": "coupled-oriental",
   "metadata": {},
   "outputs": [],
   "source": [
    "arr = np.arange(30)\n",
    "ranarr = np.random.randint(0,500,10)"
   ]
  },
  {
   "cell_type": "code",
   "execution_count": 46,
   "id": "happy-helping",
   "metadata": {},
   "outputs": [
    {
     "data": {
      "text/plain": [
       "array([ 0,  1,  2,  3,  4,  5,  6,  7,  8,  9, 10, 11, 12, 13, 14, 15, 16,\n",
       "       17, 18, 19, 20, 21, 22, 23, 24, 25, 26, 27, 28, 29])"
      ]
     },
     "execution_count": 46,
     "metadata": {},
     "output_type": "execute_result"
    }
   ],
   "source": [
    "arr"
   ]
  },
  {
   "cell_type": "code",
   "execution_count": 47,
   "id": "current-italy",
   "metadata": {},
   "outputs": [
    {
     "data": {
      "text/plain": [
       "array([205, 285, 310, 493, 244, 101, 272, 142, 448, 327])"
      ]
     },
     "execution_count": 47,
     "metadata": {},
     "output_type": "execute_result"
    }
   ],
   "source": [
    "ranarr"
   ]
  },
  {
   "cell_type": "markdown",
   "id": "specified-bristol",
   "metadata": {},
   "source": [
    "### Reshape\n",
    "- **Returns an array containing the same data with a new shape.**\n"
   ]
  },
  {
   "cell_type": "code",
   "execution_count": 49,
   "id": "engaging-phase",
   "metadata": {},
   "outputs": [
    {
     "data": {
      "text/plain": [
       "array([[ 0,  1,  2,  3,  4],\n",
       "       [ 5,  6,  7,  8,  9],\n",
       "       [10, 11, 12, 13, 14],\n",
       "       [15, 16, 17, 18, 19],\n",
       "       [20, 21, 22, 23, 24],\n",
       "       [25, 26, 27, 28, 29]])"
      ]
     },
     "execution_count": 49,
     "metadata": {},
     "output_type": "execute_result"
    }
   ],
   "source": [
    "arr.reshape(6,5)"
   ]
  },
  {
   "cell_type": "markdown",
   "id": "purple-yesterday",
   "metadata": {},
   "source": [
    "### max,min,argmax,argmin\n",
    "- **These are useful methods for finding max or min values. Or to find their index locations using argmin or argmax**\n"
   ]
  },
  {
   "cell_type": "code",
   "execution_count": 50,
   "id": "static-blade",
   "metadata": {},
   "outputs": [
    {
     "data": {
      "text/plain": [
       "array([205, 285, 310, 493, 244, 101, 272, 142, 448, 327])"
      ]
     },
     "execution_count": 50,
     "metadata": {},
     "output_type": "execute_result"
    }
   ],
   "source": [
    "ranarr"
   ]
  },
  {
   "cell_type": "code",
   "execution_count": 51,
   "id": "intensive-stockholm",
   "metadata": {},
   "outputs": [
    {
     "data": {
      "text/plain": [
       "493"
      ]
     },
     "execution_count": 51,
     "metadata": {},
     "output_type": "execute_result"
    }
   ],
   "source": [
    "ranarr.max()"
   ]
  },
  {
   "cell_type": "code",
   "execution_count": 52,
   "id": "beneficial-association",
   "metadata": {},
   "outputs": [
    {
     "data": {
      "text/plain": [
       "3"
      ]
     },
     "execution_count": 52,
     "metadata": {},
     "output_type": "execute_result"
    }
   ],
   "source": [
    "ranarr.argmax()"
   ]
  },
  {
   "cell_type": "code",
   "execution_count": 53,
   "id": "promotional-capture",
   "metadata": {},
   "outputs": [
    {
     "data": {
      "text/plain": [
       "101"
      ]
     },
     "execution_count": 53,
     "metadata": {},
     "output_type": "execute_result"
    }
   ],
   "source": [
    "ranarr.min()"
   ]
  },
  {
   "cell_type": "code",
   "execution_count": 54,
   "id": "handmade-satellite",
   "metadata": {},
   "outputs": [
    {
     "data": {
      "text/plain": [
       "5"
      ]
     },
     "execution_count": 54,
     "metadata": {},
     "output_type": "execute_result"
    }
   ],
   "source": [
    "ranarr.argmin()"
   ]
  },
  {
   "cell_type": "markdown",
   "id": "super-sheriff",
   "metadata": {},
   "source": [
    "### Shape\n",
    "- **to know the shape of array**\n"
   ]
  },
  {
   "cell_type": "code",
   "execution_count": 56,
   "id": "personalized-spanking",
   "metadata": {},
   "outputs": [
    {
     "data": {
      "text/plain": [
       "(30,)"
      ]
     },
     "execution_count": 56,
     "metadata": {},
     "output_type": "execute_result"
    }
   ],
   "source": [
    "# Vector\n",
    "arr.shape"
   ]
  },
  {
   "cell_type": "code",
   "execution_count": 58,
   "id": "clean-purpose",
   "metadata": {},
   "outputs": [
    {
     "data": {
      "text/plain": [
       "array([[ 0,  1,  2,  3,  4,  5,  6,  7,  8,  9, 10, 11, 12, 13, 14, 15,\n",
       "        16, 17, 18, 19, 20, 21, 22, 23, 24, 25, 26, 27, 28, 29]])"
      ]
     },
     "execution_count": 58,
     "metadata": {},
     "output_type": "execute_result"
    }
   ],
   "source": [
    "# Notice the two sets of brackets\n",
    "arr.reshape(1,30)"
   ]
  },
  {
   "cell_type": "code",
   "execution_count": 59,
   "id": "russian-warehouse",
   "metadata": {},
   "outputs": [
    {
     "data": {
      "text/plain": [
       "(1, 30)"
      ]
     },
     "execution_count": 59,
     "metadata": {},
     "output_type": "execute_result"
    }
   ],
   "source": [
    "arr.reshape(1,30).shape"
   ]
  },
  {
   "cell_type": "code",
   "execution_count": 60,
   "id": "serial-forestry",
   "metadata": {},
   "outputs": [
    {
     "data": {
      "text/plain": [
       "array([[ 0],\n",
       "       [ 1],\n",
       "       [ 2],\n",
       "       [ 3],\n",
       "       [ 4],\n",
       "       [ 5],\n",
       "       [ 6],\n",
       "       [ 7],\n",
       "       [ 8],\n",
       "       [ 9],\n",
       "       [10],\n",
       "       [11],\n",
       "       [12],\n",
       "       [13],\n",
       "       [14],\n",
       "       [15],\n",
       "       [16],\n",
       "       [17],\n",
       "       [18],\n",
       "       [19],\n",
       "       [20],\n",
       "       [21],\n",
       "       [22],\n",
       "       [23],\n",
       "       [24],\n",
       "       [25],\n",
       "       [26],\n",
       "       [27],\n",
       "       [28],\n",
       "       [29]])"
      ]
     },
     "execution_count": 60,
     "metadata": {},
     "output_type": "execute_result"
    }
   ],
   "source": [
    "arr.reshape(30,1)"
   ]
  },
  {
   "cell_type": "code",
   "execution_count": 62,
   "id": "comprehensive-brick",
   "metadata": {
    "scrolled": true
   },
   "outputs": [
    {
     "data": {
      "text/plain": [
       "(30, 1)"
      ]
     },
     "execution_count": 62,
     "metadata": {},
     "output_type": "execute_result"
    }
   ],
   "source": [
    "arr.reshape(30,1).shape"
   ]
  },
  {
   "cell_type": "markdown",
   "id": "moderate-oklahoma",
   "metadata": {},
   "source": [
    "### dtype\n",
    "- **You can also grab the data type of the object in the array**"
   ]
  },
  {
   "cell_type": "code",
   "execution_count": 63,
   "id": "analyzed-fortune",
   "metadata": {},
   "outputs": [
    {
     "data": {
      "text/plain": [
       "dtype('int32')"
      ]
     },
     "execution_count": 63,
     "metadata": {},
     "output_type": "execute_result"
    }
   ],
   "source": [
    "arr.dtype"
   ]
  },
  {
   "cell_type": "markdown",
   "id": "composed-zambia",
   "metadata": {},
   "source": [
    "## Accessing the element of an array by index:\n"
   ]
  },
  {
   "cell_type": "code",
   "execution_count": 66,
   "id": "sudden-pulse",
   "metadata": {},
   "outputs": [
    {
     "name": "stdout",
     "output_type": "stream",
     "text": [
      "0.0\n"
     ]
    }
   ],
   "source": [
    "el = array[1]\n",
    "print(el)"
   ]
  },
  {
   "cell_type": "markdown",
   "id": "seeing-pottery",
   "metadata": {},
   "source": [
    "## Accessing multuple elements of an array by a list of indices:\n"
   ]
  },
  {
   "cell_type": "code",
   "execution_count": 67,
   "id": "rising-michael",
   "metadata": {},
   "outputs": [
    {
     "data": {
      "text/plain": [
       "array([1., 1., 0.])"
      ]
     },
     "execution_count": 67,
     "metadata": {},
     "output_type": "execute_result"
    }
   ],
   "source": [
    "array[[4, 2, 0]]"
   ]
  },
  {
   "cell_type": "markdown",
   "id": "european-contrast",
   "metadata": {},
   "source": [
    "## Assignment:"
   ]
  },
  {
   "cell_type": "code",
   "execution_count": 68,
   "id": "continued-luxury",
   "metadata": {},
   "outputs": [
    {
     "name": "stdout",
     "output_type": "stream",
     "text": [
      "[0. 1. 1. 1. 1.]\n"
     ]
    }
   ],
   "source": [
    "array[1] = 1\n",
    "print(array)"
   ]
  },
  {
   "cell_type": "markdown",
   "id": "changing-simpson",
   "metadata": {},
   "source": [
    "## Multi-dimensional NumPy arrays\n",
    "### Specify the shape with a tuple:"
   ]
  },
  {
   "cell_type": "code",
   "execution_count": 71,
   "id": "quarterly-cholesterol",
   "metadata": {},
   "outputs": [
    {
     "data": {
      "text/plain": [
       "array([[0., 0.],\n",
       "       [0., 0.],\n",
       "       [0., 0.],\n",
       "       [0., 0.],\n",
       "       [0., 0.]], dtype=float32)"
      ]
     },
     "execution_count": 71,
     "metadata": {},
     "output_type": "execute_result"
    }
   ],
   "source": [
    "zeros = np.zeros((5, 2), dtype=np.float32)\n",
    "zeros"
   ]
  },
  {
   "cell_type": "code",
   "execution_count": 72,
   "id": "published-jurisdiction",
   "metadata": {},
   "outputs": [],
   "source": [
    "numbers = [\n",
    "    [1, 2, 3],\n",
    "    [4, 5, 6],\n",
    "    [7, 8, 9]\n",
    "]\n",
    "\n",
    "numbers = np.array(numbers)"
   ]
  },
  {
   "cell_type": "code",
   "execution_count": 73,
   "id": "broke-standing",
   "metadata": {},
   "outputs": [
    {
     "name": "stdout",
     "output_type": "stream",
     "text": [
      "2\n"
     ]
    }
   ],
   "source": [
    "print(numbers[0, 1])"
   ]
  },
  {
   "cell_type": "markdown",
   "id": "sacred-advantage",
   "metadata": {},
   "source": [
    "## Assignment: use a tuple (row index, column index)"
   ]
  },
  {
   "cell_type": "code",
   "execution_count": 74,
   "id": "derived-patrol",
   "metadata": {},
   "outputs": [],
   "source": [
    "numbers[0, 1] = 10"
   ]
  },
  {
   "cell_type": "code",
   "execution_count": 75,
   "id": "attempted-baking",
   "metadata": {},
   "outputs": [
    {
     "data": {
      "text/plain": [
       "array([[ 1, 10,  3],\n",
       "       [ 4,  5,  6],\n",
       "       [ 7,  8,  9]])"
      ]
     },
     "execution_count": 75,
     "metadata": {},
     "output_type": "execute_result"
    }
   ],
   "source": [
    "numbers"
   ]
  },
  {
   "cell_type": "code",
   "execution_count": 76,
   "id": "lightweight-poetry",
   "metadata": {},
   "outputs": [
    {
     "data": {
      "text/plain": [
       "array([ 1, 10,  3])"
      ]
     },
     "execution_count": 76,
     "metadata": {},
     "output_type": "execute_result"
    }
   ],
   "source": [
    "numbers[0]"
   ]
  },
  {
   "cell_type": "markdown",
   "id": "phantom-enhancement",
   "metadata": {},
   "source": [
    "## Slicing: getting a column:"
   ]
  },
  {
   "cell_type": "code",
   "execution_count": 77,
   "id": "dutch-civilian",
   "metadata": {},
   "outputs": [
    {
     "data": {
      "text/plain": [
       "array([10,  5,  8])"
      ]
     },
     "execution_count": 77,
     "metadata": {},
     "output_type": "execute_result"
    }
   ],
   "source": [
    "numbers[:, 1]"
   ]
  },
  {
   "cell_type": "markdown",
   "id": "approved-hamburg",
   "metadata": {},
   "source": [
    "## Assigning a row:"
   ]
  },
  {
   "cell_type": "code",
   "execution_count": 78,
   "id": "therapeutic-american",
   "metadata": {},
   "outputs": [
    {
     "data": {
      "text/plain": [
       "array([[ 1, 10,  3],\n",
       "       [ 1,  1,  1],\n",
       "       [ 7,  8,  9]])"
      ]
     },
     "execution_count": 78,
     "metadata": {},
     "output_type": "execute_result"
    }
   ],
   "source": [
    "numbers[1] = [1, 1, 1]\n",
    "numbers"
   ]
  },
  {
   "cell_type": "markdown",
   "id": "labeled-arabic",
   "metadata": {},
   "source": [
    "## Assigning a column:"
   ]
  },
  {
   "cell_type": "code",
   "execution_count": 79,
   "id": "prostate-promotion",
   "metadata": {},
   "outputs": [
    {
     "data": {
      "text/plain": [
       "array([[ 1, 10,  9],\n",
       "       [ 1,  1,  9],\n",
       "       [ 7,  8,  9]])"
      ]
     },
     "execution_count": 79,
     "metadata": {},
     "output_type": "execute_result"
    }
   ],
   "source": [
    "numbers[:, 2] = [9, 9, 9]\n",
    "numbers"
   ]
  },
  {
   "cell_type": "markdown",
   "id": "steady-listening",
   "metadata": {},
   "source": [
    "# Element-wise operations"
   ]
  },
  {
   "cell_type": "code",
   "execution_count": 80,
   "id": "moral-utility",
   "metadata": {},
   "outputs": [
    {
     "data": {
      "text/plain": [
       "array([0, 1, 2, 3, 4])"
      ]
     },
     "execution_count": 80,
     "metadata": {},
     "output_type": "execute_result"
    }
   ],
   "source": [
    "rng = np.arange(5)\n",
    "rng"
   ]
  },
  {
   "cell_type": "markdown",
   "id": "waiting-smell",
   "metadata": {},
   "source": [
    "## Every item in the array is multiplied by 2: "
   ]
  },
  {
   "cell_type": "code",
   "execution_count": 81,
   "id": "looking-content",
   "metadata": {},
   "outputs": [
    {
     "data": {
      "text/plain": [
       "array([0, 2, 4, 6, 8])"
      ]
     },
     "execution_count": 81,
     "metadata": {},
     "output_type": "execute_result"
    }
   ],
   "source": [
    "rng * 2"
   ]
  },
  {
   "cell_type": "code",
   "execution_count": 82,
   "id": "instrumental-motion",
   "metadata": {},
   "outputs": [
    {
     "data": {
      "text/plain": [
       "array([-0.5,  1. ,  2.5,  4. ,  5.5])"
      ]
     },
     "execution_count": 82,
     "metadata": {},
     "output_type": "execute_result"
    }
   ],
   "source": [
    "(rng - 1) * 3 / 2 + 1"
   ]
  },
  {
   "cell_type": "markdown",
   "id": "declared-validity",
   "metadata": {},
   "source": [
    "## Adding one array with another"
   ]
  },
  {
   "cell_type": "code",
   "execution_count": 83,
   "id": "falling-biography",
   "metadata": {},
   "outputs": [
    {
     "data": {
      "text/plain": [
       "array([0.00435995, 0.00025926, 0.00549662, 0.00435322, 0.00420368])"
      ]
     },
     "execution_count": 83,
     "metadata": {},
     "output_type": "execute_result"
    }
   ],
   "source": [
    "np.random.seed(2)\n",
    "noise = 0.01 * np.random.rand(5)\n",
    "noise"
   ]
  },
  {
   "cell_type": "code",
   "execution_count": 84,
   "id": "demographic-bryan",
   "metadata": {},
   "outputs": [
    {
     "data": {
      "text/plain": [
       "array([0, 1, 2, 3, 4])"
      ]
     },
     "execution_count": 84,
     "metadata": {},
     "output_type": "execute_result"
    }
   ],
   "source": [
    "numbers = np.arange(5)\n",
    "numbers"
   ]
  },
  {
   "cell_type": "code",
   "execution_count": 85,
   "id": "african-advancement",
   "metadata": {},
   "outputs": [
    {
     "data": {
      "text/plain": [
       "array([0.00435995, 1.00025926, 2.00549662, 3.00435322, 4.00420368])"
      ]
     },
     "execution_count": 85,
     "metadata": {},
     "output_type": "execute_result"
    }
   ],
   "source": [
    "result = numbers + noise\n",
    "result"
   ]
  },
  {
   "cell_type": "markdown",
   "id": "scheduled-acting",
   "metadata": {},
   "source": [
    "## Rounding the numbers to 4th digit:\n"
   ]
  },
  {
   "cell_type": "code",
   "execution_count": 86,
   "id": "italian-throw",
   "metadata": {},
   "outputs": [
    {
     "data": {
      "text/plain": [
       "array([0.0044, 1.0003, 2.0055, 3.0044, 4.0042])"
      ]
     },
     "execution_count": 86,
     "metadata": {},
     "output_type": "execute_result"
    }
   ],
   "source": [
    "result.round(4)"
   ]
  },
  {
   "cell_type": "markdown",
   "id": "bearing-green",
   "metadata": {},
   "source": [
    "## Two ways to square each element:\n",
    "- element-wise multiplication with itself**\n",
    "- the power operator (**)"
   ]
  },
  {
   "cell_type": "code",
   "execution_count": 87,
   "id": "convertible-camcorder",
   "metadata": {},
   "outputs": [
    {
     "data": {
      "text/plain": [
       "array([0.44, 0.03, 0.55])"
      ]
     },
     "execution_count": 87,
     "metadata": {},
     "output_type": "execute_result"
    }
   ],
   "source": [
    "np.random.seed(2)\n",
    "pred = np.random.rand(3).round(2)\n",
    "pred"
   ]
  },
  {
   "cell_type": "code",
   "execution_count": 88,
   "id": "joined-cholesterol",
   "metadata": {},
   "outputs": [
    {
     "data": {
      "text/plain": [
       "array([0.1936, 0.0009, 0.3025])"
      ]
     },
     "execution_count": 88,
     "metadata": {},
     "output_type": "execute_result"
    }
   ],
   "source": [
    "square = pred * pred\n",
    "square"
   ]
  },
  {
   "cell_type": "code",
   "execution_count": 89,
   "id": "generous-basis",
   "metadata": {},
   "outputs": [
    {
     "data": {
      "text/plain": [
       "array([0.1936, 0.0009, 0.3025])"
      ]
     },
     "execution_count": 89,
     "metadata": {},
     "output_type": "execute_result"
    }
   ],
   "source": [
    "square = pred ** 2\n",
    "square"
   ]
  },
  {
   "cell_type": "markdown",
   "id": "handmade-director",
   "metadata": {},
   "source": [
    "## Other element-wise operations:\n",
    "\n",
    "    exp\n",
    "    log\n",
    "    sqrt\n",
    "\n"
   ]
  },
  {
   "cell_type": "code",
   "execution_count": 91,
   "id": "present-greenhouse",
   "metadata": {},
   "outputs": [
    {
     "data": {
      "text/plain": [
       "array([1.55270722, 1.03045453, 1.73325302])"
      ]
     },
     "execution_count": 91,
     "metadata": {},
     "output_type": "execute_result"
    }
   ],
   "source": [
    "np.exp(pred)"
   ]
  },
  {
   "cell_type": "code",
   "execution_count": 92,
   "id": "identical-introduction",
   "metadata": {},
   "outputs": [
    {
     "data": {
      "text/plain": [
       "array([-0.82098055, -3.5065579 , -0.597837  ])"
      ]
     },
     "execution_count": 92,
     "metadata": {},
     "output_type": "execute_result"
    }
   ],
   "source": [
    "np.log(pred)"
   ]
  },
  {
   "cell_type": "code",
   "execution_count": 93,
   "id": "aboriginal-sector",
   "metadata": {},
   "outputs": [
    {
     "data": {
      "text/plain": [
       "array([0.66332496, 0.17320508, 0.74161985])"
      ]
     },
     "execution_count": 93,
     "metadata": {},
     "output_type": "execute_result"
    }
   ],
   "source": [
    "np.sqrt(pred)"
   ]
  },
  {
   "cell_type": "markdown",
   "id": "elect-values",
   "metadata": {},
   "source": [
    "# Comparison operations"
   ]
  },
  {
   "cell_type": "code",
   "execution_count": 94,
   "id": "complete-secret",
   "metadata": {},
   "outputs": [
    {
     "data": {
      "text/plain": [
       "array([0.44, 0.03, 0.55])"
      ]
     },
     "execution_count": 94,
     "metadata": {},
     "output_type": "execute_result"
    }
   ],
   "source": [
    "np.random.seed(2)\n",
    "pred = np.random.rand(3).round(2)\n",
    "pred"
   ]
  },
  {
   "cell_type": "code",
   "execution_count": 95,
   "id": "tender-research",
   "metadata": {},
   "outputs": [
    {
     "data": {
      "text/plain": [
       "array([False, False,  True])"
      ]
     },
     "execution_count": 95,
     "metadata": {},
     "output_type": "execute_result"
    }
   ],
   "source": [
    "result = pred >= 0.5\n",
    "result"
   ]
  },
  {
   "cell_type": "code",
   "execution_count": 97,
   "id": "vietnamese-papua",
   "metadata": {},
   "outputs": [
    {
     "data": {
      "text/plain": [
       "array([0.44, 0.03, 0.55])"
      ]
     },
     "execution_count": 97,
     "metadata": {},
     "output_type": "execute_result"
    }
   ],
   "source": [
    "np.random.seed(2)\n",
    "pred1 = np.random.rand(3).round(2)\n",
    "pred1"
   ]
  },
  {
   "cell_type": "code",
   "execution_count": 98,
   "id": "automatic-festival",
   "metadata": {},
   "outputs": [
    {
     "data": {
      "text/plain": [
       "array([0.44, 0.42, 0.33])"
      ]
     },
     "execution_count": 98,
     "metadata": {},
     "output_type": "execute_result"
    }
   ],
   "source": [
    "pred2 = np.random.rand(3).round(2)\n",
    "pred2"
   ]
  },
  {
   "cell_type": "code",
   "execution_count": 100,
   "id": "orange-portable",
   "metadata": {},
   "outputs": [
    {
     "data": {
      "text/plain": [
       "array([ True, False,  True])"
      ]
     },
     "execution_count": 100,
     "metadata": {},
     "output_type": "execute_result"
    }
   ],
   "source": [
    "pred1 >= pred2"
   ]
  },
  {
   "cell_type": "markdown",
   "id": "tribal-illustration",
   "metadata": {},
   "source": [
    "# Logical operations"
   ]
  },
  {
   "cell_type": "code",
   "execution_count": 104,
   "id": "secondary-vacation",
   "metadata": {},
   "outputs": [],
   "source": [
    "pred1 = np.random.rand(3) >= 0.3\n",
    "pred2 = np.random.rand(3) >= 0.4"
   ]
  },
  {
   "cell_type": "code",
   "execution_count": 105,
   "id": "important-professional",
   "metadata": {},
   "outputs": [
    {
     "data": {
      "text/plain": [
       "array([False,  True, False])"
      ]
     },
     "execution_count": 105,
     "metadata": {},
     "output_type": "execute_result"
    }
   ],
   "source": [
    "pred1 & pred2"
   ]
  },
  {
   "cell_type": "code",
   "execution_count": 106,
   "id": "framed-reader",
   "metadata": {},
   "outputs": [
    {
     "data": {
      "text/plain": [
       "array([False,  True,  True])"
      ]
     },
     "execution_count": 106,
     "metadata": {},
     "output_type": "execute_result"
    }
   ],
   "source": [
    "pred1 | pred2"
   ]
  },
  {
   "cell_type": "markdown",
   "id": "instant-contact",
   "metadata": {},
   "source": [
    "# Summarizing operations\n",
    "- **Summarizing operations process and array and return a single number**"
   ]
  },
  {
   "cell_type": "code",
   "execution_count": 110,
   "id": "removed-platinum",
   "metadata": {},
   "outputs": [
    {
     "data": {
      "text/plain": [
       "array([0.44, 0.03, 0.55])"
      ]
     },
     "execution_count": 110,
     "metadata": {},
     "output_type": "execute_result"
    }
   ],
   "source": [
    "np.random.seed(2)\n",
    "pred = np.random.rand(3).round(2)\n",
    "pred_sum = pred.sum()\n",
    "pred"
   ]
  },
  {
   "cell_type": "code",
   "execution_count": 109,
   "id": "backed-investor",
   "metadata": {},
   "outputs": [
    {
     "data": {
      "text/plain": [
       "1.02"
      ]
     },
     "execution_count": 109,
     "metadata": {},
     "output_type": "execute_result"
    }
   ],
   "source": [
    "pred_sum"
   ]
  },
  {
   "cell_type": "code",
   "execution_count": 111,
   "id": "musical-classroom",
   "metadata": {},
   "outputs": [
    {
     "name": "stdout",
     "output_type": "stream",
     "text": [
      "min = 0.03\n",
      "mean = 0.34\n",
      "max = 0.55\n",
      "std = 0.22\n"
     ]
    }
   ],
   "source": [
    "print('min = %.2f' % pred.min())\n",
    "print('mean = %.2f' % pred.mean())\n",
    "print('max = %.2f' % pred.max())\n",
    "print('std = %.2f' % pred.std())"
   ]
  },
  {
   "cell_type": "markdown",
   "id": "blind-birthday",
   "metadata": {},
   "source": [
    "## For two-dimentional array it works in the same way:\n"
   ]
  },
  {
   "cell_type": "code",
   "execution_count": 112,
   "id": "opened-spokesman",
   "metadata": {},
   "outputs": [
    {
     "data": {
      "text/plain": [
       "array([[0.44, 0.03, 0.55],\n",
       "       [0.44, 0.42, 0.33],\n",
       "       [0.2 , 0.62, 0.3 ],\n",
       "       [0.27, 0.62, 0.53]])"
      ]
     },
     "execution_count": 112,
     "metadata": {},
     "output_type": "execute_result"
    }
   ],
   "source": [
    "np.random.seed(2)\n",
    "matrix = np.random.rand(4, 3).round(2)\n",
    "matrix"
   ]
  },
  {
   "cell_type": "code",
   "execution_count": 113,
   "id": "featured-bowling",
   "metadata": {},
   "outputs": [
    {
     "data": {
      "text/plain": [
       "0.62"
      ]
     },
     "execution_count": 113,
     "metadata": {},
     "output_type": "execute_result"
    }
   ],
   "source": [
    "matrix.max()"
   ]
  },
  {
   "cell_type": "markdown",
   "id": "effective-blake",
   "metadata": {},
   "source": [
    "## But we can specify the axis along which we apply the summarizing operation\n",
    "- **axis=1 - apply to each rows**\n",
    "- **axis=0 - apply to each column**\n",
    "\n"
   ]
  },
  {
   "cell_type": "code",
   "execution_count": 115,
   "id": "assured-newman",
   "metadata": {},
   "outputs": [
    {
     "data": {
      "text/plain": [
       "array([0.55, 0.44, 0.62, 0.62])"
      ]
     },
     "execution_count": 115,
     "metadata": {},
     "output_type": "execute_result"
    }
   ],
   "source": [
    "matrix.max(axis=1)"
   ]
  },
  {
   "cell_type": "code",
   "execution_count": 116,
   "id": "soviet-celebration",
   "metadata": {},
   "outputs": [
    {
     "data": {
      "text/plain": [
       "array([0.44, 0.62, 0.55])"
      ]
     },
     "execution_count": 116,
     "metadata": {},
     "output_type": "execute_result"
    }
   ],
   "source": [
    "matrix.max(axis=0)"
   ]
  },
  {
   "cell_type": "code",
   "execution_count": 117,
   "id": "aquatic-personality",
   "metadata": {},
   "outputs": [
    {
     "data": {
      "text/plain": [
       "array([1.02, 1.19, 1.12, 1.42])"
      ]
     },
     "execution_count": 117,
     "metadata": {},
     "output_type": "execute_result"
    }
   ],
   "source": [
    "matrix.sum(axis=1)"
   ]
  },
  {
   "cell_type": "markdown",
   "id": "hungarian-thursday",
   "metadata": {},
   "source": [
    "# Sorting"
   ]
  },
  {
   "cell_type": "code",
   "execution_count": 118,
   "id": "attached-tucson",
   "metadata": {},
   "outputs": [
    {
     "data": {
      "text/plain": [
       "array([0.44, 0.03, 0.55, 0.44])"
      ]
     },
     "execution_count": 118,
     "metadata": {},
     "output_type": "execute_result"
    }
   ],
   "source": [
    "np.random.seed(2)\n",
    "pred = np.random.rand(4).round(2)\n",
    "pred"
   ]
  },
  {
   "cell_type": "code",
   "execution_count": 120,
   "id": "certain-navigation",
   "metadata": {},
   "outputs": [
    {
     "data": {
      "text/plain": [
       "array([0.03, 0.44, 0.44, 0.55])"
      ]
     },
     "execution_count": 120,
     "metadata": {},
     "output_type": "execute_result"
    }
   ],
   "source": [
    "np.sort(pred)"
   ]
  },
  {
   "cell_type": "code",
   "execution_count": 121,
   "id": "electoral-roman",
   "metadata": {},
   "outputs": [
    {
     "data": {
      "text/plain": [
       "array([0.44, 0.03, 0.55, 0.44])"
      ]
     },
     "execution_count": 121,
     "metadata": {},
     "output_type": "execute_result"
    }
   ],
   "source": [
    "pred"
   ]
  },
  {
   "cell_type": "markdown",
   "id": "computational-austria",
   "metadata": {},
   "source": [
    "## Sorts in place:"
   ]
  },
  {
   "cell_type": "code",
   "execution_count": 122,
   "id": "spoken-evolution",
   "metadata": {},
   "outputs": [],
   "source": [
    "pred.sort()"
   ]
  },
  {
   "cell_type": "code",
   "execution_count": 123,
   "id": "entitled-lender",
   "metadata": {},
   "outputs": [
    {
     "data": {
      "text/plain": [
       "array([0.03, 0.44, 0.44, 0.55])"
      ]
     },
     "execution_count": 123,
     "metadata": {},
     "output_type": "execute_result"
    }
   ],
   "source": [
    "pred"
   ]
  },
  {
   "cell_type": "markdown",
   "id": "ordinary-paste",
   "metadata": {},
   "source": [
    "## Argsort - instead of sorting, return the indexes of the array in sorted order"
   ]
  },
  {
   "cell_type": "code",
   "execution_count": 124,
   "id": "constitutional-allergy",
   "metadata": {},
   "outputs": [
    {
     "data": {
      "text/plain": [
       "array([0.44, 0.03, 0.55, 0.44])"
      ]
     },
     "execution_count": 124,
     "metadata": {},
     "output_type": "execute_result"
    }
   ],
   "source": [
    "np.random.seed(2)\n",
    "pred = np.random.rand(4).round(2)\n",
    "pred"
   ]
  },
  {
   "cell_type": "code",
   "execution_count": 125,
   "id": "scheduled-flight",
   "metadata": {},
   "outputs": [],
   "source": [
    "idx = pred.argsort()"
   ]
  },
  {
   "cell_type": "code",
   "execution_count": 126,
   "id": "leading-constitutional",
   "metadata": {},
   "outputs": [
    {
     "data": {
      "text/plain": [
       "array([1, 0, 3, 2], dtype=int64)"
      ]
     },
     "execution_count": 126,
     "metadata": {},
     "output_type": "execute_result"
    }
   ],
   "source": [
    "idx"
   ]
  },
  {
   "cell_type": "code",
   "execution_count": 127,
   "id": "organizational-sally",
   "metadata": {},
   "outputs": [
    {
     "data": {
      "text/plain": [
       "array([0.03, 0.44, 0.44, 0.55])"
      ]
     },
     "execution_count": 127,
     "metadata": {},
     "output_type": "execute_result"
    }
   ],
   "source": [
    "pred[idx]"
   ]
  },
  {
   "cell_type": "markdown",
   "id": "preceding-scale",
   "metadata": {},
   "source": [
    "## Putting mulitple arrays together:\n",
    "- **concatenate**\n",
    "- **hstack : Stack arrays in sequence horizontally (column wise).**\n",
    "- **vstack: Stack arrays in sequence vertically (row wise).**\n",
    "- **column_stack: Stack 1-D arrays as columns into a 2-D array.**\n",
    "\n"
   ]
  },
  {
   "cell_type": "code",
   "execution_count": 129,
   "id": "clear-celebration",
   "metadata": {},
   "outputs": [
    {
     "data": {
      "text/plain": [
       "array([0, 1, 2])"
      ]
     },
     "execution_count": 129,
     "metadata": {},
     "output_type": "execute_result"
    }
   ],
   "source": [
    "vec = np.arange(3)\n",
    "vec\n"
   ]
  },
  {
   "cell_type": "code",
   "execution_count": 132,
   "id": "prospective-satellite",
   "metadata": {},
   "outputs": [
    {
     "data": {
      "text/plain": [
       "array([[0, 1],\n",
       "       [2, 3],\n",
       "       [4, 5]])"
      ]
     },
     "execution_count": 132,
     "metadata": {},
     "output_type": "execute_result"
    }
   ],
   "source": [
    "mat = np.arange(6).reshape(3, 2)\n",
    "mat"
   ]
  },
  {
   "cell_type": "code",
   "execution_count": 133,
   "id": "criminal-weekly",
   "metadata": {},
   "outputs": [
    {
     "data": {
      "text/plain": [
       "array([0, 1, 2, 0, 1, 2])"
      ]
     },
     "execution_count": 133,
     "metadata": {},
     "output_type": "execute_result"
    }
   ],
   "source": [
    "np.concatenate([vec, vec])"
   ]
  },
  {
   "cell_type": "code",
   "execution_count": 134,
   "id": "opponent-compatibility",
   "metadata": {},
   "outputs": [
    {
     "data": {
      "text/plain": [
       "array([0, 1, 2, 0, 1, 2])"
      ]
     },
     "execution_count": 134,
     "metadata": {},
     "output_type": "execute_result"
    }
   ],
   "source": [
    "np.hstack([vec, vec])"
   ]
  },
  {
   "cell_type": "code",
   "execution_count": 135,
   "id": "spectacular-decline",
   "metadata": {},
   "outputs": [
    {
     "data": {
      "text/plain": [
       "array([[0, 1, 0, 1],\n",
       "       [2, 3, 2, 3],\n",
       "       [4, 5, 4, 5]])"
      ]
     },
     "execution_count": 135,
     "metadata": {},
     "output_type": "execute_result"
    }
   ],
   "source": [
    "np.hstack([mat, mat])"
   ]
  },
  {
   "cell_type": "code",
   "execution_count": 136,
   "id": "ancient-david",
   "metadata": {},
   "outputs": [
    {
     "data": {
      "text/plain": [
       "array([[0, 1],\n",
       "       [2, 3],\n",
       "       [4, 5],\n",
       "       [0, 1],\n",
       "       [2, 3],\n",
       "       [4, 5]])"
      ]
     },
     "execution_count": 136,
     "metadata": {},
     "output_type": "execute_result"
    }
   ],
   "source": [
    "np.concatenate([mat, mat])"
   ]
  },
  {
   "cell_type": "code",
   "execution_count": 138,
   "id": "lesser-passenger",
   "metadata": {},
   "outputs": [
    {
     "data": {
      "text/plain": [
       "array([[0, 0, 1],\n",
       "       [1, 2, 3],\n",
       "       [2, 4, 5]])"
      ]
     },
     "execution_count": 138,
     "metadata": {},
     "output_type": "execute_result"
    }
   ],
   "source": [
    "np.column_stack([vec, mat])"
   ]
  },
  {
   "cell_type": "code",
   "execution_count": 139,
   "id": "canadian-wayne",
   "metadata": {},
   "outputs": [
    {
     "data": {
      "text/plain": [
       "array([[0, 0],\n",
       "       [1, 1],\n",
       "       [2, 2]])"
      ]
     },
     "execution_count": 139,
     "metadata": {},
     "output_type": "execute_result"
    }
   ],
   "source": [
    "np.column_stack([vec, vec])"
   ]
  },
  {
   "cell_type": "code",
   "execution_count": 141,
   "id": "afraid-story",
   "metadata": {},
   "outputs": [
    {
     "data": {
      "text/plain": [
       "array([[0, 1, 2],\n",
       "       [0, 1, 2]])"
      ]
     },
     "execution_count": 141,
     "metadata": {},
     "output_type": "execute_result"
    }
   ],
   "source": [
    "np.vstack([vec, vec])"
   ]
  },
  {
   "cell_type": "code",
   "execution_count": 142,
   "id": "mexican-student",
   "metadata": {},
   "outputs": [
    {
     "data": {
      "text/plain": [
       "array([[0, 1],\n",
       "       [2, 3],\n",
       "       [4, 5],\n",
       "       [0, 1],\n",
       "       [2, 3],\n",
       "       [4, 5]])"
      ]
     },
     "execution_count": 142,
     "metadata": {},
     "output_type": "execute_result"
    }
   ],
   "source": [
    "np.vstack([mat, mat])"
   ]
  },
  {
   "cell_type": "markdown",
   "id": "familiar-harmony",
   "metadata": {},
   "source": [
    "# Transpose"
   ]
  },
  {
   "cell_type": "code",
   "execution_count": 143,
   "id": "fixed-arrival",
   "metadata": {},
   "outputs": [
    {
     "data": {
      "text/plain": [
       "array([[0, 2, 4],\n",
       "       [1, 3, 5]])"
      ]
     },
     "execution_count": 143,
     "metadata": {},
     "output_type": "execute_result"
    }
   ],
   "source": [
    "mat.T"
   ]
  },
  {
   "cell_type": "code",
   "execution_count": 145,
   "id": "sticky-advertising",
   "metadata": {},
   "outputs": [
    {
     "data": {
      "text/plain": [
       "array([[0, 1, 2],\n",
       "       [0, 2, 4],\n",
       "       [1, 3, 5]])"
      ]
     },
     "execution_count": 145,
     "metadata": {},
     "output_type": "execute_result"
    }
   ],
   "source": [
    "np.vstack([vec, mat.T])"
   ]
  },
  {
   "cell_type": "markdown",
   "id": "inappropriate-nerve",
   "metadata": {},
   "source": [
    "# Slicing\n",
    "- Taking a part of the array\n"
   ]
  },
  {
   "cell_type": "code",
   "execution_count": 146,
   "id": "cooked-tonight",
   "metadata": {},
   "outputs": [
    {
     "data": {
      "text/plain": [
       "array([[ 0,  1,  2],\n",
       "       [ 3,  4,  5],\n",
       "       [ 6,  7,  8],\n",
       "       [ 9, 10, 11],\n",
       "       [12, 13, 14]])"
      ]
     },
     "execution_count": 146,
     "metadata": {},
     "output_type": "execute_result"
    }
   ],
   "source": [
    "mat = np.arange(15).reshape(5, 3)\n",
    "mat"
   ]
  },
  {
   "cell_type": "code",
   "execution_count": 147,
   "id": "liable-magazine",
   "metadata": {},
   "outputs": [
    {
     "data": {
      "text/plain": [
       "array([[0, 1, 2],\n",
       "       [3, 4, 5],\n",
       "       [6, 7, 8]])"
      ]
     },
     "execution_count": 147,
     "metadata": {},
     "output_type": "execute_result"
    }
   ],
   "source": [
    "mat[:3]"
   ]
  },
  {
   "cell_type": "code",
   "execution_count": 148,
   "id": "treated-elimination",
   "metadata": {},
   "outputs": [
    {
     "data": {
      "text/plain": [
       "array([[3, 4],\n",
       "       [6, 7]])"
      ]
     },
     "execution_count": 148,
     "metadata": {},
     "output_type": "execute_result"
    }
   ],
   "source": [
    "mat[1:3, :2]"
   ]
  },
  {
   "cell_type": "code",
   "execution_count": 149,
   "id": "bacterial-andrew",
   "metadata": {},
   "outputs": [
    {
     "data": {
      "text/plain": [
       "array([[ 0,  1],\n",
       "       [ 3,  4],\n",
       "       [ 6,  7],\n",
       "       [ 9, 10],\n",
       "       [12, 13]])"
      ]
     },
     "execution_count": 149,
     "metadata": {},
     "output_type": "execute_result"
    }
   ],
   "source": [
    "mat[:, :2]"
   ]
  },
  {
   "cell_type": "code",
   "execution_count": 150,
   "id": "acceptable-scratch",
   "metadata": {},
   "outputs": [
    {
     "data": {
      "text/plain": [
       "array([[3, 4],\n",
       "       [6, 7]])"
      ]
     },
     "execution_count": 150,
     "metadata": {},
     "output_type": "execute_result"
    }
   ],
   "source": [
    "mat[1:3, :2]"
   ]
  },
  {
   "cell_type": "code",
   "execution_count": 151,
   "id": "aerial-jenny",
   "metadata": {},
   "outputs": [
    {
     "data": {
      "text/plain": [
       "array([[ 9, 10, 11],\n",
       "       [ 0,  1,  2],\n",
       "       [ 3,  4,  5]])"
      ]
     },
     "execution_count": 151,
     "metadata": {},
     "output_type": "execute_result"
    }
   ],
   "source": [
    "mat[[3, 0, 1]]"
   ]
  },
  {
   "cell_type": "code",
   "execution_count": 153,
   "id": "roman-hometown",
   "metadata": {},
   "outputs": [
    {
     "data": {
      "text/plain": [
       "array([False,  True, False,  True, False])"
      ]
     },
     "execution_count": 153,
     "metadata": {},
     "output_type": "execute_result"
    }
   ],
   "source": [
    "mat[:, 0] % 2 == 1"
   ]
  },
  {
   "cell_type": "code",
   "execution_count": 154,
   "id": "incident-possible",
   "metadata": {},
   "outputs": [
    {
     "data": {
      "text/plain": [
       "array([[ 3,  4,  5],\n",
       "       [ 9, 10, 11]])"
      ]
     },
     "execution_count": 154,
     "metadata": {},
     "output_type": "execute_result"
    }
   ],
   "source": [
    "mat[mat[:, 0] % 2 == 1]"
   ]
  },
  {
   "cell_type": "code",
   "execution_count": null,
   "id": "precise-capitol",
   "metadata": {},
   "outputs": [],
   "source": []
  }
 ],
 "metadata": {
  "kernelspec": {
   "display_name": "Python 3",
   "language": "python",
   "name": "python3"
  },
  "language_info": {
   "codemirror_mode": {
    "name": "ipython",
    "version": 3
   },
   "file_extension": ".py",
   "mimetype": "text/x-python",
   "name": "python",
   "nbconvert_exporter": "python",
   "pygments_lexer": "ipython3",
   "version": "3.8.5"
  }
 },
 "nbformat": 4,
 "nbformat_minor": 5
}
