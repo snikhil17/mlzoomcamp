{
 "cells": [
  {
   "cell_type": "code",
   "execution_count": 8,
   "id": "0bebf601",
   "metadata": {},
   "outputs": [
    {
     "name": "stdout",
     "output_type": "stream",
     "text": [
      "{'match_win': True, 'win_probability': 0.9019108280254777}\n"
     ]
    }
   ],
   "source": [
    "import requests\n",
    "\n",
    "\n",
    "url = 'http://192.168.222.205:9696/predict'\n",
    "\n",
    "match = {\"all_rounder_in_team\": 1.0,\n",
    "         \"avg_team_age\": 26.0,\n",
    "         \"bowlers_in_team\": 2.0,\n",
    "         \"extra_bowls_opponent\": 0,\n",
    "         \"first_selection\": \"Bowling\",\n",
    "         \"match_format\": \"T20\",\n",
    "         \"match_light_type\": \"Day\",\n",
    "         \"max_run_given_1over\": 6.0,\n",
    "         \"max_run_scored_1over\": 12.0,\n",
    "         \"max_wicket_taken_1over\": 1,\n",
    "         \"min_run_given_1over\": 0,\n",
    "         \"min_run_scored_1over\": 3.0,\n",
    "         \"offshore\": \"No\",\n",
    "         \"opponent\": \"South Africa\",\n",
    "         \"player_highest_run\": 45.0,\n",
    "         \"player_highest_wicket\": 2,\n",
    "         \"players_scored_zero\": 3,\n",
    "         \"season\": \"Winter\"}\n",
    "\n",
    "\n",
    "response = requests.post(url, json=match).json()\n",
    "print(response)"
   ]
  },
  {
   "cell_type": "code",
   "execution_count": null,
   "id": "0458b294",
   "metadata": {},
   "outputs": [],
   "source": []
  }
 ],
 "metadata": {
  "kernelspec": {
   "display_name": "Python 3",
   "language": "python",
   "name": "python3"
  },
  "language_info": {
   "codemirror_mode": {
    "name": "ipython",
    "version": 3
   },
   "file_extension": ".py",
   "mimetype": "text/x-python",
   "name": "python",
   "nbconvert_exporter": "python",
   "pygments_lexer": "ipython3",
   "version": "3.8.8"
  }
 },
 "nbformat": 4,
 "nbformat_minor": 5
}
