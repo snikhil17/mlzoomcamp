{
  "nbformat": 4,
  "nbformat_minor": 0,
  "metadata": {
    "kernelspec": {
      "language": "python",
      "display_name": "Python 3",
      "name": "python3"
    },
    "language_info": {
      "pygments_lexer": "ipython3",
      "nbconvert_exporter": "python",
      "version": "3.6.4",
      "file_extension": ".py",
      "codemirror_mode": {
        "name": "ipython",
        "version": 3
      },
      "name": "python",
      "mimetype": "text/x-python"
    },
    "colab": {
      "name": "mlzoomcamp-homework-3.ipynb",
      "provenance": []
    }
  },
  "cells": [
    {
      "cell_type": "markdown",
      "metadata": {
        "id": "pEYvPy4MR8XL"
      },
      "source": [
        "<div style=\"background:#2b6684;color:white; font-family:'Goudy Old Style';padding:0.5em;border-radius:0.2em;font-size:30px;color:white\"><u>This Week Questions</u>\n",
        "    \n",
        "<p style=\"font-family:cursive;font-size:15px;color:  yellow\"><u>Question 1:</u></p>\n",
        "<ul style=\"font-family:cursive;font-size:15px;color:  white\">\n",
        "<li>Find a feature with missing values. How many missing values does it have?</li>\n",
        "</ul>   \n",
        "\n",
        "<p style=\"font-family:cursive;font-size:15px;color:  yellow\"><u>Question 2:</u></p>\n",
        "<ul style=\"font-family:cursive;font-size:15px;color:  white\">\n",
        "<li>What's the median (50% percentile) for variable 'minimum_nights'?</li>\n",
        "</ul>    \n",
        "    \n",
        "\n",
        "<p style=\"font-family:cursive;font-size:15px;color:  yellow\"><u>Question 3:</u></p>\n",
        "<ul style=\"font-family:cursive;font-size:15px;color:  white\">\n",
        "<li>We need to deal with missing values for the column from Q1.</li>\n",
        "<li>We have two options: fill it with 0 or with the mean of this variable.</li>\n",
        "<li>Try both options. For each, train a linear regression model without regularization using the code from the lessons.</li>\n",
        "<li>For computing the mean, use the training only!</li>\n",
        "<li>Use the validation dataset to evaluate the models and compare the RMSE of each option.</li>\n",
        "<li>Round the RMSE scores to 2 decimal digits using round(score, 2)</li>\n",
        "<li>Which option gives better RMSE?</li>\n",
        "</ul> \n",
        "    \n",
        "<p style=\"font-family:cursive;font-size:15px;color:  yellow\"><u>Question 4:</u></p>\n",
        "<ul style=\"font-family:cursive;font-size:15px;color:  white\">\n",
        "<li>Now let's train a regularized linear regression.</li>\n",
        "<li>For this question, fill the NAs with 0.</li>\n",
        "<li>Try different values of r from this list: [0, 0.000001, 0.0001, 0.001, 0.01, 0.1, 1, 5, 10].</li>\n",
        "<li>Use RMSE to evaluate the model on the validation dataset.</li>\n",
        "<li>Round the RMSE scores to 2 decimal digits.</li>\n",
        "<li>Which r gives the best RMSE?</li>\n",
        "</ul>    \n",
        "    \n",
        "    \n",
        "<p style=\"font-family:cursive;font-size:15px;color:  yellow\"><u>Question 5:</u></p>\n",
        "<ul style=\"font-family:cursive;font-size:15px;color:  white\">\n",
        "<li>We used seed 42 for splitting the data. Let's find out how selecting the seed influences our score.</li>\n",
        "<li>Try different seed values: [0, 1, 2, 3, 4, 5, 6, 7, 8, 9].</li>\n",
        "<li>For each seed, do the train/validation/test split with 60%/20%/20% distribution.</li>\n",
        "<li>Fill the missing values with 0 and train a model without regularization.</li>\n",
        "<li>For each seed, evaluate the model on the validation dataset and collect the RMSE scores.</li>\n",
        "<li>What's the standard deviation of all the scores? To compute the standard deviation, use np.std.</li>\n",
        "<li>Round the result to 3 decimal digits (round(std, 3)).</li>\n",
        "</ul>     \n",
        "    \n",
        "<ul style=\"font-family:cursive;font-size:15px;color:  white\">Note: Standard deviation shows how different the values are. If it's low, then all values are approximately the same. If it's high, the values are different. If standard deviation of scores is low, then our model is stable.</ul>    \n",
        "\n",
        "<p style=\"font-family:cursive;font-size:15px;color:  yellow\"><u>Question 6:</u></p>\n",
        "<ul style=\"font-family:cursive;font-size:15px;color:  white\">\n",
        "<li>Split the dataset like previously, use seed 9.</li>\n",
        "<li>Combine train and validation datasets.</li>\n",
        "<li>Fill the missing values with 0 and train a model with r=0.001.</li>\n",
        "<li>What's the RMSE on the test dataset?</li>\n",
        "</ul>\n",
        "\n",
        "</div>\n"
      ]
    },
    {
      "cell_type": "markdown",
      "metadata": {
        "id": "sFHMldcMR8XO"
      },
      "source": [
        "<div style=\"background:#2b6684;color:white; font-family:cursive;padding:0.5em;border-radius:0.2em;font-size:20px;color:yellow\">Importing Libraries</div>"
      ]
    },
    {
      "cell_type": "code",
      "metadata": {
        "_uuid": "8f2839f25d086af736a60e9eeb907d3b93b6e0e5",
        "_cell_guid": "b1076dfc-b9ad-4769-8c92-a6c4dae69d19",
        "execution": {
          "iopub.status.busy": "2021-09-20T15:44:29.739071Z",
          "iopub.execute_input": "2021-09-20T15:44:29.739937Z",
          "iopub.status.idle": "2021-09-20T15:44:30.498493Z",
          "shell.execute_reply.started": "2021-09-20T15:44:29.739843Z",
          "shell.execute_reply": "2021-09-20T15:44:30.497517Z"
        },
        "trusted": true,
        "id": "bfrNH5ZtR8XP"
      },
      "source": [
        "import numpy as np\n",
        "import pandas as pd\n",
        "import matplotlib.pyplot as plt\n",
        "import seaborn as sns\n",
        "from sklearn.model_selection import train_test_split\n",
        "\n",
        "from sklearn.metrics import mutual_info_score, mean_squared_error\n",
        "from sklearn.feature_extraction import DictVectorizer\n",
        "from sklearn.linear_model import LogisticRegression, Ridge\n",
        "\n",
        "plt.rcParams['figure.figsize'] = (16, 8)\n",
        "plt.style.use('fivethirtyeight')\n",
        "\n",
        "import warnings\n",
        "warnings.filterwarnings(\"ignore\")"
      ],
      "execution_count": 174,
      "outputs": []
    },
    {
      "cell_type": "markdown",
      "metadata": {
        "id": "6AcmLqEnR8XQ"
      },
      "source": [
        "<div style=\"background:#2b6684;color:white; font-family:cursive;padding:0.5em;border-radius:0.2em;font-size:20px;color:yellow\">Loading and Reading Data </div>"
      ]
    },
    {
      "cell_type": "code",
      "metadata": {
        "execution": {
          "iopub.status.busy": "2021-09-20T15:44:30.500366Z",
          "iopub.execute_input": "2021-09-20T15:44:30.500612Z",
          "iopub.status.idle": "2021-09-20T15:44:30.727287Z",
          "shell.execute_reply.started": "2021-09-20T15:44:30.500587Z",
          "shell.execute_reply": "2021-09-20T15:44:30.726571Z"
        },
        "trusted": true,
        "colab": {
          "base_uri": "https://localhost:8080/",
          "height": 617
        },
        "id": "k7Kg5w00R8XR",
        "outputId": "58e0f480-9bd1-4957-b21e-bc8691ccc6c3"
      },
      "source": [
        "r_data = 'https://raw.githubusercontent.com/alexeygrigorev/datasets/master/AB_NYC_2019.csv'\n",
        "!wget $r_data -O data-week-3.csv\n",
        "\n",
        "data = pd.read_csv('data-week-3.csv')\n",
        "data.head()\n",
        "\n"
      ],
      "execution_count": 175,
      "outputs": [
        {
          "output_type": "stream",
          "name": "stdout",
          "text": [
            "--2021-09-27 12:54:07--  https://raw.githubusercontent.com/alexeygrigorev/datasets/master/AB_NYC_2019.csv\n",
            "Resolving raw.githubusercontent.com (raw.githubusercontent.com)... 185.199.108.133, 185.199.109.133, 185.199.110.133, ...\n",
            "Connecting to raw.githubusercontent.com (raw.githubusercontent.com)|185.199.108.133|:443... connected.\n",
            "HTTP request sent, awaiting response... 200 OK\n",
            "Length: 7077973 (6.8M) [text/plain]\n",
            "Saving to: ‘data-week-3.csv’\n",
            "\n",
            "\rdata-week-3.csv       0%[                    ]       0  --.-KB/s               \rdata-week-3.csv     100%[===================>]   6.75M  --.-KB/s    in 0.09s   \n",
            "\n",
            "2021-09-27 12:54:08 (77.8 MB/s) - ‘data-week-3.csv’ saved [7077973/7077973]\n",
            "\n"
          ]
        },
        {
          "output_type": "execute_result",
          "data": {
            "text/html": [
              "<div>\n",
              "<style scoped>\n",
              "    .dataframe tbody tr th:only-of-type {\n",
              "        vertical-align: middle;\n",
              "    }\n",
              "\n",
              "    .dataframe tbody tr th {\n",
              "        vertical-align: top;\n",
              "    }\n",
              "\n",
              "    .dataframe thead th {\n",
              "        text-align: right;\n",
              "    }\n",
              "</style>\n",
              "<table border=\"1\" class=\"dataframe\">\n",
              "  <thead>\n",
              "    <tr style=\"text-align: right;\">\n",
              "      <th></th>\n",
              "      <th>id</th>\n",
              "      <th>name</th>\n",
              "      <th>host_id</th>\n",
              "      <th>host_name</th>\n",
              "      <th>neighbourhood_group</th>\n",
              "      <th>neighbourhood</th>\n",
              "      <th>latitude</th>\n",
              "      <th>longitude</th>\n",
              "      <th>room_type</th>\n",
              "      <th>price</th>\n",
              "      <th>minimum_nights</th>\n",
              "      <th>number_of_reviews</th>\n",
              "      <th>last_review</th>\n",
              "      <th>reviews_per_month</th>\n",
              "      <th>calculated_host_listings_count</th>\n",
              "      <th>availability_365</th>\n",
              "    </tr>\n",
              "  </thead>\n",
              "  <tbody>\n",
              "    <tr>\n",
              "      <th>0</th>\n",
              "      <td>2539</td>\n",
              "      <td>Clean &amp; quiet apt home by the park</td>\n",
              "      <td>2787</td>\n",
              "      <td>John</td>\n",
              "      <td>Brooklyn</td>\n",
              "      <td>Kensington</td>\n",
              "      <td>40.64749</td>\n",
              "      <td>-73.97237</td>\n",
              "      <td>Private room</td>\n",
              "      <td>149</td>\n",
              "      <td>1</td>\n",
              "      <td>9</td>\n",
              "      <td>2018-10-19</td>\n",
              "      <td>0.21</td>\n",
              "      <td>6</td>\n",
              "      <td>365</td>\n",
              "    </tr>\n",
              "    <tr>\n",
              "      <th>1</th>\n",
              "      <td>2595</td>\n",
              "      <td>Skylit Midtown Castle</td>\n",
              "      <td>2845</td>\n",
              "      <td>Jennifer</td>\n",
              "      <td>Manhattan</td>\n",
              "      <td>Midtown</td>\n",
              "      <td>40.75362</td>\n",
              "      <td>-73.98377</td>\n",
              "      <td>Entire home/apt</td>\n",
              "      <td>225</td>\n",
              "      <td>1</td>\n",
              "      <td>45</td>\n",
              "      <td>2019-05-21</td>\n",
              "      <td>0.38</td>\n",
              "      <td>2</td>\n",
              "      <td>355</td>\n",
              "    </tr>\n",
              "    <tr>\n",
              "      <th>2</th>\n",
              "      <td>3647</td>\n",
              "      <td>THE VILLAGE OF HARLEM....NEW YORK !</td>\n",
              "      <td>4632</td>\n",
              "      <td>Elisabeth</td>\n",
              "      <td>Manhattan</td>\n",
              "      <td>Harlem</td>\n",
              "      <td>40.80902</td>\n",
              "      <td>-73.94190</td>\n",
              "      <td>Private room</td>\n",
              "      <td>150</td>\n",
              "      <td>3</td>\n",
              "      <td>0</td>\n",
              "      <td>NaN</td>\n",
              "      <td>NaN</td>\n",
              "      <td>1</td>\n",
              "      <td>365</td>\n",
              "    </tr>\n",
              "    <tr>\n",
              "      <th>3</th>\n",
              "      <td>3831</td>\n",
              "      <td>Cozy Entire Floor of Brownstone</td>\n",
              "      <td>4869</td>\n",
              "      <td>LisaRoxanne</td>\n",
              "      <td>Brooklyn</td>\n",
              "      <td>Clinton Hill</td>\n",
              "      <td>40.68514</td>\n",
              "      <td>-73.95976</td>\n",
              "      <td>Entire home/apt</td>\n",
              "      <td>89</td>\n",
              "      <td>1</td>\n",
              "      <td>270</td>\n",
              "      <td>2019-07-05</td>\n",
              "      <td>4.64</td>\n",
              "      <td>1</td>\n",
              "      <td>194</td>\n",
              "    </tr>\n",
              "    <tr>\n",
              "      <th>4</th>\n",
              "      <td>5022</td>\n",
              "      <td>Entire Apt: Spacious Studio/Loft by central park</td>\n",
              "      <td>7192</td>\n",
              "      <td>Laura</td>\n",
              "      <td>Manhattan</td>\n",
              "      <td>East Harlem</td>\n",
              "      <td>40.79851</td>\n",
              "      <td>-73.94399</td>\n",
              "      <td>Entire home/apt</td>\n",
              "      <td>80</td>\n",
              "      <td>10</td>\n",
              "      <td>9</td>\n",
              "      <td>2018-11-19</td>\n",
              "      <td>0.10</td>\n",
              "      <td>1</td>\n",
              "      <td>0</td>\n",
              "    </tr>\n",
              "  </tbody>\n",
              "</table>\n",
              "</div>"
            ],
            "text/plain": [
              "     id  ... availability_365\n",
              "0  2539  ...              365\n",
              "1  2595  ...              355\n",
              "2  3647  ...              365\n",
              "3  3831  ...              194\n",
              "4  5022  ...                0\n",
              "\n",
              "[5 rows x 16 columns]"
            ]
          },
          "metadata": {},
          "execution_count": 175
        }
      ]
    },
    {
      "cell_type": "markdown",
      "metadata": {
        "id": "LO5YvZUXR8XT"
      },
      "source": [
        "<div style=\"background:#2b6684;color:white; font-family:cursive;padding:0.5em;border-radius:0.2em;font-size:20px;color:yellow\">Features used for this Project</div>"
      ]
    },
    {
      "cell_type": "code",
      "metadata": {
        "execution": {
          "iopub.status.busy": "2021-09-20T15:44:31.254658Z",
          "iopub.execute_input": "2021-09-20T15:44:31.255232Z",
          "iopub.status.idle": "2021-09-20T15:44:31.301559Z",
          "shell.execute_reply.started": "2021-09-20T15:44:31.255206Z",
          "shell.execute_reply": "2021-09-20T15:44:31.300748Z"
        },
        "trusted": true,
        "colab": {
          "base_uri": "https://localhost:8080/",
          "height": 300
        },
        "id": "2_tY-ufER8XU",
        "outputId": "4540c40b-f00a-42c0-8bb2-3ceaabe23c6d"
      },
      "source": [
        "features  = [\n",
        "    'neighbourhood_group',\n",
        "    'room_type',\n",
        "    'latitude',\n",
        "    'longitude',\n",
        "    'price',\n",
        "    'minimum_nights',\n",
        "    'number_of_reviews',\n",
        "    'reviews_per_month',\n",
        "    'calculated_host_listings_count',\n",
        "    'availability_365'\n",
        "]\n",
        "df = data[features]\n",
        "\"\"\"Checking description of this project's data set\"\"\"\n",
        "df.describe()"
      ],
      "execution_count": 176,
      "outputs": [
        {
          "output_type": "execute_result",
          "data": {
            "text/html": [
              "<div>\n",
              "<style scoped>\n",
              "    .dataframe tbody tr th:only-of-type {\n",
              "        vertical-align: middle;\n",
              "    }\n",
              "\n",
              "    .dataframe tbody tr th {\n",
              "        vertical-align: top;\n",
              "    }\n",
              "\n",
              "    .dataframe thead th {\n",
              "        text-align: right;\n",
              "    }\n",
              "</style>\n",
              "<table border=\"1\" class=\"dataframe\">\n",
              "  <thead>\n",
              "    <tr style=\"text-align: right;\">\n",
              "      <th></th>\n",
              "      <th>latitude</th>\n",
              "      <th>longitude</th>\n",
              "      <th>price</th>\n",
              "      <th>minimum_nights</th>\n",
              "      <th>number_of_reviews</th>\n",
              "      <th>reviews_per_month</th>\n",
              "      <th>calculated_host_listings_count</th>\n",
              "      <th>availability_365</th>\n",
              "    </tr>\n",
              "  </thead>\n",
              "  <tbody>\n",
              "    <tr>\n",
              "      <th>count</th>\n",
              "      <td>48895.000000</td>\n",
              "      <td>48895.000000</td>\n",
              "      <td>48895.000000</td>\n",
              "      <td>48895.000000</td>\n",
              "      <td>48895.000000</td>\n",
              "      <td>38843.000000</td>\n",
              "      <td>48895.000000</td>\n",
              "      <td>48895.000000</td>\n",
              "    </tr>\n",
              "    <tr>\n",
              "      <th>mean</th>\n",
              "      <td>40.728949</td>\n",
              "      <td>-73.952170</td>\n",
              "      <td>152.720687</td>\n",
              "      <td>7.029962</td>\n",
              "      <td>23.274466</td>\n",
              "      <td>1.373221</td>\n",
              "      <td>7.143982</td>\n",
              "      <td>112.781327</td>\n",
              "    </tr>\n",
              "    <tr>\n",
              "      <th>std</th>\n",
              "      <td>0.054530</td>\n",
              "      <td>0.046157</td>\n",
              "      <td>240.154170</td>\n",
              "      <td>20.510550</td>\n",
              "      <td>44.550582</td>\n",
              "      <td>1.680442</td>\n",
              "      <td>32.952519</td>\n",
              "      <td>131.622289</td>\n",
              "    </tr>\n",
              "    <tr>\n",
              "      <th>min</th>\n",
              "      <td>40.499790</td>\n",
              "      <td>-74.244420</td>\n",
              "      <td>0.000000</td>\n",
              "      <td>1.000000</td>\n",
              "      <td>0.000000</td>\n",
              "      <td>0.010000</td>\n",
              "      <td>1.000000</td>\n",
              "      <td>0.000000</td>\n",
              "    </tr>\n",
              "    <tr>\n",
              "      <th>25%</th>\n",
              "      <td>40.690100</td>\n",
              "      <td>-73.983070</td>\n",
              "      <td>69.000000</td>\n",
              "      <td>1.000000</td>\n",
              "      <td>1.000000</td>\n",
              "      <td>0.190000</td>\n",
              "      <td>1.000000</td>\n",
              "      <td>0.000000</td>\n",
              "    </tr>\n",
              "    <tr>\n",
              "      <th>50%</th>\n",
              "      <td>40.723070</td>\n",
              "      <td>-73.955680</td>\n",
              "      <td>106.000000</td>\n",
              "      <td>3.000000</td>\n",
              "      <td>5.000000</td>\n",
              "      <td>0.720000</td>\n",
              "      <td>1.000000</td>\n",
              "      <td>45.000000</td>\n",
              "    </tr>\n",
              "    <tr>\n",
              "      <th>75%</th>\n",
              "      <td>40.763115</td>\n",
              "      <td>-73.936275</td>\n",
              "      <td>175.000000</td>\n",
              "      <td>5.000000</td>\n",
              "      <td>24.000000</td>\n",
              "      <td>2.020000</td>\n",
              "      <td>2.000000</td>\n",
              "      <td>227.000000</td>\n",
              "    </tr>\n",
              "    <tr>\n",
              "      <th>max</th>\n",
              "      <td>40.913060</td>\n",
              "      <td>-73.712990</td>\n",
              "      <td>10000.000000</td>\n",
              "      <td>1250.000000</td>\n",
              "      <td>629.000000</td>\n",
              "      <td>58.500000</td>\n",
              "      <td>327.000000</td>\n",
              "      <td>365.000000</td>\n",
              "    </tr>\n",
              "  </tbody>\n",
              "</table>\n",
              "</div>"
            ],
            "text/plain": [
              "           latitude  ...  availability_365\n",
              "count  48895.000000  ...      48895.000000\n",
              "mean      40.728949  ...        112.781327\n",
              "std        0.054530  ...        131.622289\n",
              "min       40.499790  ...          0.000000\n",
              "25%       40.690100  ...          0.000000\n",
              "50%       40.723070  ...         45.000000\n",
              "75%       40.763115  ...        227.000000\n",
              "max       40.913060  ...        365.000000\n",
              "\n",
              "[8 rows x 8 columns]"
            ]
          },
          "metadata": {},
          "execution_count": 176
        }
      ]
    },
    {
      "cell_type": "markdown",
      "metadata": {
        "id": "lRNTMkohR8XV"
      },
      "source": [
        "<div style=\"background:#2b6684;color:white; font-family:cursive;padding:0.5em;border-radius:0.2em;font-size:20px;color:yellow\">Missing Values? Impute them with 0</div>"
      ]
    },
    {
      "cell_type": "code",
      "metadata": {
        "execution": {
          "iopub.status.busy": "2021-09-20T15:44:31.302769Z",
          "iopub.execute_input": "2021-09-20T15:44:31.302961Z",
          "iopub.status.idle": "2021-09-20T15:44:31.363672Z",
          "shell.execute_reply.started": "2021-09-20T15:44:31.30294Z",
          "shell.execute_reply": "2021-09-20T15:44:31.362774Z"
        },
        "trusted": true,
        "colab": {
          "base_uri": "https://localhost:8080/",
          "height": 527
        },
        "id": "H2NhQ18ZR8XW",
        "outputId": "f13bfb83-010e-44af-9b6c-6ed74a0b98cc"
      },
      "source": [
        "from IPython.display import display\n",
        "missing_vals = df.isnull().sum()\n",
        "print(\"Before Imputing Missing Values\")\n",
        "display(missing_vals.to_frame().reset_index().rename({'index': 'Variables', 0: 'Missing Values'}, axis = 1).sort_values(by = 'Missing Values', ascending = False).style.background_gradient('Reds'))\n",
        "\n",
        "\n",
        "df.fillna(0, inplace = True)\n",
        "print(\"After Imputing Missing Values\")\n",
        "display(df.isnull().sum().to_frame().reset_index().rename({'index': 'Variables', 0: 'Missing Values'}, axis = 1).style.background_gradient('Reds'))\n"
      ],
      "execution_count": 177,
      "outputs": [
        {
          "output_type": "stream",
          "name": "stdout",
          "text": [
            "Before Imputing Missing Values\n"
          ]
        },
        {
          "output_type": "display_data",
          "data": {
            "text/html": [
              "<style  type=\"text/css\" >\n",
              "#T_0587d2a6_1f92_11ec_beb5_0242ac1c0002row0_col1{\n",
              "            background-color:  #67000d;\n",
              "            color:  #f1f1f1;\n",
              "        }#T_0587d2a6_1f92_11ec_beb5_0242ac1c0002row1_col1,#T_0587d2a6_1f92_11ec_beb5_0242ac1c0002row2_col1,#T_0587d2a6_1f92_11ec_beb5_0242ac1c0002row3_col1,#T_0587d2a6_1f92_11ec_beb5_0242ac1c0002row4_col1,#T_0587d2a6_1f92_11ec_beb5_0242ac1c0002row5_col1,#T_0587d2a6_1f92_11ec_beb5_0242ac1c0002row6_col1,#T_0587d2a6_1f92_11ec_beb5_0242ac1c0002row7_col1,#T_0587d2a6_1f92_11ec_beb5_0242ac1c0002row8_col1,#T_0587d2a6_1f92_11ec_beb5_0242ac1c0002row9_col1{\n",
              "            background-color:  #fff5f0;\n",
              "            color:  #000000;\n",
              "        }</style><table id=\"T_0587d2a6_1f92_11ec_beb5_0242ac1c0002\" ><thead>    <tr>        <th class=\"blank level0\" ></th>        <th class=\"col_heading level0 col0\" >Variables</th>        <th class=\"col_heading level0 col1\" >Missing Values</th>    </tr></thead><tbody>\n",
              "                <tr>\n",
              "                        <th id=\"T_0587d2a6_1f92_11ec_beb5_0242ac1c0002level0_row0\" class=\"row_heading level0 row0\" >7</th>\n",
              "                        <td id=\"T_0587d2a6_1f92_11ec_beb5_0242ac1c0002row0_col0\" class=\"data row0 col0\" >reviews_per_month</td>\n",
              "                        <td id=\"T_0587d2a6_1f92_11ec_beb5_0242ac1c0002row0_col1\" class=\"data row0 col1\" >10052</td>\n",
              "            </tr>\n",
              "            <tr>\n",
              "                        <th id=\"T_0587d2a6_1f92_11ec_beb5_0242ac1c0002level0_row1\" class=\"row_heading level0 row1\" >0</th>\n",
              "                        <td id=\"T_0587d2a6_1f92_11ec_beb5_0242ac1c0002row1_col0\" class=\"data row1 col0\" >neighbourhood_group</td>\n",
              "                        <td id=\"T_0587d2a6_1f92_11ec_beb5_0242ac1c0002row1_col1\" class=\"data row1 col1\" >0</td>\n",
              "            </tr>\n",
              "            <tr>\n",
              "                        <th id=\"T_0587d2a6_1f92_11ec_beb5_0242ac1c0002level0_row2\" class=\"row_heading level0 row2\" >1</th>\n",
              "                        <td id=\"T_0587d2a6_1f92_11ec_beb5_0242ac1c0002row2_col0\" class=\"data row2 col0\" >room_type</td>\n",
              "                        <td id=\"T_0587d2a6_1f92_11ec_beb5_0242ac1c0002row2_col1\" class=\"data row2 col1\" >0</td>\n",
              "            </tr>\n",
              "            <tr>\n",
              "                        <th id=\"T_0587d2a6_1f92_11ec_beb5_0242ac1c0002level0_row3\" class=\"row_heading level0 row3\" >2</th>\n",
              "                        <td id=\"T_0587d2a6_1f92_11ec_beb5_0242ac1c0002row3_col0\" class=\"data row3 col0\" >latitude</td>\n",
              "                        <td id=\"T_0587d2a6_1f92_11ec_beb5_0242ac1c0002row3_col1\" class=\"data row3 col1\" >0</td>\n",
              "            </tr>\n",
              "            <tr>\n",
              "                        <th id=\"T_0587d2a6_1f92_11ec_beb5_0242ac1c0002level0_row4\" class=\"row_heading level0 row4\" >3</th>\n",
              "                        <td id=\"T_0587d2a6_1f92_11ec_beb5_0242ac1c0002row4_col0\" class=\"data row4 col0\" >longitude</td>\n",
              "                        <td id=\"T_0587d2a6_1f92_11ec_beb5_0242ac1c0002row4_col1\" class=\"data row4 col1\" >0</td>\n",
              "            </tr>\n",
              "            <tr>\n",
              "                        <th id=\"T_0587d2a6_1f92_11ec_beb5_0242ac1c0002level0_row5\" class=\"row_heading level0 row5\" >4</th>\n",
              "                        <td id=\"T_0587d2a6_1f92_11ec_beb5_0242ac1c0002row5_col0\" class=\"data row5 col0\" >price</td>\n",
              "                        <td id=\"T_0587d2a6_1f92_11ec_beb5_0242ac1c0002row5_col1\" class=\"data row5 col1\" >0</td>\n",
              "            </tr>\n",
              "            <tr>\n",
              "                        <th id=\"T_0587d2a6_1f92_11ec_beb5_0242ac1c0002level0_row6\" class=\"row_heading level0 row6\" >5</th>\n",
              "                        <td id=\"T_0587d2a6_1f92_11ec_beb5_0242ac1c0002row6_col0\" class=\"data row6 col0\" >minimum_nights</td>\n",
              "                        <td id=\"T_0587d2a6_1f92_11ec_beb5_0242ac1c0002row6_col1\" class=\"data row6 col1\" >0</td>\n",
              "            </tr>\n",
              "            <tr>\n",
              "                        <th id=\"T_0587d2a6_1f92_11ec_beb5_0242ac1c0002level0_row7\" class=\"row_heading level0 row7\" >6</th>\n",
              "                        <td id=\"T_0587d2a6_1f92_11ec_beb5_0242ac1c0002row7_col0\" class=\"data row7 col0\" >number_of_reviews</td>\n",
              "                        <td id=\"T_0587d2a6_1f92_11ec_beb5_0242ac1c0002row7_col1\" class=\"data row7 col1\" >0</td>\n",
              "            </tr>\n",
              "            <tr>\n",
              "                        <th id=\"T_0587d2a6_1f92_11ec_beb5_0242ac1c0002level0_row8\" class=\"row_heading level0 row8\" >8</th>\n",
              "                        <td id=\"T_0587d2a6_1f92_11ec_beb5_0242ac1c0002row8_col0\" class=\"data row8 col0\" >calculated_host_listings_count</td>\n",
              "                        <td id=\"T_0587d2a6_1f92_11ec_beb5_0242ac1c0002row8_col1\" class=\"data row8 col1\" >0</td>\n",
              "            </tr>\n",
              "            <tr>\n",
              "                        <th id=\"T_0587d2a6_1f92_11ec_beb5_0242ac1c0002level0_row9\" class=\"row_heading level0 row9\" >9</th>\n",
              "                        <td id=\"T_0587d2a6_1f92_11ec_beb5_0242ac1c0002row9_col0\" class=\"data row9 col0\" >availability_365</td>\n",
              "                        <td id=\"T_0587d2a6_1f92_11ec_beb5_0242ac1c0002row9_col1\" class=\"data row9 col1\" >0</td>\n",
              "            </tr>\n",
              "    </tbody></table>"
            ],
            "text/plain": [
              "<pandas.io.formats.style.Styler at 0x7fe08fd85910>"
            ]
          },
          "metadata": {}
        },
        {
          "output_type": "stream",
          "name": "stdout",
          "text": [
            "After Imputing Missing Values\n"
          ]
        },
        {
          "output_type": "display_data",
          "data": {
            "text/html": [
              "<style  type=\"text/css\" >\n",
              "#T_058dcc60_1f92_11ec_beb5_0242ac1c0002row0_col1,#T_058dcc60_1f92_11ec_beb5_0242ac1c0002row1_col1,#T_058dcc60_1f92_11ec_beb5_0242ac1c0002row2_col1,#T_058dcc60_1f92_11ec_beb5_0242ac1c0002row3_col1,#T_058dcc60_1f92_11ec_beb5_0242ac1c0002row4_col1,#T_058dcc60_1f92_11ec_beb5_0242ac1c0002row5_col1,#T_058dcc60_1f92_11ec_beb5_0242ac1c0002row6_col1,#T_058dcc60_1f92_11ec_beb5_0242ac1c0002row7_col1,#T_058dcc60_1f92_11ec_beb5_0242ac1c0002row8_col1,#T_058dcc60_1f92_11ec_beb5_0242ac1c0002row9_col1{\n",
              "            background-color:  #fff5f0;\n",
              "            color:  #000000;\n",
              "        }</style><table id=\"T_058dcc60_1f92_11ec_beb5_0242ac1c0002\" ><thead>    <tr>        <th class=\"blank level0\" ></th>        <th class=\"col_heading level0 col0\" >Variables</th>        <th class=\"col_heading level0 col1\" >Missing Values</th>    </tr></thead><tbody>\n",
              "                <tr>\n",
              "                        <th id=\"T_058dcc60_1f92_11ec_beb5_0242ac1c0002level0_row0\" class=\"row_heading level0 row0\" >0</th>\n",
              "                        <td id=\"T_058dcc60_1f92_11ec_beb5_0242ac1c0002row0_col0\" class=\"data row0 col0\" >neighbourhood_group</td>\n",
              "                        <td id=\"T_058dcc60_1f92_11ec_beb5_0242ac1c0002row0_col1\" class=\"data row0 col1\" >0</td>\n",
              "            </tr>\n",
              "            <tr>\n",
              "                        <th id=\"T_058dcc60_1f92_11ec_beb5_0242ac1c0002level0_row1\" class=\"row_heading level0 row1\" >1</th>\n",
              "                        <td id=\"T_058dcc60_1f92_11ec_beb5_0242ac1c0002row1_col0\" class=\"data row1 col0\" >room_type</td>\n",
              "                        <td id=\"T_058dcc60_1f92_11ec_beb5_0242ac1c0002row1_col1\" class=\"data row1 col1\" >0</td>\n",
              "            </tr>\n",
              "            <tr>\n",
              "                        <th id=\"T_058dcc60_1f92_11ec_beb5_0242ac1c0002level0_row2\" class=\"row_heading level0 row2\" >2</th>\n",
              "                        <td id=\"T_058dcc60_1f92_11ec_beb5_0242ac1c0002row2_col0\" class=\"data row2 col0\" >latitude</td>\n",
              "                        <td id=\"T_058dcc60_1f92_11ec_beb5_0242ac1c0002row2_col1\" class=\"data row2 col1\" >0</td>\n",
              "            </tr>\n",
              "            <tr>\n",
              "                        <th id=\"T_058dcc60_1f92_11ec_beb5_0242ac1c0002level0_row3\" class=\"row_heading level0 row3\" >3</th>\n",
              "                        <td id=\"T_058dcc60_1f92_11ec_beb5_0242ac1c0002row3_col0\" class=\"data row3 col0\" >longitude</td>\n",
              "                        <td id=\"T_058dcc60_1f92_11ec_beb5_0242ac1c0002row3_col1\" class=\"data row3 col1\" >0</td>\n",
              "            </tr>\n",
              "            <tr>\n",
              "                        <th id=\"T_058dcc60_1f92_11ec_beb5_0242ac1c0002level0_row4\" class=\"row_heading level0 row4\" >4</th>\n",
              "                        <td id=\"T_058dcc60_1f92_11ec_beb5_0242ac1c0002row4_col0\" class=\"data row4 col0\" >price</td>\n",
              "                        <td id=\"T_058dcc60_1f92_11ec_beb5_0242ac1c0002row4_col1\" class=\"data row4 col1\" >0</td>\n",
              "            </tr>\n",
              "            <tr>\n",
              "                        <th id=\"T_058dcc60_1f92_11ec_beb5_0242ac1c0002level0_row5\" class=\"row_heading level0 row5\" >5</th>\n",
              "                        <td id=\"T_058dcc60_1f92_11ec_beb5_0242ac1c0002row5_col0\" class=\"data row5 col0\" >minimum_nights</td>\n",
              "                        <td id=\"T_058dcc60_1f92_11ec_beb5_0242ac1c0002row5_col1\" class=\"data row5 col1\" >0</td>\n",
              "            </tr>\n",
              "            <tr>\n",
              "                        <th id=\"T_058dcc60_1f92_11ec_beb5_0242ac1c0002level0_row6\" class=\"row_heading level0 row6\" >6</th>\n",
              "                        <td id=\"T_058dcc60_1f92_11ec_beb5_0242ac1c0002row6_col0\" class=\"data row6 col0\" >number_of_reviews</td>\n",
              "                        <td id=\"T_058dcc60_1f92_11ec_beb5_0242ac1c0002row6_col1\" class=\"data row6 col1\" >0</td>\n",
              "            </tr>\n",
              "            <tr>\n",
              "                        <th id=\"T_058dcc60_1f92_11ec_beb5_0242ac1c0002level0_row7\" class=\"row_heading level0 row7\" >7</th>\n",
              "                        <td id=\"T_058dcc60_1f92_11ec_beb5_0242ac1c0002row7_col0\" class=\"data row7 col0\" >reviews_per_month</td>\n",
              "                        <td id=\"T_058dcc60_1f92_11ec_beb5_0242ac1c0002row7_col1\" class=\"data row7 col1\" >0</td>\n",
              "            </tr>\n",
              "            <tr>\n",
              "                        <th id=\"T_058dcc60_1f92_11ec_beb5_0242ac1c0002level0_row8\" class=\"row_heading level0 row8\" >8</th>\n",
              "                        <td id=\"T_058dcc60_1f92_11ec_beb5_0242ac1c0002row8_col0\" class=\"data row8 col0\" >calculated_host_listings_count</td>\n",
              "                        <td id=\"T_058dcc60_1f92_11ec_beb5_0242ac1c0002row8_col1\" class=\"data row8 col1\" >0</td>\n",
              "            </tr>\n",
              "            <tr>\n",
              "                        <th id=\"T_058dcc60_1f92_11ec_beb5_0242ac1c0002level0_row9\" class=\"row_heading level0 row9\" >9</th>\n",
              "                        <td id=\"T_058dcc60_1f92_11ec_beb5_0242ac1c0002row9_col0\" class=\"data row9 col0\" >availability_365</td>\n",
              "                        <td id=\"T_058dcc60_1f92_11ec_beb5_0242ac1c0002row9_col1\" class=\"data row9 col1\" >0</td>\n",
              "            </tr>\n",
              "    </tbody></table>"
            ],
            "text/plain": [
              "<pandas.io.formats.style.Styler at 0x7fe09afdd3d0>"
            ]
          },
          "metadata": {}
        }
      ]
    },
    {
      "cell_type": "markdown",
      "metadata": {
        "id": "7S9_rm__R8XW"
      },
      "source": [
        "<div style=\"background:#2b6684;color:white; font-family:cursive;padding:0.5em;border-radius:0.2em;font-size:20px;color:white\">Q1. What is the most frequent observation (mode) for the column 'neighbourhood_group'?</div>"
      ]
    },
    {
      "cell_type": "code",
      "metadata": {
        "execution": {
          "iopub.status.busy": "2021-09-20T15:44:31.364664Z",
          "iopub.execute_input": "2021-09-20T15:44:31.364809Z",
          "iopub.status.idle": "2021-09-20T15:44:31.373329Z",
          "shell.execute_reply.started": "2021-09-20T15:44:31.36479Z",
          "shell.execute_reply": "2021-09-20T15:44:31.372471Z"
        },
        "trusted": true,
        "colab": {
          "base_uri": "https://localhost:8080/"
        },
        "id": "1MIBso-xR8XX",
        "outputId": "bd4b3b7d-5c5f-4f45-d9d8-93ba95f08962"
      },
      "source": [
        "print(\"Mode for variable 'neighbourhood_group': %s\" %(df['neighbourhood_group'].value_counts().head(1)))"
      ],
      "execution_count": 178,
      "outputs": [
        {
          "output_type": "stream",
          "name": "stdout",
          "text": [
            "Mode for variable 'neighbourhood_group': Manhattan    21661\n",
            "Name: neighbourhood_group, dtype: int64\n"
          ]
        }
      ]
    },
    {
      "cell_type": "markdown",
      "metadata": {
        "id": "d9zBkFZfR8XX"
      },
      "source": [
        "<div style=\"background:#2b6684;color:white; font-family:cursive;padding:0.5em;border-radius:0.2em;font-size:20px;color:yellow\">Split the data\n",
        "<ul style=\"font-family:cursive;font-size:15px;color:  white\">\n",
        "<li>Split your data in train/val/test sets, with 60%/20%/20% distribution.</li>\n",
        "<li>Use Scikit-Learn for that (the train_test_split function) and set the seed to 42.</li>\n",
        "<li>Make sure that the target value ('price') is not in your dataframe.</li>\n",
        "</ul>\n",
        "</div>\n"
      ]
    },
    {
      "cell_type": "code",
      "metadata": {
        "execution": {
          "iopub.status.busy": "2021-09-20T15:44:31.374507Z",
          "iopub.execute_input": "2021-09-20T15:44:31.374747Z",
          "iopub.status.idle": "2021-09-20T15:44:31.39281Z",
          "shell.execute_reply.started": "2021-09-20T15:44:31.37472Z",
          "shell.execute_reply": "2021-09-20T15:44:31.392103Z"
        },
        "trusted": true,
        "id": "TDcd-ut6R8XY"
      },
      "source": [
        "from sklearn.model_selection import train_test_split\n",
        "df_full_train, df_test = train_test_split(df, test_size=0.2, random_state=42)\n",
        "df_train, df_val = train_test_split(df_full_train, test_size=0.2, random_state=42)\n",
        "len(df_train), len(df_val), len(df_test)\n",
        "\n",
        "df_train = df_train.reset_index(drop=True)\n",
        "df_val = df_val.reset_index(drop=True)\n",
        "df_test = df_test.reset_index(drop=True)\n"
      ],
      "execution_count": 179,
      "outputs": []
    },
    {
      "cell_type": "markdown",
      "metadata": {
        "execution": {
          "iopub.status.busy": "2021-09-17T09:24:56.466732Z",
          "iopub.execute_input": "2021-09-17T09:24:56.467046Z",
          "iopub.status.idle": "2021-09-17T09:24:56.527484Z",
          "shell.execute_reply.started": "2021-09-17T09:24:56.467017Z",
          "shell.execute_reply": "2021-09-17T09:24:56.526372Z"
        },
        "id": "uUu8RX24R8XY"
      },
      "source": [
        "<div style=\"background:#2b6684;color:white; font-family:cursive;padding:0.5em;border-radius:0.2em;font-size:20px;color:yellow\">Question 2:\n",
        "<ul style=\"font-family:cursive;font-size:15px;color:  white\">\n",
        "<li>Create the correlation matrix for the numerical features of your train dataset. </li>\n",
        "<ul>\n",
        "<li>In a correlation matrix, you compute the correlation coefficient between every pair of features in the dataset. </li>    \n",
        "</ul> \n",
        "<li>What are the two features that have the biggest correlation in this dataset? </li>   \n",
        "    \n",
        "</ul> \n",
        "</div>\n"
      ]
    },
    {
      "cell_type": "code",
      "metadata": {
        "execution": {
          "iopub.status.busy": "2021-09-20T15:44:31.394029Z",
          "iopub.execute_input": "2021-09-20T15:44:31.394255Z",
          "iopub.status.idle": "2021-09-20T15:44:31.402689Z",
          "shell.execute_reply.started": "2021-09-20T15:44:31.394218Z",
          "shell.execute_reply": "2021-09-20T15:44:31.402013Z"
        },
        "trusted": true,
        "colab": {
          "base_uri": "https://localhost:8080/",
          "height": 1000
        },
        "id": "YqfYiZx7R8XZ",
        "outputId": "b80cbf9f-1ec2-4dee-bffb-58536af01e56"
      },
      "source": [
        "\"\"\"Creating List of Numerical and Categorical columns\"\"\"\n",
        "categorical = [col for col in df.columns if df[col].dtype == 'object']\n",
        "numerical = [col for col in df.columns if col not in categorical]\n",
        "\n",
        "\"\"\"Correlation of Numerical Columns\"\"\"\n",
        "display(df[numerical].corr())\n",
        "\n",
        "\"\"\"Heatmap of Numerical Variables\"\"\"\n",
        "display(sns.heatmap(df[numerical].corr(), annot = True, lw = 0.2, square = True, cmap = 'crest'))\n"
      ],
      "execution_count": 180,
      "outputs": [
        {
          "output_type": "display_data",
          "data": {
            "text/html": [
              "<div>\n",
              "<style scoped>\n",
              "    .dataframe tbody tr th:only-of-type {\n",
              "        vertical-align: middle;\n",
              "    }\n",
              "\n",
              "    .dataframe tbody tr th {\n",
              "        vertical-align: top;\n",
              "    }\n",
              "\n",
              "    .dataframe thead th {\n",
              "        text-align: right;\n",
              "    }\n",
              "</style>\n",
              "<table border=\"1\" class=\"dataframe\">\n",
              "  <thead>\n",
              "    <tr style=\"text-align: right;\">\n",
              "      <th></th>\n",
              "      <th>latitude</th>\n",
              "      <th>longitude</th>\n",
              "      <th>price</th>\n",
              "      <th>minimum_nights</th>\n",
              "      <th>number_of_reviews</th>\n",
              "      <th>reviews_per_month</th>\n",
              "      <th>calculated_host_listings_count</th>\n",
              "      <th>availability_365</th>\n",
              "    </tr>\n",
              "  </thead>\n",
              "  <tbody>\n",
              "    <tr>\n",
              "      <th>latitude</th>\n",
              "      <td>1.000000</td>\n",
              "      <td>0.084788</td>\n",
              "      <td>0.033939</td>\n",
              "      <td>0.024869</td>\n",
              "      <td>-0.015389</td>\n",
              "      <td>-0.018758</td>\n",
              "      <td>0.019517</td>\n",
              "      <td>-0.010983</td>\n",
              "    </tr>\n",
              "    <tr>\n",
              "      <th>longitude</th>\n",
              "      <td>0.084788</td>\n",
              "      <td>1.000000</td>\n",
              "      <td>-0.150019</td>\n",
              "      <td>-0.062747</td>\n",
              "      <td>0.059094</td>\n",
              "      <td>0.138516</td>\n",
              "      <td>-0.114713</td>\n",
              "      <td>0.082731</td>\n",
              "    </tr>\n",
              "    <tr>\n",
              "      <th>price</th>\n",
              "      <td>0.033939</td>\n",
              "      <td>-0.150019</td>\n",
              "      <td>1.000000</td>\n",
              "      <td>0.042799</td>\n",
              "      <td>-0.047954</td>\n",
              "      <td>-0.050564</td>\n",
              "      <td>0.057472</td>\n",
              "      <td>0.081829</td>\n",
              "    </tr>\n",
              "    <tr>\n",
              "      <th>minimum_nights</th>\n",
              "      <td>0.024869</td>\n",
              "      <td>-0.062747</td>\n",
              "      <td>0.042799</td>\n",
              "      <td>1.000000</td>\n",
              "      <td>-0.080116</td>\n",
              "      <td>-0.124905</td>\n",
              "      <td>0.127960</td>\n",
              "      <td>0.144303</td>\n",
              "    </tr>\n",
              "    <tr>\n",
              "      <th>number_of_reviews</th>\n",
              "      <td>-0.015389</td>\n",
              "      <td>0.059094</td>\n",
              "      <td>-0.047954</td>\n",
              "      <td>-0.080116</td>\n",
              "      <td>1.000000</td>\n",
              "      <td>0.589407</td>\n",
              "      <td>-0.072376</td>\n",
              "      <td>0.172028</td>\n",
              "    </tr>\n",
              "    <tr>\n",
              "      <th>reviews_per_month</th>\n",
              "      <td>-0.018758</td>\n",
              "      <td>0.138516</td>\n",
              "      <td>-0.050564</td>\n",
              "      <td>-0.124905</td>\n",
              "      <td>0.589407</td>\n",
              "      <td>1.000000</td>\n",
              "      <td>-0.047312</td>\n",
              "      <td>0.163732</td>\n",
              "    </tr>\n",
              "    <tr>\n",
              "      <th>calculated_host_listings_count</th>\n",
              "      <td>0.019517</td>\n",
              "      <td>-0.114713</td>\n",
              "      <td>0.057472</td>\n",
              "      <td>0.127960</td>\n",
              "      <td>-0.072376</td>\n",
              "      <td>-0.047312</td>\n",
              "      <td>1.000000</td>\n",
              "      <td>0.225701</td>\n",
              "    </tr>\n",
              "    <tr>\n",
              "      <th>availability_365</th>\n",
              "      <td>-0.010983</td>\n",
              "      <td>0.082731</td>\n",
              "      <td>0.081829</td>\n",
              "      <td>0.144303</td>\n",
              "      <td>0.172028</td>\n",
              "      <td>0.163732</td>\n",
              "      <td>0.225701</td>\n",
              "      <td>1.000000</td>\n",
              "    </tr>\n",
              "  </tbody>\n",
              "</table>\n",
              "</div>"
            ],
            "text/plain": [
              "                                latitude  ...  availability_365\n",
              "latitude                        1.000000  ...         -0.010983\n",
              "longitude                       0.084788  ...          0.082731\n",
              "price                           0.033939  ...          0.081829\n",
              "minimum_nights                  0.024869  ...          0.144303\n",
              "number_of_reviews              -0.015389  ...          0.172028\n",
              "reviews_per_month              -0.018758  ...          0.163732\n",
              "calculated_host_listings_count  0.019517  ...          0.225701\n",
              "availability_365               -0.010983  ...          1.000000\n",
              "\n",
              "[8 rows x 8 columns]"
            ]
          },
          "metadata": {}
        },
        {
          "output_type": "display_data",
          "data": {
            "text/plain": [
              "<matplotlib.axes._subplots.AxesSubplot at 0x7fe09ce63790>"
            ]
          },
          "metadata": {}
        },
        {
          "output_type": "display_data",
          "data": {
            "image/png": "[encoded data removed]",
            "text/plain": [
              "<Figure size 1152x576 with 2 Axes>"
            ]
          },
          "metadata": {}
        }
      ]
    },
    {
      "cell_type": "markdown",
      "metadata": {
        "id": "hPZj64Lucz7s"
      },
      "source": [
        "\n",
        "<p style=\"font-family:cursive;font-size:15px;color:  white\"> Highest Correlation is between reviews_per_month and number_of_reviews: 0.589407 </p>"
      ]
    },
    {
      "cell_type": "markdown",
      "metadata": {
        "id": "2Tg0JxEDZeWW"
      },
      "source": [
        "<div style=\"background:#2b6684;color:white; font-family:cursive;padding:0.5em;border-radius:0.2em;font-size:20px;color:yellow\">Make price binary\n",
        "<ul style=\"font-family:cursive;font-size:15px;color:  white\">\n",
        "<li>We need to turn the price variable from numeric into binary.</li>\n",
        "<li>Let's create a variable above_average which is 1 if the price is above (or equal to) 152.</li>\n",
        "</ul>\n",
        "</div>"
      ]
    },
    {
      "cell_type": "code",
      "metadata": {
        "execution": {
          "iopub.status.busy": "2021-09-20T15:44:31.404384Z",
          "iopub.execute_input": "2021-09-20T15:44:31.404639Z",
          "iopub.status.idle": "2021-09-20T15:44:31.418619Z",
          "shell.execute_reply.started": "2021-09-20T15:44:31.404612Z",
          "shell.execute_reply": "2021-09-20T15:44:31.417773Z"
        },
        "trusted": true,
        "id": "1ya3UedmR8XZ"
      },
      "source": [
        "\"\"\"price variable from numeric into binary.\"\"\"\n",
        "df_full_train['above_average'] = (df_full_train['price'] >= 152).values.astype(int)\n"
      ],
      "execution_count": null,
      "outputs": []
    },
    {
      "cell_type": "markdown",
      "metadata": {
        "execution": {
          "iopub.status.busy": "2021-09-17T10:32:33.230859Z",
          "iopub.execute_input": "2021-09-17T10:32:33.231261Z",
          "iopub.status.idle": "2021-09-17T10:32:33.25253Z",
          "shell.execute_reply.started": "2021-09-17T10:32:33.231221Z",
          "shell.execute_reply": "2021-09-17T10:32:33.25177Z"
        },
        "id": "2XGgZimiR8Xa"
      },
      "source": [
        "<div style=\"background:#2b6684;color:white; font-family:cursive;padding:0.5em;border-radius:0.2em;font-size:20px;color:yellow\">Question 3:\n",
        "<ul style=\"font-family:cursive;font-size:15px;color:  white\">\n",
        "<li>Calculate the mutual information score with the (binarized) price for the two categorical variables that we have. Use the training set only.</li>\n",
        "<li>Which of these two variables has bigger score?</li>\n",
        "<li>Round it to 2 decimal digits using round(score, 2)</li>\n",
        "</ul> \n",
        "</div>\n"
      ]
    },
    {
      "cell_type": "code",
      "metadata": {
        "execution": {
          "iopub.status.busy": "2021-09-20T15:44:31.450382Z",
          "iopub.execute_input": "2021-09-20T15:44:31.450606Z",
          "iopub.status.idle": "2021-09-20T15:44:31.483094Z",
          "shell.execute_reply.started": "2021-09-20T15:44:31.450575Z",
          "shell.execute_reply": "2021-09-20T15:44:31.482393Z"
        },
        "trusted": true,
        "colab": {
          "base_uri": "https://localhost:8080/"
        },
        "id": "9P0OJjcdR8Xa",
        "outputId": "b383b1d6-bfae-4e25-ce7d-32f2596d24ce"
      },
      "source": [
        "\"\"\"Mutual Information\"\"\"\n",
        "def mutual_info_bin_score(series):\n",
        "    return mutual_info_score(series, df_full_train.above_average)\n",
        "\n",
        "mi = df_full_train[categorical].apply(mutual_info_bin_score)\n",
        "mi.round(2).sort_values(ascending=False)    "
      ],
      "execution_count": null,
      "outputs": [
        {
          "output_type": "execute_result",
          "data": {
            "text/plain": [
              "room_type              0.14\n",
              "neighbourhood_group    0.05\n",
              "dtype: float64"
            ]
          },
          "metadata": {},
          "execution_count": 37
        }
      ]
    },
    {
      "cell_type": "markdown",
      "metadata": {
        "id": "5msozvRpfCcE"
      },
      "source": [
        "\n",
        "<p style=\"font-family:cursive;font-size:15px;color:  red\"> Variable room_type has the biggest score = 0.14 </p>"
      ]
    },
    {
      "cell_type": "markdown",
      "metadata": {
        "id": "dbh2u7IjR8Xb"
      },
      "source": [
        "<div style=\"background:#2b6684; font-family:cursive;padding:0.5em;border-radius:0.2em;font-size:20px;color:yellow\">Question 4:\n",
        "<ul style=\"font-family:cursive;font-size:15px;color:  white\">\n",
        "<li>Now let's train a logistic regression</li>\n",
        "<li>Remember that we have two categorical variables in the data. Include them using one-hot encoding.</li>\n",
        "<li>Fit the model on the training dataset.</li>\n",
        "<ul>\n",
        "<li>To make sure the results are reproducible across different versions of Scikit-Learn, fit the model with these parameters:</li> \n",
        "<p>model = LogisticRegression(solver='lbfgs', C=1.0, random_state=42)</p>\n",
        "</ul>     \n",
        "<li>Calculate the accuracy on the validation dataset and rount it to 2 decimal digits.</li>\n",
        "</ul> \n",
        "</div>"
      ]
    },
    {
      "cell_type": "code",
      "metadata": {
        "execution": {
          "iopub.status.busy": "2021-09-20T15:44:31.484352Z",
          "iopub.execute_input": "2021-09-20T15:44:31.484585Z",
          "iopub.status.idle": "2021-09-20T15:44:31.665733Z",
          "shell.execute_reply.started": "2021-09-20T15:44:31.484554Z",
          "shell.execute_reply": "2021-09-20T15:44:31.665028Z"
        },
        "trusted": true,
        "id": "lnbwycjcR8Xb"
      },
      "source": [
        "\"\"\"Taking Care of Categorical variables\"\"\"\n",
        "y_train = (df_train['price'] >= 152).values.astype(int)\n",
        "y_val = (df_val['price'] >= 152).values.astype(int)\n",
        "y_test = (df_test['price'] >= 152).values.astype(int)\n",
        "\n",
        "del df_train['price']\n",
        "del df_val['price']\n",
        "del df_test['price']\n",
        "\n",
        "numerical.remove('price')\n",
        "\n",
        "decision = (y_val >= 152).astype(int)\n"
      ],
      "execution_count": null,
      "outputs": []
    },
    {
      "cell_type": "code",
      "metadata": {
        "colab": {
          "base_uri": "https://localhost:8080/",
          "height": 224
        },
        "id": "M6oodqw1nP4z",
        "outputId": "10a605af-22ff-4a44-f858-08b43b045f59"
      },
      "source": [
        "def calculate_accuracy(features):\n",
        "    # one-hot encoding datasets\n",
        "    dv = DictVectorizer(sparse=False)\n",
        "\n",
        "    train_dict = df_train[features].to_dict(orient='records')\n",
        "    val_dict = df_val[features].to_dict(orient='records')\n",
        "\n",
        "    X_train = dv.fit_transform(train_dict)\n",
        "    X_val = dv.transform(val_dict)\n",
        "\n",
        "    \"\"\"Fitting the Model on Training Set\"\"\"\n",
        "    model = LogisticRegression(solver='lbfgs', C=1.0, random_state=42)\n",
        "    model.fit(X_train, y_train)\n",
        "\n",
        "    \"\"\"Using the model on validation\"\"\"\n",
        "    y_pred = model.predict_proba(X_val)[:,1]\n",
        "\n",
        "    \"\"\"Setting up Decision Threshold to 0.5\"\"\"\n",
        "    decision = (y_pred >= 0.5)\n",
        "\n",
        "    \"\"\"Calculating accuracy\"\"\"\n",
        "    accuracy = (y_val == decision).mean()\n",
        "    \n",
        "\n",
        "    df_pred = pd.DataFrame()\n",
        "    df_pred['probability'] = y_pred\n",
        "    df_pred['prediction'] = decision\n",
        "    df_pred['actual'] = y_val\n",
        "    df_pred['correct'] = df_pred.prediction == df_pred.actual\n",
        "    return accuracy, df_pred\n",
        "acc, df_pred = calculate_accuracy(numerical+categorical)    \n",
        "\n",
        "print(acc)\n",
        "df_pred.head()"
      ],
      "execution_count": null,
      "outputs": [
        {
          "output_type": "stream",
          "name": "stdout",
          "text": [
            "0.786042944785276\n"
          ]
        },
        {
          "output_type": "execute_result",
          "data": {
            "text/html": [
              "<div>\n",
              "<style scoped>\n",
              "    .dataframe tbody tr th:only-of-type {\n",
              "        vertical-align: middle;\n",
              "    }\n",
              "\n",
              "    .dataframe tbody tr th {\n",
              "        vertical-align: top;\n",
              "    }\n",
              "\n",
              "    .dataframe thead th {\n",
              "        text-align: right;\n",
              "    }\n",
              "</style>\n",
              "<table border=\"1\" class=\"dataframe\">\n",
              "  <thead>\n",
              "    <tr style=\"text-align: right;\">\n",
              "      <th></th>\n",
              "      <th>probability</th>\n",
              "      <th>prediction</th>\n",
              "      <th>actual</th>\n",
              "      <th>correct</th>\n",
              "    </tr>\n",
              "  </thead>\n",
              "  <tbody>\n",
              "    <tr>\n",
              "      <th>0</th>\n",
              "      <td>0.033089</td>\n",
              "      <td>False</td>\n",
              "      <td>0</td>\n",
              "      <td>True</td>\n",
              "    </tr>\n",
              "    <tr>\n",
              "      <th>1</th>\n",
              "      <td>0.577785</td>\n",
              "      <td>True</td>\n",
              "      <td>0</td>\n",
              "      <td>False</td>\n",
              "    </tr>\n",
              "    <tr>\n",
              "      <th>2</th>\n",
              "      <td>0.394022</td>\n",
              "      <td>False</td>\n",
              "      <td>1</td>\n",
              "      <td>False</td>\n",
              "    </tr>\n",
              "    <tr>\n",
              "      <th>3</th>\n",
              "      <td>0.091863</td>\n",
              "      <td>False</td>\n",
              "      <td>0</td>\n",
              "      <td>True</td>\n",
              "    </tr>\n",
              "    <tr>\n",
              "      <th>4</th>\n",
              "      <td>0.798716</td>\n",
              "      <td>True</td>\n",
              "      <td>1</td>\n",
              "      <td>True</td>\n",
              "    </tr>\n",
              "  </tbody>\n",
              "</table>\n",
              "</div>"
            ],
            "text/plain": [
              "   probability  prediction  actual  correct\n",
              "0     0.033089       False       0     True\n",
              "1     0.577785        True       0    False\n",
              "2     0.394022       False       1    False\n",
              "3     0.091863       False       0     True\n",
              "4     0.798716        True       1     True"
            ]
          },
          "metadata": {},
          "execution_count": 72
        }
      ]
    },
    {
      "cell_type": "code",
      "metadata": {
        "colab": {
          "base_uri": "https://localhost:8080/"
        },
        "id": "44WxOW65-ZCs",
        "outputId": "4a032839-add3-4286-95a6-39df08c6a141"
      },
      "source": [
        "all_vars_accuracy,_ = calculate_accuracy(numerical+categorical)\n",
        "all_vars_accuracy.round(2)"
      ],
      "execution_count": null,
      "outputs": [
        {
          "output_type": "execute_result",
          "data": {
            "text/plain": [
              "0.79"
            ]
          },
          "metadata": {},
          "execution_count": 75
        }
      ]
    },
    {
      "cell_type": "markdown",
      "metadata": {
        "id": "QQj9ehf8R8Xb"
      },
      "source": [
        "<div style=\"background:#2b6684; font-family:cursive;padding:0.5em;border-radius:0.2em;font-size:20px;color:yellow\">Question 5:\n",
        "<ul style=\"font-family:cursive;font-size:15px;color:  white\">\n",
        "<li>We have 9 features: 7 numerical features and 2 categorical.</li>\n",
        "<li>Let's find the least useful one using the feature elimination technique.</li>\n",
        "<li>Train a model with all these features (using the same parameters as in Q4).</li>\n",
        "<li>Now exclude each feature from this set and train a model without it. Record the accuracy for each model.</li>\n",
        "<li>For each feature, calculate the difference between the original accuracy and the accuracy without the feature.</li>\n",
        "<li>Which of following feature has the smallest difference? </li>\n",
        "<ul>\n",
        "<li>neighbourhood_group</li> \n",
        "<li>room_type</li>\n",
        "<li>number_of_reviews</li> \n",
        "<li>reviews_per_month</li>\n",
        "</ul> \n",
        "</ul>\n",
        "</div>\n"
      ]
    },
    {
      "cell_type": "code",
      "metadata": {
        "colab": {
          "base_uri": "https://localhost:8080/"
        },
        "id": "7FP2tjp6zb70",
        "outputId": "eb668e68-0973-4be1-87e8-3cd963617e06"
      },
      "source": [
        "useful_features = numerical + categorical\n",
        "diff = {}\n",
        "for i in useful_features:\n",
        "  features = useful_features.copy()\n",
        "  features.remove(i)\n",
        "  acc,_ = calculate_accuracy(features)\n",
        "  diff[\"Difference in accuracy when removing %s\"%i] = all_vars_accuracy - acc\n",
        "\n",
        "diff"
      ],
      "execution_count": null,
      "outputs": [
        {
          "output_type": "execute_result",
          "data": {
            "text/plain": [
              "{'Difference in accuracy when removing availability_365': 0.0060071574642126535,\n",
              " 'Difference in accuracy when removing calculated_host_listings_count': -0.002811860940695299,\n",
              " 'Difference in accuracy when removing latitude': 0.0007668711656441118,\n",
              " 'Difference in accuracy when removing longitude': 0.0002556237218813706,\n",
              " 'Difference in accuracy when removing minimum_nights': 0.0015337423312883347,\n",
              " 'Difference in accuracy when removing neighbourhood_group': 0.03412576687116564,\n",
              " 'Difference in accuracy when removing number_of_reviews': -0.0008946830265849082,\n",
              " 'Difference in accuracy when removing reviews_per_month': 0.0002556237218813706,\n",
              " 'Difference in accuracy when removing room_type': 0.07029652351738236}"
            ]
          },
          "metadata": {},
          "execution_count": 133
        }
      ]
    },
    {
      "cell_type": "code",
      "metadata": {
        "execution": {
          "iopub.status.busy": "2021-09-20T15:50:13.132863Z",
          "iopub.execute_input": "2021-09-20T15:50:13.133122Z",
          "iopub.status.idle": "2021-09-20T15:50:13.164912Z",
          "shell.execute_reply.started": "2021-09-20T15:50:13.133087Z",
          "shell.execute_reply": "2021-09-20T15:50:13.16418Z"
        },
        "trusted": true,
        "colab": {
          "base_uri": "https://localhost:8080/",
          "height": 233
        },
        "id": "NO3t4J5nR8Xb",
        "outputId": "336992df-6d2d-450e-a9f0-5c251feb45ea"
      },
      "source": [
        "pd.DataFrame(diff.values(), index = diff.keys()).rename({0: 'differences'}, axis = 1).sort_values(by = 'differences', ascending = True).style.background_gradient('Reds')"
      ],
      "execution_count": null,
      "outputs": [
        {
          "output_type": "execute_result",
          "data": {
            "text/html": [
              "<style  type=\"text/css\" >\n",
              "#T_816bd71e_1f88_11ec_beb5_0242ac1c0002row0_col0{\n",
              "            background-color:  #fff5f0;\n",
              "            color:  #000000;\n",
              "        }#T_816bd71e_1f88_11ec_beb5_0242ac1c0002row1_col0{\n",
              "            background-color:  #fff1ea;\n",
              "            color:  #000000;\n",
              "        }#T_816bd71e_1f88_11ec_beb5_0242ac1c0002row2_col0,#T_816bd71e_1f88_11ec_beb5_0242ac1c0002row3_col0{\n",
              "            background-color:  #ffeee7;\n",
              "            color:  #000000;\n",
              "        }#T_816bd71e_1f88_11ec_beb5_0242ac1c0002row4_col0{\n",
              "            background-color:  #ffede5;\n",
              "            color:  #000000;\n",
              "        }#T_816bd71e_1f88_11ec_beb5_0242ac1c0002row5_col0{\n",
              "            background-color:  #ffebe2;\n",
              "            color:  #000000;\n",
              "        }#T_816bd71e_1f88_11ec_beb5_0242ac1c0002row6_col0{\n",
              "            background-color:  #fee1d4;\n",
              "            color:  #000000;\n",
              "        }#T_816bd71e_1f88_11ec_beb5_0242ac1c0002row7_col0{\n",
              "            background-color:  #fa6849;\n",
              "            color:  #000000;\n",
              "        }#T_816bd71e_1f88_11ec_beb5_0242ac1c0002row8_col0{\n",
              "            background-color:  #67000d;\n",
              "            color:  #f1f1f1;\n",
              "        }</style><table id=\"T_816bd71e_1f88_11ec_beb5_0242ac1c0002\" ><thead>    <tr>        <th class=\"blank level0\" ></th>        <th class=\"col_heading level0 col0\" >differences</th>    </tr></thead><tbody>\n",
              "                <tr>\n",
              "                        <th id=\"T_816bd71e_1f88_11ec_beb5_0242ac1c0002level0_row0\" class=\"row_heading level0 row0\" >Difference in accuracy when removing calculated_host_listings_count</th>\n",
              "                        <td id=\"T_816bd71e_1f88_11ec_beb5_0242ac1c0002row0_col0\" class=\"data row0 col0\" >-0.002812</td>\n",
              "            </tr>\n",
              "            <tr>\n",
              "                        <th id=\"T_816bd71e_1f88_11ec_beb5_0242ac1c0002level0_row1\" class=\"row_heading level0 row1\" >Difference in accuracy when removing number_of_reviews</th>\n",
              "                        <td id=\"T_816bd71e_1f88_11ec_beb5_0242ac1c0002row1_col0\" class=\"data row1 col0\" >-0.000895</td>\n",
              "            </tr>\n",
              "            <tr>\n",
              "                        <th id=\"T_816bd71e_1f88_11ec_beb5_0242ac1c0002level0_row2\" class=\"row_heading level0 row2\" >Difference in accuracy when removing longitude</th>\n",
              "                        <td id=\"T_816bd71e_1f88_11ec_beb5_0242ac1c0002row2_col0\" class=\"data row2 col0\" >0.000256</td>\n",
              "            </tr>\n",
              "            <tr>\n",
              "                        <th id=\"T_816bd71e_1f88_11ec_beb5_0242ac1c0002level0_row3\" class=\"row_heading level0 row3\" >Difference in accuracy when removing reviews_per_month</th>\n",
              "                        <td id=\"T_816bd71e_1f88_11ec_beb5_0242ac1c0002row3_col0\" class=\"data row3 col0\" >0.000256</td>\n",
              "            </tr>\n",
              "            <tr>\n",
              "                        <th id=\"T_816bd71e_1f88_11ec_beb5_0242ac1c0002level0_row4\" class=\"row_heading level0 row4\" >Difference in accuracy when removing latitude</th>\n",
              "                        <td id=\"T_816bd71e_1f88_11ec_beb5_0242ac1c0002row4_col0\" class=\"data row4 col0\" >0.000767</td>\n",
              "            </tr>\n",
              "            <tr>\n",
              "                        <th id=\"T_816bd71e_1f88_11ec_beb5_0242ac1c0002level0_row5\" class=\"row_heading level0 row5\" >Difference in accuracy when removing minimum_nights</th>\n",
              "                        <td id=\"T_816bd71e_1f88_11ec_beb5_0242ac1c0002row5_col0\" class=\"data row5 col0\" >0.001534</td>\n",
              "            </tr>\n",
              "            <tr>\n",
              "                        <th id=\"T_816bd71e_1f88_11ec_beb5_0242ac1c0002level0_row6\" class=\"row_heading level0 row6\" >Difference in accuracy when removing availability_365</th>\n",
              "                        <td id=\"T_816bd71e_1f88_11ec_beb5_0242ac1c0002row6_col0\" class=\"data row6 col0\" >0.006007</td>\n",
              "            </tr>\n",
              "            <tr>\n",
              "                        <th id=\"T_816bd71e_1f88_11ec_beb5_0242ac1c0002level0_row7\" class=\"row_heading level0 row7\" >Difference in accuracy when removing neighbourhood_group</th>\n",
              "                        <td id=\"T_816bd71e_1f88_11ec_beb5_0242ac1c0002row7_col0\" class=\"data row7 col0\" >0.034126</td>\n",
              "            </tr>\n",
              "            <tr>\n",
              "                        <th id=\"T_816bd71e_1f88_11ec_beb5_0242ac1c0002level0_row8\" class=\"row_heading level0 row8\" >Difference in accuracy when removing room_type</th>\n",
              "                        <td id=\"T_816bd71e_1f88_11ec_beb5_0242ac1c0002row8_col0\" class=\"data row8 col0\" >0.070297</td>\n",
              "            </tr>\n",
              "    </tbody></table>"
            ],
            "text/plain": [
              "<pandas.io.formats.style.Styler at 0x7fe099c5cd90>"
            ]
          },
          "metadata": {},
          "execution_count": 134
        }
      ]
    },
    {
      "cell_type": "markdown",
      "metadata": {
        "id": "BtCfpXQpUyG1"
      },
      "source": [
        "\n",
        "<p style=\"font-family:cursive;font-size:15px;color:  red\">Smallest Difference = number_of_reviews (0.000895) </p>"
      ]
    },
    {
      "cell_type": "markdown",
      "metadata": {
        "id": "Mx817--5FAEz"
      },
      "source": [
        "<div style=\"background:#2b6684; font-family:cursive;padding:0.5em;border-radius:0.2em;font-size:20px;color:yellow\">Question 6:\n",
        "<ul style=\"font-family:cursive;font-size:15px;color:  white\">\n",
        "<li>For this question, we'll see how to use a linear regression model from Scikit-Learn</li>\n",
        "<li>We'll need to use the original column 'price'. Apply the logarithmic transformation to this column.</li>\n",
        "<li>Fit the Ridge regression model on the training data.</li>\n",
        "<li>This model has a parameter alpha. Let's try the following values: [0, 0.01, 0.1, 1, 10]</li>\n",
        "<li>Which of these alphas leads to the best RMSE on the validation set? Round your RMSE scores to 3 decimal digits.</li>\n",
        "</ul>\n",
        "</div>\n"
      ]
    },
    {
      "cell_type": "code",
      "metadata": {
        "id": "aCbCagCZFGCm"
      },
      "source": [
        "\"\"\"Preparing Data for Linear Regression with Price Variable included\"\"\"\n",
        "df_full_train, df_test = train_test_split(df, test_size=0.2, random_state=42)\n",
        "df_train, df_val = train_test_split(df_full_train, test_size=0.2, random_state=42)\n",
        "len(df_train), len(df_val), len(df_test)\n",
        "\n",
        "df_train = df_train.reset_index(drop=True)\n",
        "df_val = df_val.reset_index(drop=True)\n",
        "df_test = df_test.reset_index(drop=True)\n",
        "\n",
        "\"\"\"Creating List of Numerical and Categorical columns\"\"\"\n",
        "categorical = [col for col in df.columns if df[col].dtype == 'object']\n",
        "numerical = [col for col in df.columns if col not in categorical]\n",
        "\n",
        "\"\"\"Apply the log transformation to the price variable using the np.log1p() function.\"\"\"\n",
        "y_train = np.log1p(df_train['price'].values)\n",
        "y_val = np.log1p(df_val['price'].values)\n",
        "y_test = np.log1p(df_test['price'].values)\n",
        "\n",
        "\n",
        "\"\"\"Make sure that the target value ('price') is not in your dataframe.\"\"\"\n",
        "del df_train['price']\n",
        "del df_val['price']\n",
        "del df_test['price']\n",
        "\n",
        "\"\"\"Taking care of Categorical Variables\"\"\"\n",
        "dv = DictVectorizer(sparse=False)\n",
        "\n",
        "train_dict = df_train[features].to_dict(orient='records')\n",
        "val_dict = df_val[features].to_dict(orient='records')\n",
        "\n",
        "X_train = dv.fit_transform(train_dict)\n",
        "X_val = dv.transform(val_dict)"
      ],
      "execution_count": null,
      "outputs": []
    },
    {
      "cell_type": "code",
      "metadata": {
        "colab": {
          "base_uri": "https://localhost:8080/"
        },
        "id": "g_BQFgFqFfNa",
        "outputId": "ec9ef0b8-c4e8-4caf-faf6-70994768d41e"
      },
      "source": [
        "scores = {}\n",
        "for alpha in [0, 0.01, 0.1, 1, 10]:\n",
        "    model = Ridge(alpha=alpha)\n",
        "    model.fit(X_train, y_train)\n",
        "    y_pred = model.predict(X_val)\n",
        "    score = np.sqrt(mean_squared_error(y_val, y_pred))\n",
        "    scores[alpha] = score.round(3)\n",
        "    print(\"RMSE with alpha = %s and not rounding to 3 digits: %s\"%(alpha, score) )\n",
        "print(\" \\nRMSE with rounding off to 3 digits\")\n",
        "print(scores)\n",
        "\n"
      ],
      "execution_count": null,
      "outputs": [
        {
          "output_type": "stream",
          "name": "stdout",
          "text": [
            "RMSE with alpha = 0 and not rounding to 3 digits: 0.6250673521367153\n",
            "RMSE with alpha = 0.01 and not rounding to 3 digits: 0.6250146864354896\n",
            "RMSE with alpha = 0.1 and not rounding to 3 digits: 0.6250139954471717\n",
            "RMSE with alpha = 1 and not rounding to 3 digits: 0.6250233985636753\n",
            "RMSE with alpha = 10 and not rounding to 3 digits: 0.6259912021507164\n",
            " \n",
            "RMSE with rounding off to 3 digits\n",
            "{0: 0.625, 0.01: 0.625, 0.1: 0.625, 1: 0.625, 10: 0.626}\n"
          ]
        }
      ]
    },
    {
      "cell_type": "code",
      "metadata": {
        "colab": {
          "base_uri": "https://localhost:8080/",
          "height": 147
        },
        "id": "E3cz3PzdFlPy",
        "outputId": "cec75c11-1dc6-47bd-f497-3173e8151945"
      },
      "source": [
        "print(\"Table of RMSE rounded to 3 digits\")\n",
        "pd.DataFrame(scores.values(), index = scores.keys()).rename({0: 'RMSE'}, axis = 1).sort_values(by = 'RMSE', ascending = True).style.background_gradient('Reds')"
      ],
      "execution_count": null,
      "outputs": [
        {
          "output_type": "execute_result",
          "data": {
            "text/html": [
              "<style  type=\"text/css\" >\n",
              "#T_66b11604_1f8e_11ec_beb5_0242ac1c0002row0_col0,#T_66b11604_1f8e_11ec_beb5_0242ac1c0002row1_col0,#T_66b11604_1f8e_11ec_beb5_0242ac1c0002row2_col0,#T_66b11604_1f8e_11ec_beb5_0242ac1c0002row3_col0{\n",
              "            background-color:  #fff5f0;\n",
              "            color:  #000000;\n",
              "        }#T_66b11604_1f8e_11ec_beb5_0242ac1c0002row4_col0{\n",
              "            background-color:  #67000d;\n",
              "            color:  #f1f1f1;\n",
              "        }</style><table id=\"T_66b11604_1f8e_11ec_beb5_0242ac1c0002\" ><thead>    <tr>        <th class=\"blank level0\" ></th>        <th class=\"col_heading level0 col0\" >RMSE</th>    </tr></thead><tbody>\n",
              "                <tr>\n",
              "                        <th id=\"T_66b11604_1f8e_11ec_beb5_0242ac1c0002level0_row0\" class=\"row_heading level0 row0\" >0.0</th>\n",
              "                        <td id=\"T_66b11604_1f8e_11ec_beb5_0242ac1c0002row0_col0\" class=\"data row0 col0\" >0.625000</td>\n",
              "            </tr>\n",
              "            <tr>\n",
              "                        <th id=\"T_66b11604_1f8e_11ec_beb5_0242ac1c0002level0_row1\" class=\"row_heading level0 row1\" >0.01</th>\n",
              "                        <td id=\"T_66b11604_1f8e_11ec_beb5_0242ac1c0002row1_col0\" class=\"data row1 col0\" >0.625000</td>\n",
              "            </tr>\n",
              "            <tr>\n",
              "                        <th id=\"T_66b11604_1f8e_11ec_beb5_0242ac1c0002level0_row2\" class=\"row_heading level0 row2\" >0.1</th>\n",
              "                        <td id=\"T_66b11604_1f8e_11ec_beb5_0242ac1c0002row2_col0\" class=\"data row2 col0\" >0.625000</td>\n",
              "            </tr>\n",
              "            <tr>\n",
              "                        <th id=\"T_66b11604_1f8e_11ec_beb5_0242ac1c0002level0_row3\" class=\"row_heading level0 row3\" >1.0</th>\n",
              "                        <td id=\"T_66b11604_1f8e_11ec_beb5_0242ac1c0002row3_col0\" class=\"data row3 col0\" >0.625000</td>\n",
              "            </tr>\n",
              "            <tr>\n",
              "                        <th id=\"T_66b11604_1f8e_11ec_beb5_0242ac1c0002level0_row4\" class=\"row_heading level0 row4\" >10.0</th>\n",
              "                        <td id=\"T_66b11604_1f8e_11ec_beb5_0242ac1c0002row4_col0\" class=\"data row4 col0\" >0.626000</td>\n",
              "            </tr>\n",
              "    </tbody></table>"
            ],
            "text/plain": [
              "<pandas.io.formats.style.Styler at 0x7fe09ce69cd0>"
            ]
          },
          "metadata": {},
          "execution_count": 168
        }
      ]
    },
    {
      "cell_type": "markdown",
      "metadata": {
        "id": "ASMloPTwVTnU"
      },
      "source": [
        "<p style=\"font-family:cursive;font-size:15px;color:  red\">$ \\large alpha$ that leads to the best RMSE = $\\large 0$ </p>"
      ]
    },
    {
      "cell_type": "code",
      "metadata": {
        "id": "KWcMi-vQVnLG"
      },
      "source": [
        ""
      ],
      "execution_count": null,
      "outputs": []
    }
  ]
}